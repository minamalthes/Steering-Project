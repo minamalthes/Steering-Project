{
 "cells": [
  {
   "cell_type": "markdown",
   "id": "c17d066c",
   "metadata": {},
   "source": [
    "# Notebook 3 - Plots and analysis\n",
    "\n",
    "***"
   ]
  },
  {
   "cell_type": "markdown",
   "id": "5a155616",
   "metadata": {},
   "source": [
    "In this notebook we will showcase most of the functions that will be useful for analysis of steering: \n",
    "1. [Ranking Shifts](#ranking-shifts)\n",
    "2. [Convergence Check](#convergence-check)\n",
    "3. [Neuron Activations for Categories](#neuron-activations-for-categories)\n",
    "4. [Neuron Activations for Tokens and Texts](#neuron-activations-for-tokens-and-texts)"
   ]
  },
  {
   "cell_type": "code",
   "execution_count": 1,
   "id": "b2daf815",
   "metadata": {},
   "outputs": [],
   "source": [
    "# Append the path to the Functions directory\n",
    "\n",
    "import sys\n",
    "sys.path.append('../Functions')\n",
    "sys.path.append('../Features')"
   ]
  },
  {
   "cell_type": "markdown",
   "id": "ea364972",
   "metadata": {},
   "source": [
    "## Functions used in this notebook:\n",
    "### From \"Ranking_shifts.py\":\n",
    "- [calculate_specific_differences](#calculate-specific-differences) - Calculate distance differences between original and steered embeddings\n",
    "- [title_ranking_difference](#title-ranking-difference) - Compare top movie rankings before and after steering\n",
    "- [rank_categories_by_difference](#rank-categories-by-difference) - Rank movie categories by mean steering effects\n",
    "- [get_most_shifted_categories](#get-most-shifted-categories) - Identify categories most affected by steering\n",
    "- [experimentation_function](#experimentation-function) - Export category shifts for single node steering for a layer\n",
    "- [plot_change_in_top_shift](#plot-change-in-top-shift) - Plot category changes across steering coefficients\n",
    "- [plot_rank_plot](#plot-rank-plot) - Visualize category ranking shifts\n",
    "\n",
    "### From \"Convergence_check.py\":\n",
    "- [convergence_check_with_vector](#steering-with-a-vector) - Plots the mean of the distance between the steered embeddings and the steering vector for a range of coefficients\n",
    "- [convergence_check_with_neuron](#steering-with-a-neuron) - plots the mean of the distance between the steered embeddings and a comparison vector (feature embedding) for a range of coefficients.\n",
    "- [convergence_by_category](#convergence-by-category) - plots the mean distances from the steered embeddings to the steering vector, for each of the categories given\n",
    "\n",
    "### From \"Activations_tokens_and_texts.py\".\n",
    "- [get_text_activations_per_layer](#get-text-activations) - Calculates the activations for all neurons in a layer\n",
    "- [plot_text_activations_per_layer](#plot-text-activations) - Plots the activation values and neuron index for all neurons in a layer\n",
    "- [compare_text_activations](#compare-text-activations) - Plots two differet texts' activations for comparison\n",
    "- [find_extreme_nodes_for_all_texts](#find-extreme-nodes) - Finds the most and least activated neurons for the texts\n",
    "- [plot_extreme_nodes_for_all_texts](#plot-extreme-nodes) - Plots the most and least activated neurons for the texts (text_index, neuron_index)\n",
    "\n",
    "### From \"Activations_categories.py\":\n",
    "- [get_category_activations](#get-category-activations) - Extract neuron activations for a category in a layer\n",
    "- [plot_category_activations](#plot-category-activations) - Plot the activations\n",
    "- [find_activation_shift](#find-activation-shift) - Find the most shifted neurons before vs. after steering\n",
    "- [create_neuron_shift_heatmap](#create-heatmap) - Create a heatmap of the most shifted neurons across categories\n",
    "- [plot_change_in_top_shifted_neurons](#plot-change-in-top-shifted-neurons) - Plot how most shifted / activated neurons are steered with varying coefficient\n",
    "\n",
    "### Other functions\n",
    "- \"Embeddings.py\": import_embedding_data_from_pkl - Loads embeddings and model data from file\n",
    "- \"Steering_vector.py\": import_steering_vector_from_pkl - Loads steering vector from file\n",
    "- \"Steering.py\": get_steered_embeddings_vector - Applies steering using a steering vector and returns the steered embeddings"
   ]
  },
  {
   "cell_type": "markdown",
   "id": "87e97e28",
   "metadata": {},
   "source": [
    "## Import Python Functions"
   ]
  },
  {
   "cell_type": "code",
   "execution_count": 2,
   "id": "1d02e043",
   "metadata": {},
   "outputs": [],
   "source": [
    "# Import needed functions\n",
    "from Embeddings import import_embedding_data_from_pkl\n",
    "from Steering_vector import import_steering_vector_from_pkl\n",
    "from Steering import get_steered_embeddings_vector, create_steered_model_output"
   ]
  },
  {
   "cell_type": "code",
   "execution_count": 3,
   "id": "f9c9acdf",
   "metadata": {},
   "outputs": [],
   "source": [
    "from Ranking_shifts import calculate_specific_differences, title_ranking_difference, rank_categories_by_difference, get_most_shifted_categories, experimentation_function, plot_change_in_top_shift, plot_rank_plot\n",
    "from Convergence_check import convergence_check_with_vector, convergence_check_with_neuron, convergence_by_category\n",
    "from Activations_categories import get_category_activations, plot_category_activations, find_activation_shift, create_neuron_shift_heatmap, plot_change_in_top_shifted_neurons\n",
    "from Activations_tokens_and_texts import get_text_activations_per_layer, plot_text_activations_per_layer, compare_text_activations, find_extreme_nodes_for_all_texts, plot_extreme_nodes_for_all_texts\n"
   ]
  },
  {
   "cell_type": "markdown",
   "id": "20835eed",
   "metadata": {},
   "source": [
    "***\n",
    "\n",
    "# Ranking Shifts"
   ]
  },
  {
   "cell_type": "markdown",
   "id": "329da966",
   "metadata": {},
   "source": [
    "The following functions are imported from the file `\"Ranking_shifts.py\"`. They are used to create a number of outputs that can be used to analyze the effect of steering on the dataset.\n"
   ]
  },
  {
   "cell_type": "code",
   "execution_count": 4,
   "id": "365e7121",
   "metadata": {},
   "outputs": [],
   "source": [
    "#from Ranking_shifts import calculate_specific_differences, title_ranking_difference, rank_categories_by_difference, get_most_shifted_categories, experimentation_function, plot_change_in_top_shift, plot_rank_plot"
   ]
  },
  {
   "cell_type": "markdown",
   "id": "06d4c7b7",
   "metadata": {},
   "source": [
    "## Setup"
   ]
  },
  {
   "cell_type": "markdown",
   "id": "1f13afa8",
   "metadata": {},
   "source": [
    "Before we start analyzing we need to import the embedding data we created in `Notebook 1`, as well as a steering vector."
   ]
  },
  {
   "cell_type": "code",
   "execution_count": 5,
   "id": "9dc41dc0",
   "metadata": {},
   "outputs": [
    {
     "name": "stdout",
     "output_type": "stream",
     "text": [
      "Importing 1.36 GB data from file Test_export_embeddings.pkl...\n",
      "Data imported from Test_export_embeddings.pkl\n",
      "Model loaded successfully.\n",
      "Embeddings loaded successfully.\n",
      "Encoded input loaded successfully.\n",
      "All texts data loaded successfully.\n",
      "Steering vectors imported from steering_vector.pkl\n",
      "Available steering vectors: 'Love' (layers: [11]), 'War' (layers: [10, 11])\n",
      "Returning steering vector for 'War' layer 11\n",
      "Created steered model output with shape: torch.Size([1000, 66, 384])\n",
      "Created steered embeddings with shape: torch.Size([1000, 384])\n"
     ]
    }
   ],
   "source": [
    "# Import the necessasry data\n",
    "data = import_embedding_data_from_pkl('Test_export_embeddings.pkl', model=True, embeddings=True, encoded_input=True, all_texts_data=True)\n",
    "model, original_embeddings, encoded_input, all_texts_data = data\n",
    "\n",
    "feature = \"War\"\n",
    "type = \"cosine\" # Chose what distance measure to use: l1, l2 or cosine\n",
    "layer_to_steer = 11  # Change this to the layer you want to analyze\n",
    "steering_coefficient = 1  # Adjust steering coefficient as needed\n",
    "\n",
    "steering_vector = import_steering_vector_from_pkl('steering_vector.pkl', feature_name=feature, layer_to_steer=layer_to_steer)\n",
    "\n",
    "# We will now create the steered embeddings. For demonstration purposes, we will steer using our steering vector and the l2 distance measure.\n",
    "steered_embeddings = get_steered_embeddings_vector(\n",
    "    model, \n",
    "    encoded_input, \n",
    "    layer_to_steer=layer_to_steer, \n",
    "    steering_coefficient=steering_coefficient, \n",
    "    steering_vector=steering_vector, \n",
    "    normalize=True\n",
    "    )"
   ]
  },
  {
   "cell_type": "markdown",
   "id": "ec25c0d4",
   "metadata": {},
   "source": [
    "After the setup we have the following:\n",
    "- `model:` the loaded Transformer (e.g. `AutoModel`) configured for inference\n",
    "- `original_embeddings:`\n",
    "- `encoded_input:`\n",
    "- `all_texts_data:`\n",
    "- `feature:` Decides what steering vector to use (e.g. War, Love)\n",
    "- `type:` Decides what difference measure to use (i.e. \"l1\", \"l2\", \"cosine\")\n",
    "- `layer_to_steer:` The layer to perform steering on\n",
    "- `steering_coefficient:` How strong the steering should be\n",
    "- `steering_vector:` The embedding of the selected feature vector\n",
    "- `steered_embeddings:` The embeddings of the steered titles\n"
   ]
  },
  {
   "cell_type": "markdown",
   "id": "496529aa",
   "metadata": {},
   "source": [
    "## Analysis"
   ]
  },
  {
   "cell_type": "code",
   "execution_count": 6,
   "id": "54ec43da",
   "metadata": {},
   "outputs": [
    {
     "name": "stdout",
     "output_type": "stream",
     "text": [
      "\n",
      "Steering | Feature: War | Coefficient: 1 | Layer: 11 | Type: cosine\n",
      "\n"
     ]
    }
   ],
   "source": [
    "print(f\"\\nSteering | Feature: {feature} | Coefficient: {steering_coefficient} | Layer: {layer_to_steer} | Type: {type}\\n\")"
   ]
  },
  {
   "cell_type": "markdown",
   "id": "eb52a53b",
   "metadata": {},
   "source": [
    "We can now analyze the effect of steering on the dataset.\n"
   ]
  },
  {
   "cell_type": "markdown",
   "id": "49c0fc67",
   "metadata": {},
   "source": [
    "### <a id=\"title-ranking-difference\"></a>Title Ranking Difference\n",
    "\n",
    "`title_ranking_difference` creates a ranking of the top 10 movies closest to our steering vector before and after steering with that vector.\n",
    "- `type` decides what distance measure to use. Is a `string`, and can be either `\"l1\"`, `\"l2\"` or `\"cosine\"`.\n"
   ]
  },
  {
   "cell_type": "markdown",
   "id": "c0a9a154",
   "metadata": {},
   "source": [
    "We have reversed the order of the cosine similarity, so that the top 10 results are the ones with the smallest distance to the steering vector.\n",
    "A lower value indicates a closer match to the steering vector, to match with the L1 and L2 distance measures."
   ]
  },
  {
   "cell_type": "code",
   "execution_count": 7,
   "id": "2efa493a",
   "metadata": {},
   "outputs": [
    {
     "name": "stdout",
     "output_type": "stream",
     "text": [
      "\n",
      "Original Ranking: Top 10 texts with closest cosine distance to steering vector:\n",
      "\n",
      "Text  Title                                    Genre               Cosine\n",
      "---------------------------------------------------------------------------\n",
      "81    Paths of Glory                           War                 0.5886\n",
      "358   The Avengers                             Adventure           0.6095\n",
      "747   Star Trek Into Darkness                  Sci-Fi              0.6132\n",
      "61    Avengers: Infinity War                   Adventure           0.6366\n",
      "25    Saving Private Ryan                      War                 0.6411\n",
      "857   The Dirty Dozen                          War                 0.6453\n",
      "130   Uri: The Surgical Strike                 War                 0.6600\n",
      "110   Star Wars: Episode VI - Return of the... Action              0.6728\n",
      "841   First Blood                              Adventure           0.6736\n",
      "511   Cowboy Bebop: Tengoku no tobira          Crime               0.6770\n",
      "\n",
      "Top result\n",
      "Title: Paths of Glory\n",
      "Description: After refusing to attack an enemy position, a general accuses the soldiers of cowardice and their commanding officer must defend them.\n",
      "\n",
      "Steered Ranking: Top 10 texts with closest cosine distance to steering vector:\n",
      "\n",
      "Text  Title                                    Genre               Cosine\n",
      "---------------------------------------------------------------------------\n",
      "747   Star Trek Into Darkness                  Sci-Fi              0.4114\n",
      "358   The Avengers                             Adventure           0.4151\n",
      "81    Paths of Glory                           War                 0.4209\n",
      "25    Saving Private Ryan                      War                 0.4502\n",
      "61    Avengers: Infinity War                   Adventure           0.4515\n",
      "857   The Dirty Dozen                          War                 0.4517\n",
      "110   Star Wars: Episode VI - Return of the... Action              0.4589\n",
      "738   Captain America: The Winter Soldier      Sci-Fi              0.4667\n",
      "511   Cowboy Bebop: Tengoku no tobira          Crime               0.4679\n",
      "841   First Blood                              Adventure           0.4726\n",
      "\n",
      "Top result\n",
      "Title: Star Trek Into Darkness\n",
      "Description: After the crew of the Enterprise find an unstoppable force of terror from within their own organization, Captain Kirk leads a manhunt to a war-zone world to capture a one-man weapon of mass destruction.\n"
     ]
    }
   ],
   "source": [
    "# Calculate the distance between the embeddings and the steering vector and rank top 10 before and after steering\n",
    "original_top_10_indices, steered_top_10_indices = title_ranking_difference(\n",
    "    original_embeddings, \n",
    "    steered_embeddings, \n",
    "    steering_vector, \n",
    "    all_texts_data, \n",
    "    type=type\n",
    "    )"
   ]
  },
  {
   "cell_type": "markdown",
   "id": "5ba17b40",
   "metadata": {},
   "source": [
    "### <a id=\"calculate-specific-differences\"></a>Calculate differences for categories\n",
    "\n",
    "`calculate_specific_differences` will calculate the difference between the embeddings and steering vector before and after steering, using the chosen distance measure.\n",
    "- `type` decides what distance measure to use. Is a `string`, and can be either `\"l1\"`, `\"l2\"` or `\"cosine\"`.\n"
   ]
  },
  {
   "cell_type": "markdown",
   "id": "46a835f7",
   "metadata": {},
   "source": [
    "The category values for difference are calculated as a mean of the difference for all the titles labeled with that category."
   ]
  },
  {
   "cell_type": "code",
   "execution_count": 8,
   "id": "c1601991",
   "metadata": {},
   "outputs": [
    {
     "name": "stdout",
     "output_type": "stream",
     "text": [
      "Calculating differences between original and steered embeddings...\n",
      "Differences calculated.\n"
     ]
    }
   ],
   "source": [
    "# Calculate the specific differences between the original and steered embeddings\n",
    "print(\"Calculating differences between original and steered embeddings...\")\n",
    "\n",
    "# Note: For cosine, this function will flip the cosine similarity to match the orientation of L1 and L2 distances.\n",
    "original_differences, steered_differences = calculate_specific_differences(original_embeddings, steered_embeddings, steering_vector, type=type)\n",
    "\n",
    "print(\"Differences calculated.\")\n",
    "# We will now use these differences to rank the categories using different plots."
   ]
  },
  {
   "cell_type": "markdown",
   "id": "57aaebd1",
   "metadata": {},
   "source": [
    "### <a id=\"rank-categories-by-difference\"></a>Rank Categories by Difference"
   ]
  },
  {
   "cell_type": "markdown",
   "id": "7721ebd6",
   "metadata": {},
   "source": [
    "`rank_categories_by_difference` will rank the categories based on the mean difference in distance to the steering vector, and print out the ranking before and after steering. It will also plot a bar graph of the mean differences for each category.\n",
    "- `original_differences` are the differences calculated by `calculate_specific_differences` from the original embeddings\n",
    "- `steered_differences` are the differences calculated by `calculate_specific_differences` from the steered embeddings\n",
    "- `type` decides what distance measure to use. Is a `string`, and can be either `\"l1\"`, `\"l2\"` or `\"cosine\"`. Note that if you change the type here, you will need to calculate the differences using `calculate_specific_differences` again with this new type.\n",
    "- `info_string` is used as title for the bar plots to keep track of the parameters used to return the result\n",
    "- `print_results=True` will print the results in text format, `=False` will not print the results\n",
    "- `remove_low_count` will only use categories that have more than 25 titles, as the mean embedding may not be as representative for \"smaller category\"\n",
    "- `plot_graph=True` will plot the bar graph of the mean differences for each category, `=False` will not plot the graph\n"
   ]
  },
  {
   "cell_type": "code",
   "execution_count": 9,
   "id": "ee087f86",
   "metadata": {},
   "outputs": [
    {
     "name": "stdout",
     "output_type": "stream",
     "text": [
      "\n",
      "Original Category Ranking by cosine difference:\n",
      "==================================================\n",
      "Genre                Mean diff       Count     \n",
      "--------------------------------------------------\n",
      "Romance              1.0375          65        \n",
      "Comedy               1.0192          82        \n",
      "Biography            1.0039          70        \n",
      "Drama                1.0037          198       \n",
      "Mystery              0.9757          34        \n",
      "Adventure            0.9504          102       \n",
      "Thriller             0.8963          50        \n",
      "Crime                0.8942          158       \n",
      "Sci-Fi               0.8891          51        \n",
      "War                  0.8149          43        \n",
      "\n",
      "Steered Category Ranking by cosine difference:\n",
      "==================================================\n",
      "Genre                Mean diff       Count     \n",
      "--------------------------------------------------\n",
      "Romance              0.7767          65        \n",
      "Comedy               0.7696          82        \n",
      "Biography            0.7560          70        \n",
      "Drama                0.7548          198       \n",
      "Mystery              0.7341          34        \n",
      "Adventure            0.7008          102       \n",
      "Thriller             0.6617          50        \n",
      "Crime                0.6600          158       \n",
      "Sci-Fi               0.6534          51        \n",
      "War                  0.5925          43        \n"
     ]
    },
    {
     "data": {
      "application/vnd.plotly.v1+json": {
       "config": {
        "plotlyServerURL": "https://plot.ly"
       },
       "data": [
        {
         "hovertemplate": "%{hovertext}<extra></extra>",
         "hovertext": [
          "Genre: Romance<br>Original Mean Difference: 1.0375<br>Count: 65"
         ],
         "marker": {
          "color": "grey"
         },
         "name": "Original",
         "opacity": 1,
         "showlegend": true,
         "type": "bar",
         "x": [
          "Romance"
         ],
         "y": [
          1.0375110688261115
         ]
        },
        {
         "hovertemplate": "%{hovertext}<extra></extra>",
         "hovertext": [
          "Genre: Romance<br>Steered Mean Difference: 0.7767<br>Count: 65"
         ],
         "marker": {
          "color": "blue"
         },
         "name": "Steered",
         "opacity": 1,
         "showlegend": true,
         "type": "bar",
         "x": [
          "Romance"
         ],
         "y": [
          0.7766856679549584
         ]
        },
        {
         "hovertemplate": "%{hovertext}<extra></extra>",
         "hovertext": [
          "Genre: Comedy<br>Original Mean Difference: 1.0192<br>Count: 82"
         ],
         "marker": {
          "color": "grey"
         },
         "name": "Original",
         "opacity": 1,
         "showlegend": false,
         "type": "bar",
         "x": [
          "Comedy"
         ],
         "y": [
          1.01922332283064
         ]
        },
        {
         "hovertemplate": "%{hovertext}<extra></extra>",
         "hovertext": [
          "Genre: Comedy<br>Steered Mean Difference: 0.7696<br>Count: 82"
         ],
         "marker": {
          "color": "blue"
         },
         "name": "Steered",
         "opacity": 1,
         "showlegend": false,
         "type": "bar",
         "x": [
          "Comedy"
         ],
         "y": [
          0.7695698668135376
         ]
        },
        {
         "hovertemplate": "%{hovertext}<extra></extra>",
         "hovertext": [
          "Genre: Biography<br>Original Mean Difference: 1.0039<br>Count: 70"
         ],
         "marker": {
          "color": "grey"
         },
         "name": "Original",
         "opacity": 1,
         "showlegend": false,
         "type": "bar",
         "x": [
          "Biography"
         ],
         "y": [
          1.0039302457855748
         ]
        },
        {
         "hovertemplate": "%{hovertext}<extra></extra>",
         "hovertext": [
          "Genre: Biography<br>Steered Mean Difference: 0.7560<br>Count: 70"
         ],
         "marker": {
          "color": "blue"
         },
         "name": "Steered",
         "opacity": 1,
         "showlegend": false,
         "type": "bar",
         "x": [
          "Biography"
         ],
         "y": [
          0.7560316305075373
         ]
        },
        {
         "hovertemplate": "%{hovertext}<extra></extra>",
         "hovertext": [
          "Genre: Drama<br>Original Mean Difference: 1.0037<br>Count: 198"
         ],
         "marker": {
          "color": "grey"
         },
         "name": "Original",
         "opacity": 1,
         "showlegend": false,
         "type": "bar",
         "x": [
          "Drama"
         ],
         "y": [
          1.003706488337349
         ]
        },
        {
         "hovertemplate": "%{hovertext}<extra></extra>",
         "hovertext": [
          "Genre: Drama<br>Steered Mean Difference: 0.7548<br>Count: 198"
         ],
         "marker": {
          "color": "blue"
         },
         "name": "Steered",
         "opacity": 1,
         "showlegend": false,
         "type": "bar",
         "x": [
          "Drama"
         ],
         "y": [
          0.7547532476042632
         ]
        },
        {
         "hovertemplate": "%{hovertext}<extra></extra>",
         "hovertext": [
          "Genre: Mystery<br>Original Mean Difference: 0.9757<br>Count: 34"
         ],
         "marker": {
          "color": "grey"
         },
         "name": "Original",
         "opacity": 1,
         "showlegend": false,
         "type": "bar",
         "x": [
          "Mystery"
         ],
         "y": [
          0.9757454160820035
         ]
        },
        {
         "hovertemplate": "%{hovertext}<extra></extra>",
         "hovertext": [
          "Genre: Mystery<br>Steered Mean Difference: 0.7341<br>Count: 34"
         ],
         "marker": {
          "color": "blue"
         },
         "name": "Steered",
         "opacity": 1,
         "showlegend": false,
         "type": "bar",
         "x": [
          "Mystery"
         ],
         "y": [
          0.7341040916302625
         ]
        },
        {
         "hovertemplate": "%{hovertext}<extra></extra>",
         "hovertext": [
          "Genre: Adventure<br>Original Mean Difference: 0.9504<br>Count: 102"
         ],
         "marker": {
          "color": "grey"
         },
         "name": "Original",
         "opacity": 1,
         "showlegend": false,
         "type": "bar",
         "x": [
          "Adventure"
         ],
         "y": [
          0.9503809886153641
         ]
        },
        {
         "hovertemplate": "%{hovertext}<extra></extra>",
         "hovertext": [
          "Genre: Adventure<br>Steered Mean Difference: 0.7008<br>Count: 102"
         ],
         "marker": {
          "color": "blue"
         },
         "name": "Steered",
         "opacity": 1,
         "showlegend": false,
         "type": "bar",
         "x": [
          "Adventure"
         ],
         "y": [
          0.70078153689118
         ]
        },
        {
         "hovertemplate": "%{hovertext}<extra></extra>",
         "hovertext": [
          "Genre: Thriller<br>Original Mean Difference: 0.8963<br>Count: 50"
         ],
         "marker": {
          "color": "grey"
         },
         "name": "Original",
         "opacity": 1,
         "showlegend": false,
         "type": "bar",
         "x": [
          "Thriller"
         ],
         "y": [
          0.8962509096413851
         ]
        },
        {
         "hovertemplate": "%{hovertext}<extra></extra>",
         "hovertext": [
          "Genre: Thriller<br>Steered Mean Difference: 0.6617<br>Count: 50"
         ],
         "marker": {
          "color": "blue"
         },
         "name": "Steered",
         "opacity": 1,
         "showlegend": false,
         "type": "bar",
         "x": [
          "Thriller"
         ],
         "y": [
          0.6617493757605553
         ]
        },
        {
         "hovertemplate": "%{hovertext}<extra></extra>",
         "hovertext": [
          "Genre: Crime<br>Original Mean Difference: 0.8942<br>Count: 158"
         ],
         "marker": {
          "color": "grey"
         },
         "name": "Original",
         "opacity": 1,
         "showlegend": false,
         "type": "bar",
         "x": [
          "Crime"
         ],
         "y": [
          0.8941738927100278
         ]
        },
        {
         "hovertemplate": "%{hovertext}<extra></extra>",
         "hovertext": [
          "Genre: Crime<br>Steered Mean Difference: 0.6600<br>Count: 158"
         ],
         "marker": {
          "color": "blue"
         },
         "name": "Steered",
         "opacity": 1,
         "showlegend": false,
         "type": "bar",
         "x": [
          "Crime"
         ],
         "y": [
          0.6600341711994968
         ]
        },
        {
         "hovertemplate": "%{hovertext}<extra></extra>",
         "hovertext": [
          "Genre: Sci-Fi<br>Original Mean Difference: 0.8891<br>Count: 51"
         ],
         "marker": {
          "color": "grey"
         },
         "name": "Original",
         "opacity": 1,
         "showlegend": false,
         "type": "bar",
         "x": [
          "Sci-Fi"
         ],
         "y": [
          0.8890984592794934
         ]
        },
        {
         "hovertemplate": "%{hovertext}<extra></extra>",
         "hovertext": [
          "Genre: Sci-Fi<br>Steered Mean Difference: 0.6534<br>Count: 51"
         ],
         "marker": {
          "color": "blue"
         },
         "name": "Steered",
         "opacity": 1,
         "showlegend": false,
         "type": "bar",
         "x": [
          "Sci-Fi"
         ],
         "y": [
          0.6533600267241982
         ]
        },
        {
         "hovertemplate": "%{hovertext}<extra></extra>",
         "hovertext": [
          "Genre: War<br>Original Mean Difference: 0.8149<br>Count: 43"
         ],
         "marker": {
          "color": "grey"
         },
         "name": "Original",
         "opacity": 1,
         "showlegend": false,
         "type": "bar",
         "x": [
          "War"
         ],
         "y": [
          0.8149283076095026
         ]
        },
        {
         "hovertemplate": "%{hovertext}<extra></extra>",
         "hovertext": [
          "Genre: War<br>Steered Mean Difference: 0.5925<br>Count: 43"
         ],
         "marker": {
          "color": "blue"
         },
         "name": "Steered",
         "opacity": 1,
         "showlegend": false,
         "type": "bar",
         "x": [
          "War"
         ],
         "y": [
          0.5924848817115607
         ]
        }
       ],
       "layout": {
        "barmode": "overlay",
        "height": 500,
        "showlegend": true,
        "template": {
         "data": {
          "bar": [
           {
            "error_x": {
             "color": "#2a3f5f"
            },
            "error_y": {
             "color": "#2a3f5f"
            },
            "marker": {
             "line": {
              "color": "#E5ECF6",
              "width": 0.5
             },
             "pattern": {
              "fillmode": "overlay",
              "size": 10,
              "solidity": 0.2
             }
            },
            "type": "bar"
           }
          ],
          "barpolar": [
           {
            "marker": {
             "line": {
              "color": "#E5ECF6",
              "width": 0.5
             },
             "pattern": {
              "fillmode": "overlay",
              "size": 10,
              "solidity": 0.2
             }
            },
            "type": "barpolar"
           }
          ],
          "carpet": [
           {
            "aaxis": {
             "endlinecolor": "#2a3f5f",
             "gridcolor": "white",
             "linecolor": "white",
             "minorgridcolor": "white",
             "startlinecolor": "#2a3f5f"
            },
            "baxis": {
             "endlinecolor": "#2a3f5f",
             "gridcolor": "white",
             "linecolor": "white",
             "minorgridcolor": "white",
             "startlinecolor": "#2a3f5f"
            },
            "type": "carpet"
           }
          ],
          "choropleth": [
           {
            "colorbar": {
             "outlinewidth": 0,
             "ticks": ""
            },
            "type": "choropleth"
           }
          ],
          "contour": [
           {
            "colorbar": {
             "outlinewidth": 0,
             "ticks": ""
            },
            "colorscale": [
             [
              0,
              "#0d0887"
             ],
             [
              0.1111111111111111,
              "#46039f"
             ],
             [
              0.2222222222222222,
              "#7201a8"
             ],
             [
              0.3333333333333333,
              "#9c179e"
             ],
             [
              0.4444444444444444,
              "#bd3786"
             ],
             [
              0.5555555555555556,
              "#d8576b"
             ],
             [
              0.6666666666666666,
              "#ed7953"
             ],
             [
              0.7777777777777778,
              "#fb9f3a"
             ],
             [
              0.8888888888888888,
              "#fdca26"
             ],
             [
              1,
              "#f0f921"
             ]
            ],
            "type": "contour"
           }
          ],
          "contourcarpet": [
           {
            "colorbar": {
             "outlinewidth": 0,
             "ticks": ""
            },
            "type": "contourcarpet"
           }
          ],
          "heatmap": [
           {
            "colorbar": {
             "outlinewidth": 0,
             "ticks": ""
            },
            "colorscale": [
             [
              0,
              "#0d0887"
             ],
             [
              0.1111111111111111,
              "#46039f"
             ],
             [
              0.2222222222222222,
              "#7201a8"
             ],
             [
              0.3333333333333333,
              "#9c179e"
             ],
             [
              0.4444444444444444,
              "#bd3786"
             ],
             [
              0.5555555555555556,
              "#d8576b"
             ],
             [
              0.6666666666666666,
              "#ed7953"
             ],
             [
              0.7777777777777778,
              "#fb9f3a"
             ],
             [
              0.8888888888888888,
              "#fdca26"
             ],
             [
              1,
              "#f0f921"
             ]
            ],
            "type": "heatmap"
           }
          ],
          "histogram": [
           {
            "marker": {
             "pattern": {
              "fillmode": "overlay",
              "size": 10,
              "solidity": 0.2
             }
            },
            "type": "histogram"
           }
          ],
          "histogram2d": [
           {
            "colorbar": {
             "outlinewidth": 0,
             "ticks": ""
            },
            "colorscale": [
             [
              0,
              "#0d0887"
             ],
             [
              0.1111111111111111,
              "#46039f"
             ],
             [
              0.2222222222222222,
              "#7201a8"
             ],
             [
              0.3333333333333333,
              "#9c179e"
             ],
             [
              0.4444444444444444,
              "#bd3786"
             ],
             [
              0.5555555555555556,
              "#d8576b"
             ],
             [
              0.6666666666666666,
              "#ed7953"
             ],
             [
              0.7777777777777778,
              "#fb9f3a"
             ],
             [
              0.8888888888888888,
              "#fdca26"
             ],
             [
              1,
              "#f0f921"
             ]
            ],
            "type": "histogram2d"
           }
          ],
          "histogram2dcontour": [
           {
            "colorbar": {
             "outlinewidth": 0,
             "ticks": ""
            },
            "colorscale": [
             [
              0,
              "#0d0887"
             ],
             [
              0.1111111111111111,
              "#46039f"
             ],
             [
              0.2222222222222222,
              "#7201a8"
             ],
             [
              0.3333333333333333,
              "#9c179e"
             ],
             [
              0.4444444444444444,
              "#bd3786"
             ],
             [
              0.5555555555555556,
              "#d8576b"
             ],
             [
              0.6666666666666666,
              "#ed7953"
             ],
             [
              0.7777777777777778,
              "#fb9f3a"
             ],
             [
              0.8888888888888888,
              "#fdca26"
             ],
             [
              1,
              "#f0f921"
             ]
            ],
            "type": "histogram2dcontour"
           }
          ],
          "mesh3d": [
           {
            "colorbar": {
             "outlinewidth": 0,
             "ticks": ""
            },
            "type": "mesh3d"
           }
          ],
          "parcoords": [
           {
            "line": {
             "colorbar": {
              "outlinewidth": 0,
              "ticks": ""
             }
            },
            "type": "parcoords"
           }
          ],
          "pie": [
           {
            "automargin": true,
            "type": "pie"
           }
          ],
          "scatter": [
           {
            "fillpattern": {
             "fillmode": "overlay",
             "size": 10,
             "solidity": 0.2
            },
            "type": "scatter"
           }
          ],
          "scatter3d": [
           {
            "line": {
             "colorbar": {
              "outlinewidth": 0,
              "ticks": ""
             }
            },
            "marker": {
             "colorbar": {
              "outlinewidth": 0,
              "ticks": ""
             }
            },
            "type": "scatter3d"
           }
          ],
          "scattercarpet": [
           {
            "marker": {
             "colorbar": {
              "outlinewidth": 0,
              "ticks": ""
             }
            },
            "type": "scattercarpet"
           }
          ],
          "scattergeo": [
           {
            "marker": {
             "colorbar": {
              "outlinewidth": 0,
              "ticks": ""
             }
            },
            "type": "scattergeo"
           }
          ],
          "scattergl": [
           {
            "marker": {
             "colorbar": {
              "outlinewidth": 0,
              "ticks": ""
             }
            },
            "type": "scattergl"
           }
          ],
          "scattermap": [
           {
            "marker": {
             "colorbar": {
              "outlinewidth": 0,
              "ticks": ""
             }
            },
            "type": "scattermap"
           }
          ],
          "scattermapbox": [
           {
            "marker": {
             "colorbar": {
              "outlinewidth": 0,
              "ticks": ""
             }
            },
            "type": "scattermapbox"
           }
          ],
          "scatterpolar": [
           {
            "marker": {
             "colorbar": {
              "outlinewidth": 0,
              "ticks": ""
             }
            },
            "type": "scatterpolar"
           }
          ],
          "scatterpolargl": [
           {
            "marker": {
             "colorbar": {
              "outlinewidth": 0,
              "ticks": ""
             }
            },
            "type": "scatterpolargl"
           }
          ],
          "scatterternary": [
           {
            "marker": {
             "colorbar": {
              "outlinewidth": 0,
              "ticks": ""
             }
            },
            "type": "scatterternary"
           }
          ],
          "surface": [
           {
            "colorbar": {
             "outlinewidth": 0,
             "ticks": ""
            },
            "colorscale": [
             [
              0,
              "#0d0887"
             ],
             [
              0.1111111111111111,
              "#46039f"
             ],
             [
              0.2222222222222222,
              "#7201a8"
             ],
             [
              0.3333333333333333,
              "#9c179e"
             ],
             [
              0.4444444444444444,
              "#bd3786"
             ],
             [
              0.5555555555555556,
              "#d8576b"
             ],
             [
              0.6666666666666666,
              "#ed7953"
             ],
             [
              0.7777777777777778,
              "#fb9f3a"
             ],
             [
              0.8888888888888888,
              "#fdca26"
             ],
             [
              1,
              "#f0f921"
             ]
            ],
            "type": "surface"
           }
          ],
          "table": [
           {
            "cells": {
             "fill": {
              "color": "#EBF0F8"
             },
             "line": {
              "color": "white"
             }
            },
            "header": {
             "fill": {
              "color": "#C8D4E3"
             },
             "line": {
              "color": "white"
             }
            },
            "type": "table"
           }
          ]
         },
         "layout": {
          "annotationdefaults": {
           "arrowcolor": "#2a3f5f",
           "arrowhead": 0,
           "arrowwidth": 1
          },
          "autotypenumbers": "strict",
          "coloraxis": {
           "colorbar": {
            "outlinewidth": 0,
            "ticks": ""
           }
          },
          "colorscale": {
           "diverging": [
            [
             0,
             "#8e0152"
            ],
            [
             0.1,
             "#c51b7d"
            ],
            [
             0.2,
             "#de77ae"
            ],
            [
             0.3,
             "#f1b6da"
            ],
            [
             0.4,
             "#fde0ef"
            ],
            [
             0.5,
             "#f7f7f7"
            ],
            [
             0.6,
             "#e6f5d0"
            ],
            [
             0.7,
             "#b8e186"
            ],
            [
             0.8,
             "#7fbc41"
            ],
            [
             0.9,
             "#4d9221"
            ],
            [
             1,
             "#276419"
            ]
           ],
           "sequential": [
            [
             0,
             "#0d0887"
            ],
            [
             0.1111111111111111,
             "#46039f"
            ],
            [
             0.2222222222222222,
             "#7201a8"
            ],
            [
             0.3333333333333333,
             "#9c179e"
            ],
            [
             0.4444444444444444,
             "#bd3786"
            ],
            [
             0.5555555555555556,
             "#d8576b"
            ],
            [
             0.6666666666666666,
             "#ed7953"
            ],
            [
             0.7777777777777778,
             "#fb9f3a"
            ],
            [
             0.8888888888888888,
             "#fdca26"
            ],
            [
             1,
             "#f0f921"
            ]
           ],
           "sequentialminus": [
            [
             0,
             "#0d0887"
            ],
            [
             0.1111111111111111,
             "#46039f"
            ],
            [
             0.2222222222222222,
             "#7201a8"
            ],
            [
             0.3333333333333333,
             "#9c179e"
            ],
            [
             0.4444444444444444,
             "#bd3786"
            ],
            [
             0.5555555555555556,
             "#d8576b"
            ],
            [
             0.6666666666666666,
             "#ed7953"
            ],
            [
             0.7777777777777778,
             "#fb9f3a"
            ],
            [
             0.8888888888888888,
             "#fdca26"
            ],
            [
             1,
             "#f0f921"
            ]
           ]
          },
          "colorway": [
           "#636efa",
           "#EF553B",
           "#00cc96",
           "#ab63fa",
           "#FFA15A",
           "#19d3f3",
           "#FF6692",
           "#B6E880",
           "#FF97FF",
           "#FECB52"
          ],
          "font": {
           "color": "#2a3f5f"
          },
          "geo": {
           "bgcolor": "white",
           "lakecolor": "white",
           "landcolor": "#E5ECF6",
           "showlakes": true,
           "showland": true,
           "subunitcolor": "white"
          },
          "hoverlabel": {
           "align": "left"
          },
          "hovermode": "closest",
          "mapbox": {
           "style": "light"
          },
          "paper_bgcolor": "white",
          "plot_bgcolor": "#E5ECF6",
          "polar": {
           "angularaxis": {
            "gridcolor": "white",
            "linecolor": "white",
            "ticks": ""
           },
           "bgcolor": "#E5ECF6",
           "radialaxis": {
            "gridcolor": "white",
            "linecolor": "white",
            "ticks": ""
           }
          },
          "scene": {
           "xaxis": {
            "backgroundcolor": "#E5ECF6",
            "gridcolor": "white",
            "gridwidth": 2,
            "linecolor": "white",
            "showbackground": true,
            "ticks": "",
            "zerolinecolor": "white"
           },
           "yaxis": {
            "backgroundcolor": "#E5ECF6",
            "gridcolor": "white",
            "gridwidth": 2,
            "linecolor": "white",
            "showbackground": true,
            "ticks": "",
            "zerolinecolor": "white"
           },
           "zaxis": {
            "backgroundcolor": "#E5ECF6",
            "gridcolor": "white",
            "gridwidth": 2,
            "linecolor": "white",
            "showbackground": true,
            "ticks": "",
            "zerolinecolor": "white"
           }
          },
          "shapedefaults": {
           "line": {
            "color": "#2a3f5f"
           }
          },
          "ternary": {
           "aaxis": {
            "gridcolor": "white",
            "linecolor": "white",
            "ticks": ""
           },
           "baxis": {
            "gridcolor": "white",
            "linecolor": "white",
            "ticks": ""
           },
           "bgcolor": "#E5ECF6",
           "caxis": {
            "gridcolor": "white",
            "linecolor": "white",
            "ticks": ""
           }
          },
          "title": {
           "x": 0.05
          },
          "xaxis": {
           "automargin": true,
           "gridcolor": "white",
           "linecolor": "white",
           "ticks": "",
           "title": {
            "standoff": 15
           },
           "zerolinecolor": "white",
           "zerolinewidth": 2
          },
          "yaxis": {
           "automargin": true,
           "gridcolor": "white",
           "linecolor": "white",
           "ticks": "",
           "title": {
            "standoff": 15
           },
           "zerolinecolor": "white",
           "zerolinewidth": 2
          }
         }
        },
        "title": {
         "text": "Category Ranking by Mean Difference (25+ Movies) | Steered layer: 11 | Coeff: 1 | Feature: War"
        },
        "width": 900,
        "xaxis": {
         "tickangle": -45,
         "title": {
          "text": "Genre"
         }
        },
        "yaxis": {
         "title": {
          "text": "Absolute Mean Difference (cosine)"
         }
        }
       }
      }
     },
     "metadata": {},
     "output_type": "display_data"
    }
   ],
   "source": [
    "info_string = f'Steered layer: {layer_to_steer} | Coeff: {steering_coefficient} | Feature: {feature}' # Information string to use in the title of the plots\n",
    "\n",
    "filtered_genres, original_filtered_genres, genre_differences, original_genre_differences, genre_means = rank_categories_by_difference(\n",
    "    all_texts_data, \n",
    "    original_differences, \n",
    "    steered_differences, \n",
    "    type, # If you change the type you need to calculate the differences again\n",
    "    info_string,\n",
    "    print_results=True, # Print the results to the console\n",
    "    remove_low_count=True, # Remove categories with fewer than 25 titles\n",
    "    plot_graph=True # Plot the bar graph of the mean differences for each category\n",
    "    )\n",
    "\n",
    "# Higher difference means further away from the steering vector"
   ]
  },
  {
   "cell_type": "markdown",
   "id": "43c986fa",
   "metadata": {},
   "source": [
    "### <a id=\"get-most-shifted-categories\"></a>Most Shifted Categories"
   ]
  },
  {
   "cell_type": "markdown",
   "id": "71ae20fd",
   "metadata": {},
   "source": [
    "`get_most_shifted_categories` will print the categories that has the largest difference between the original and steered distance to the steering vector\n",
    "- `original_differences` are the differences calculated by `calculate_specific_differences` from the original embeddings\n",
    "- `steered_differences` are the differences calculated by `calculate_specific_differences` from the steered embeddings\n",
    "- `remove_low_count` will only use categories that have more than 25 titles, as the mean embedding may not be as representative for \"smaller category\"\n",
    "- `top_n` is the number of categories to print the results for\n",
    "- `print_results=True` will print the ranking of most shifted categories, `=False` will not print the ranking"
   ]
  },
  {
   "cell_type": "code",
   "execution_count": 10,
   "id": "ebd11eb4",
   "metadata": {},
   "outputs": [
    {
     "name": "stdout",
     "output_type": "stream",
     "text": [
      "\n",
      "Top 10 Most Shifted Categories (25+ Movies):\n",
      "======================================================================\n",
      "Genre                Shift      Original   Steered    Count   \n",
      "----------------------------------------------------------------------\n",
      "Romance              -0.2608    1.0375     0.7767     65      \n",
      "Comedy               -0.2497    1.0192     0.7696     82      \n",
      "Adventure            -0.2496    0.9504     0.7008     102     \n",
      "Drama                -0.2490    1.0037     0.7548     198     \n",
      "Biography            -0.2479    1.0039     0.7560     70      \n",
      "Mystery              -0.2416    0.9757     0.7341     34      \n",
      "Sci-Fi               -0.2357    0.8891     0.6534     51      \n",
      "Thriller             -0.2345    0.8963     0.6617     50      \n",
      "Crime                -0.2341    0.8942     0.6600     158     \n",
      "War                  -0.2224    0.8149     0.5925     43      \n"
     ]
    }
   ],
   "source": [
    "# Prints the most shifted categories based on the differences calculated above. Again, lower distance means closer to the steering vector.\n",
    "get_most_shifted_categories(\n",
    "    all_texts_data, \n",
    "    original_differences, \n",
    "    steered_differences, \n",
    "    remove_low_count=True, \n",
    "    top_n=10, \n",
    "    print_results=True\n",
    ");\n"
   ]
  },
  {
   "cell_type": "markdown",
   "id": "43b6f6d3",
   "metadata": {},
   "source": [
    "### <a id=\"experimentation-function\"></a>Experimentation Function\n",
    "\n",
    "The `experimentation_function` allows you to choose a layer and a steering coefficient, and will then steer each node in that layer one at a time. The results are exported to a file and look like the table above. This allows for easier analysis of the nodes by a LLM such as ChatGPT, which can look for patterns and outliers in how steering on the different nodes affect the ranking and shifts.\n"
   ]
  },
  {
   "cell_type": "code",
   "execution_count": 11,
   "id": "1a1841d1",
   "metadata": {},
   "outputs": [
    {
     "data": {
      "text/plain": [
       "'\\nexperimentation_function(\\n    all_texts_data, \\n    type, \\n    layer_to_steer, \\n    steering_coefficient,\\n    steering_vector, \\n    print_results=True, \\n    remove_low_count=True, \\n    plot_graph=False\\n)\\n'"
      ]
     },
     "execution_count": 11,
     "metadata": {},
     "output_type": "execute_result"
    }
   ],
   "source": [
    "# This is how you can call the experimentation function\n",
    "# Note that it will take some time to run as it runs through all nodes in a layer one at a time.\n",
    "\n",
    "'''\n",
    "experimentation_function(\n",
    "    all_texts_data, \n",
    "    type, \n",
    "    layer_to_steer, \n",
    "    steering_coefficient,\n",
    "    steering_vector, \n",
    "    print_results=True, \n",
    "    remove_low_count=True, \n",
    "    plot_graph=False\n",
    ")\n",
    "'''\n",
    "# This will export to a file called \"ranked_categories_layer_{layer_to_steer}_coeff_{steering_coefficient}_feature_{feature}.txt\""
   ]
  },
  {
   "cell_type": "markdown",
   "id": "f01b2664",
   "metadata": {},
   "source": [
    "### <a id=\"plot-change-in-top-shift\"></a>Plot Change in Top Shift"
   ]
  },
  {
   "cell_type": "markdown",
   "id": "0370de26",
   "metadata": {},
   "source": [
    "To further analyze the steering effect, we can plot the change in top shifts across steering coefficients using the `plot_change_in_top_shift` function.\n",
    "The plot shows how the categories change in distance to the steering vector as we vary the steering coefficient.\n",
    "\n",
    "`plot_change_in_top_shift` will plot the shift for each category at different steering coefficients. The plot shows how the categories change in shift to the steering vector as we vary the steering coefficient. Note that this is not the derivative, but simply a measure of how far the distance is between the categories and the steering vector at a specific coefficient.\n",
    "- `steering_coefficient_start` is the first steering coefficient (i.e. the beginning of the x-axis)\n",
    "- `steering_coefficient_end` is the last steering coefficient (i.e. the end of the x-axis)\n",
    "- `number_of_steps` are the number of points for which to do the analysis (i.e. the number of steering coefficients to analyze from start to end)"
   ]
  },
  {
   "cell_type": "code",
   "execution_count": 12,
   "id": "811f9ed8",
   "metadata": {},
   "outputs": [
    {
     "name": "stdout",
     "output_type": "stream",
     "text": [
      "Analyzing shifts across 10 steering coefficients from 0.0 to 15\n",
      "\n",
      "Processing steering coefficient 1/10: 0.000\n",
      "Created steered model output with shape: torch.Size([1000, 66, 384])\n",
      "Created steered embeddings with shape: torch.Size([1000, 384])\n",
      "\n",
      "Processing steering coefficient 2/10: 1.667\n",
      "Created steered model output with shape: torch.Size([1000, 66, 384])\n",
      "Created steered embeddings with shape: torch.Size([1000, 384])\n",
      "\n",
      "Processing steering coefficient 3/10: 3.333\n",
      "Created steered model output with shape: torch.Size([1000, 66, 384])\n",
      "Created steered embeddings with shape: torch.Size([1000, 384])\n",
      "\n",
      "Processing steering coefficient 4/10: 5.000\n",
      "Created steered model output with shape: torch.Size([1000, 66, 384])\n",
      "Created steered embeddings with shape: torch.Size([1000, 384])\n",
      "\n",
      "Processing steering coefficient 5/10: 6.667\n",
      "Created steered model output with shape: torch.Size([1000, 66, 384])\n",
      "Created steered embeddings with shape: torch.Size([1000, 384])\n",
      "\n",
      "Processing steering coefficient 6/10: 8.333\n",
      "Created steered model output with shape: torch.Size([1000, 66, 384])\n",
      "Created steered embeddings with shape: torch.Size([1000, 384])\n",
      "\n",
      "Processing steering coefficient 7/10: 10.000\n",
      "Created steered model output with shape: torch.Size([1000, 66, 384])\n",
      "Created steered embeddings with shape: torch.Size([1000, 384])\n",
      "\n",
      "Processing steering coefficient 8/10: 11.667\n",
      "Created steered model output with shape: torch.Size([1000, 66, 384])\n",
      "Created steered embeddings with shape: torch.Size([1000, 384])\n",
      "\n",
      "Processing steering coefficient 9/10: 13.333\n",
      "Created steered model output with shape: torch.Size([1000, 66, 384])\n",
      "Created steered embeddings with shape: torch.Size([1000, 384])\n",
      "\n",
      "Processing steering coefficient 10/10: 15.000\n",
      "Created steered model output with shape: torch.Size([1000, 66, 384])\n",
      "Created steered embeddings with shape: torch.Size([1000, 384])\n"
     ]
    },
    {
     "data": {
      "application/vnd.plotly.v1+json": {
       "config": {
        "plotlyServerURL": "https://plot.ly"
       },
       "data": [
        {
         "line": {
          "width": 2
         },
         "marker": {
          "size": 6
         },
         "mode": "lines+markers",
         "name": "War",
         "type": "scatter",
         "x": {
          "bdata": "AAAAAFVV1T9VVVVAAACgQFVV1UBWVQVBAAAgQauqOkFVVVVBAABwQQ==",
          "dtype": "f4"
         },
         "y": [
          0,
          -0.34060183565977004,
          -0.5378313305419544,
          -0.6424299469867418,
          -0.6999655842434528,
          -0.7337754623487938,
          -0.7549513140043547,
          -0.7689560421330984,
          -0.7786450599168622,
          -0.785602499406005
         ]
        },
        {
         "line": {
          "width": 2
         },
         "marker": {
          "size": 6
         },
         "mode": "lines+markers",
         "name": "Sci-Fi",
         "type": "scatter",
         "x": {
          "bdata": "AAAAAFVV1T9VVVVAAACgQFVV1UBWVQVBAAAgQauqOkFVVVVBAABwQQ==",
          "dtype": "f4"
         },
         "y": [
          0,
          -0.36539776795817647,
          -0.5863308412497681,
          -0.7036032194326467,
          -0.7672024634849354,
          -0.8040025312836994,
          -0.8267473832375425,
          -0.8416282356095811,
          -0.85183397546301,
          -0.8591105817890197
         ]
        },
        {
         "line": {
          "width": 2
         },
         "marker": {
          "size": 6
         },
         "mode": "lines+markers",
         "name": "Crime",
         "type": "scatter",
         "x": {
          "bdata": "AAAAAFVV1T9VVVVAAACgQFVV1UBWVQVBAAAgQauqOkFVVVVBAABwQQ==",
          "dtype": "f4"
         },
         "y": [
          0,
          -0.3634642284316353,
          -0.5849449013041544,
          -0.7035139845330504,
          -0.7683324618618699,
          -0.8060670578970185,
          -0.8294902656085883,
          -0.8448614196120938,
          -0.8554261987910995,
          -0.8629706578352783
         ]
        },
        {
         "line": {
          "width": 2
         },
         "marker": {
          "size": 6
         },
         "mode": "lines+markers",
         "name": "Thriller",
         "type": "scatter",
         "x": {
          "bdata": "AAAAAFVV1T9VVVVAAACgQFVV1UBWVQVBAAAgQauqOkFVVVVBAABwQQ==",
          "dtype": "f4"
         },
         "y": [
          0,
          -0.3644303781539202,
          -0.5874351657181978,
          -0.7066133011132478,
          -0.7714817119389773,
          -0.8090929175168275,
          -0.8323665703088046,
          -0.8476041031628847,
          -0.8580589187890292,
          -0.8655150628834963
         ]
        },
        {
         "line": {
          "width": 2
         },
         "marker": {
          "size": 6
         },
         "mode": "lines+markers",
         "name": "Adventure",
         "type": "scatter",
         "x": {
          "bdata": "AAAAAFVV1T9VVVVAAACgQFVV1UBWVQVBAAAgQauqOkFVVVVBAABwQQ==",
          "dtype": "f4"
         },
         "y": [
          0,
          -0.3904831225883362,
          -0.6322529731345746,
          -0.7589410532256771,
          -0.8263177691054914,
          -0.864657899378525,
          -0.8880493974486622,
          -0.9032015047154809,
          -0.9135128470530332,
          -0.9208195285972062
         ]
        },
        {
         "line": {
          "width": 2
         },
         "marker": {
          "size": 6
         },
         "mode": "lines+markers",
         "name": "Mystery",
         "type": "scatter",
         "x": {
          "bdata": "AAAAAFVV1T9VVVVAAACgQFVV1UBWVQVBAAAgQauqOkFVVVVBAABwQQ==",
          "dtype": "f4"
         },
         "y": [
          0,
          -0.3809011256431831,
          -0.6281505553599666,
          -0.7633948687683133,
          -0.8371677847907824,
          -0.8797015400932116,
          -0.9058249007691355,
          -0.922803857089842,
          -0.9343777642968822,
          -0.9425853396601536
         ]
        },
        {
         "line": {
          "width": 2
         },
         "marker": {
          "size": 6
         },
         "mode": "lines+markers",
         "name": "Drama",
         "type": "scatter",
         "x": {
          "bdata": "AAAAAFVV1T9VVVVAAACgQFVV1UBWVQVBAAAgQauqOkFVVVVBAABwQQ==",
          "dtype": "f4"
         },
         "y": [
          0,
          -0.3938205702667774,
          -0.6508058488599466,
          -0.7899778151080351,
          -0.8651189376538939,
          -0.9081007711744558,
          -0.9343439205055775,
          -0.9513245583112079,
          -0.9628595405686271,
          -0.9710170762034868
         ]
        },
        {
         "line": {
          "width": 2
         },
         "marker": {
          "size": 6
         },
         "mode": "lines+markers",
         "name": "Biography",
         "type": "scatter",
         "x": {
          "bdata": "AAAAAFVV1T9VVVVAAACgQFVV1UBWVQVBAAAgQauqOkFVVVVBAABwQQ==",
          "dtype": "f4"
         },
         "y": [
          0,
          -0.3925468313042074,
          -0.6500757351717246,
          -0.7898392828647047,
          -0.8652568678970315,
          -0.9083455475512892,
          -0.934625484069277,
          -0.9516154176622096,
          -0.9631491701717355,
          -0.9713017870472478
         ]
        },
        {
         "line": {
          "width": 2
         },
         "marker": {
          "size": 6
         },
         "mode": "lines+markers",
         "name": "Comedy",
         "type": "scatter",
         "x": {
          "bdata": "AAAAAFVV1T9VVVVAAACgQFVV1UBWVQVBAAAgQauqOkFVVVVBAABwQQ==",
          "dtype": "f4"
         },
         "y": [
          0,
          -0.39632832010208474,
          -0.6587560153793452,
          -0.8015267927676621,
          -0.8784935574910444,
          -0.9223841492927111,
          -0.9491032927705929,
          -0.966349544196685,
          -0.9780418173773442,
          -0.9862974263023494
         ]
        },
        {
         "line": {
          "width": 2
         },
         "marker": {
          "size": 6
         },
         "mode": "lines+markers",
         "name": "Romance",
         "type": "scatter",
         "x": {
          "bdata": "AAAAAFVV1T9VVVVAAACgQFVV1UBWVQVBAAAgQauqOkFVVVVBAABwQQ==",
          "dtype": "f4"
         },
         "y": [
          0,
          -0.4142076758381267,
          -0.6845125352104124,
          -0.8274943853943395,
          -0.9029771426692605,
          -0.9454570190407909,
          -0.9711018101670422,
          -0.9875629285350442,
          -0.9986798009190423,
          -1.006507081953952
         ]
        }
       ],
       "layout": {
        "height": 600,
        "showlegend": true,
        "template": {
         "data": {
          "bar": [
           {
            "error_x": {
             "color": "#2a3f5f"
            },
            "error_y": {
             "color": "#2a3f5f"
            },
            "marker": {
             "line": {
              "color": "#E5ECF6",
              "width": 0.5
             },
             "pattern": {
              "fillmode": "overlay",
              "size": 10,
              "solidity": 0.2
             }
            },
            "type": "bar"
           }
          ],
          "barpolar": [
           {
            "marker": {
             "line": {
              "color": "#E5ECF6",
              "width": 0.5
             },
             "pattern": {
              "fillmode": "overlay",
              "size": 10,
              "solidity": 0.2
             }
            },
            "type": "barpolar"
           }
          ],
          "carpet": [
           {
            "aaxis": {
             "endlinecolor": "#2a3f5f",
             "gridcolor": "white",
             "linecolor": "white",
             "minorgridcolor": "white",
             "startlinecolor": "#2a3f5f"
            },
            "baxis": {
             "endlinecolor": "#2a3f5f",
             "gridcolor": "white",
             "linecolor": "white",
             "minorgridcolor": "white",
             "startlinecolor": "#2a3f5f"
            },
            "type": "carpet"
           }
          ],
          "choropleth": [
           {
            "colorbar": {
             "outlinewidth": 0,
             "ticks": ""
            },
            "type": "choropleth"
           }
          ],
          "contour": [
           {
            "colorbar": {
             "outlinewidth": 0,
             "ticks": ""
            },
            "colorscale": [
             [
              0,
              "#0d0887"
             ],
             [
              0.1111111111111111,
              "#46039f"
             ],
             [
              0.2222222222222222,
              "#7201a8"
             ],
             [
              0.3333333333333333,
              "#9c179e"
             ],
             [
              0.4444444444444444,
              "#bd3786"
             ],
             [
              0.5555555555555556,
              "#d8576b"
             ],
             [
              0.6666666666666666,
              "#ed7953"
             ],
             [
              0.7777777777777778,
              "#fb9f3a"
             ],
             [
              0.8888888888888888,
              "#fdca26"
             ],
             [
              1,
              "#f0f921"
             ]
            ],
            "type": "contour"
           }
          ],
          "contourcarpet": [
           {
            "colorbar": {
             "outlinewidth": 0,
             "ticks": ""
            },
            "type": "contourcarpet"
           }
          ],
          "heatmap": [
           {
            "colorbar": {
             "outlinewidth": 0,
             "ticks": ""
            },
            "colorscale": [
             [
              0,
              "#0d0887"
             ],
             [
              0.1111111111111111,
              "#46039f"
             ],
             [
              0.2222222222222222,
              "#7201a8"
             ],
             [
              0.3333333333333333,
              "#9c179e"
             ],
             [
              0.4444444444444444,
              "#bd3786"
             ],
             [
              0.5555555555555556,
              "#d8576b"
             ],
             [
              0.6666666666666666,
              "#ed7953"
             ],
             [
              0.7777777777777778,
              "#fb9f3a"
             ],
             [
              0.8888888888888888,
              "#fdca26"
             ],
             [
              1,
              "#f0f921"
             ]
            ],
            "type": "heatmap"
           }
          ],
          "histogram": [
           {
            "marker": {
             "pattern": {
              "fillmode": "overlay",
              "size": 10,
              "solidity": 0.2
             }
            },
            "type": "histogram"
           }
          ],
          "histogram2d": [
           {
            "colorbar": {
             "outlinewidth": 0,
             "ticks": ""
            },
            "colorscale": [
             [
              0,
              "#0d0887"
             ],
             [
              0.1111111111111111,
              "#46039f"
             ],
             [
              0.2222222222222222,
              "#7201a8"
             ],
             [
              0.3333333333333333,
              "#9c179e"
             ],
             [
              0.4444444444444444,
              "#bd3786"
             ],
             [
              0.5555555555555556,
              "#d8576b"
             ],
             [
              0.6666666666666666,
              "#ed7953"
             ],
             [
              0.7777777777777778,
              "#fb9f3a"
             ],
             [
              0.8888888888888888,
              "#fdca26"
             ],
             [
              1,
              "#f0f921"
             ]
            ],
            "type": "histogram2d"
           }
          ],
          "histogram2dcontour": [
           {
            "colorbar": {
             "outlinewidth": 0,
             "ticks": ""
            },
            "colorscale": [
             [
              0,
              "#0d0887"
             ],
             [
              0.1111111111111111,
              "#46039f"
             ],
             [
              0.2222222222222222,
              "#7201a8"
             ],
             [
              0.3333333333333333,
              "#9c179e"
             ],
             [
              0.4444444444444444,
              "#bd3786"
             ],
             [
              0.5555555555555556,
              "#d8576b"
             ],
             [
              0.6666666666666666,
              "#ed7953"
             ],
             [
              0.7777777777777778,
              "#fb9f3a"
             ],
             [
              0.8888888888888888,
              "#fdca26"
             ],
             [
              1,
              "#f0f921"
             ]
            ],
            "type": "histogram2dcontour"
           }
          ],
          "mesh3d": [
           {
            "colorbar": {
             "outlinewidth": 0,
             "ticks": ""
            },
            "type": "mesh3d"
           }
          ],
          "parcoords": [
           {
            "line": {
             "colorbar": {
              "outlinewidth": 0,
              "ticks": ""
             }
            },
            "type": "parcoords"
           }
          ],
          "pie": [
           {
            "automargin": true,
            "type": "pie"
           }
          ],
          "scatter": [
           {
            "fillpattern": {
             "fillmode": "overlay",
             "size": 10,
             "solidity": 0.2
            },
            "type": "scatter"
           }
          ],
          "scatter3d": [
           {
            "line": {
             "colorbar": {
              "outlinewidth": 0,
              "ticks": ""
             }
            },
            "marker": {
             "colorbar": {
              "outlinewidth": 0,
              "ticks": ""
             }
            },
            "type": "scatter3d"
           }
          ],
          "scattercarpet": [
           {
            "marker": {
             "colorbar": {
              "outlinewidth": 0,
              "ticks": ""
             }
            },
            "type": "scattercarpet"
           }
          ],
          "scattergeo": [
           {
            "marker": {
             "colorbar": {
              "outlinewidth": 0,
              "ticks": ""
             }
            },
            "type": "scattergeo"
           }
          ],
          "scattergl": [
           {
            "marker": {
             "colorbar": {
              "outlinewidth": 0,
              "ticks": ""
             }
            },
            "type": "scattergl"
           }
          ],
          "scattermap": [
           {
            "marker": {
             "colorbar": {
              "outlinewidth": 0,
              "ticks": ""
             }
            },
            "type": "scattermap"
           }
          ],
          "scattermapbox": [
           {
            "marker": {
             "colorbar": {
              "outlinewidth": 0,
              "ticks": ""
             }
            },
            "type": "scattermapbox"
           }
          ],
          "scatterpolar": [
           {
            "marker": {
             "colorbar": {
              "outlinewidth": 0,
              "ticks": ""
             }
            },
            "type": "scatterpolar"
           }
          ],
          "scatterpolargl": [
           {
            "marker": {
             "colorbar": {
              "outlinewidth": 0,
              "ticks": ""
             }
            },
            "type": "scatterpolargl"
           }
          ],
          "scatterternary": [
           {
            "marker": {
             "colorbar": {
              "outlinewidth": 0,
              "ticks": ""
             }
            },
            "type": "scatterternary"
           }
          ],
          "surface": [
           {
            "colorbar": {
             "outlinewidth": 0,
             "ticks": ""
            },
            "colorscale": [
             [
              0,
              "#0d0887"
             ],
             [
              0.1111111111111111,
              "#46039f"
             ],
             [
              0.2222222222222222,
              "#7201a8"
             ],
             [
              0.3333333333333333,
              "#9c179e"
             ],
             [
              0.4444444444444444,
              "#bd3786"
             ],
             [
              0.5555555555555556,
              "#d8576b"
             ],
             [
              0.6666666666666666,
              "#ed7953"
             ],
             [
              0.7777777777777778,
              "#fb9f3a"
             ],
             [
              0.8888888888888888,
              "#fdca26"
             ],
             [
              1,
              "#f0f921"
             ]
            ],
            "type": "surface"
           }
          ],
          "table": [
           {
            "cells": {
             "fill": {
              "color": "#EBF0F8"
             },
             "line": {
              "color": "white"
             }
            },
            "header": {
             "fill": {
              "color": "#C8D4E3"
             },
             "line": {
              "color": "white"
             }
            },
            "type": "table"
           }
          ]
         },
         "layout": {
          "annotationdefaults": {
           "arrowcolor": "#2a3f5f",
           "arrowhead": 0,
           "arrowwidth": 1
          },
          "autotypenumbers": "strict",
          "coloraxis": {
           "colorbar": {
            "outlinewidth": 0,
            "ticks": ""
           }
          },
          "colorscale": {
           "diverging": [
            [
             0,
             "#8e0152"
            ],
            [
             0.1,
             "#c51b7d"
            ],
            [
             0.2,
             "#de77ae"
            ],
            [
             0.3,
             "#f1b6da"
            ],
            [
             0.4,
             "#fde0ef"
            ],
            [
             0.5,
             "#f7f7f7"
            ],
            [
             0.6,
             "#e6f5d0"
            ],
            [
             0.7,
             "#b8e186"
            ],
            [
             0.8,
             "#7fbc41"
            ],
            [
             0.9,
             "#4d9221"
            ],
            [
             1,
             "#276419"
            ]
           ],
           "sequential": [
            [
             0,
             "#0d0887"
            ],
            [
             0.1111111111111111,
             "#46039f"
            ],
            [
             0.2222222222222222,
             "#7201a8"
            ],
            [
             0.3333333333333333,
             "#9c179e"
            ],
            [
             0.4444444444444444,
             "#bd3786"
            ],
            [
             0.5555555555555556,
             "#d8576b"
            ],
            [
             0.6666666666666666,
             "#ed7953"
            ],
            [
             0.7777777777777778,
             "#fb9f3a"
            ],
            [
             0.8888888888888888,
             "#fdca26"
            ],
            [
             1,
             "#f0f921"
            ]
           ],
           "sequentialminus": [
            [
             0,
             "#0d0887"
            ],
            [
             0.1111111111111111,
             "#46039f"
            ],
            [
             0.2222222222222222,
             "#7201a8"
            ],
            [
             0.3333333333333333,
             "#9c179e"
            ],
            [
             0.4444444444444444,
             "#bd3786"
            ],
            [
             0.5555555555555556,
             "#d8576b"
            ],
            [
             0.6666666666666666,
             "#ed7953"
            ],
            [
             0.7777777777777778,
             "#fb9f3a"
            ],
            [
             0.8888888888888888,
             "#fdca26"
            ],
            [
             1,
             "#f0f921"
            ]
           ]
          },
          "colorway": [
           "#636efa",
           "#EF553B",
           "#00cc96",
           "#ab63fa",
           "#FFA15A",
           "#19d3f3",
           "#FF6692",
           "#B6E880",
           "#FF97FF",
           "#FECB52"
          ],
          "font": {
           "color": "#2a3f5f"
          },
          "geo": {
           "bgcolor": "white",
           "lakecolor": "white",
           "landcolor": "#E5ECF6",
           "showlakes": true,
           "showland": true,
           "subunitcolor": "white"
          },
          "hoverlabel": {
           "align": "left"
          },
          "hovermode": "closest",
          "mapbox": {
           "style": "light"
          },
          "paper_bgcolor": "white",
          "plot_bgcolor": "#E5ECF6",
          "polar": {
           "angularaxis": {
            "gridcolor": "white",
            "linecolor": "white",
            "ticks": ""
           },
           "bgcolor": "#E5ECF6",
           "radialaxis": {
            "gridcolor": "white",
            "linecolor": "white",
            "ticks": ""
           }
          },
          "scene": {
           "xaxis": {
            "backgroundcolor": "#E5ECF6",
            "gridcolor": "white",
            "gridwidth": 2,
            "linecolor": "white",
            "showbackground": true,
            "ticks": "",
            "zerolinecolor": "white"
           },
           "yaxis": {
            "backgroundcolor": "#E5ECF6",
            "gridcolor": "white",
            "gridwidth": 2,
            "linecolor": "white",
            "showbackground": true,
            "ticks": "",
            "zerolinecolor": "white"
           },
           "zaxis": {
            "backgroundcolor": "#E5ECF6",
            "gridcolor": "white",
            "gridwidth": 2,
            "linecolor": "white",
            "showbackground": true,
            "ticks": "",
            "zerolinecolor": "white"
           }
          },
          "shapedefaults": {
           "line": {
            "color": "#2a3f5f"
           }
          },
          "ternary": {
           "aaxis": {
            "gridcolor": "white",
            "linecolor": "white",
            "ticks": ""
           },
           "baxis": {
            "gridcolor": "white",
            "linecolor": "white",
            "ticks": ""
           },
           "bgcolor": "#E5ECF6",
           "caxis": {
            "gridcolor": "white",
            "linecolor": "white",
            "ticks": ""
           }
          },
          "title": {
           "x": 0.05
          },
          "xaxis": {
           "automargin": true,
           "gridcolor": "white",
           "linecolor": "white",
           "ticks": "",
           "title": {
            "standoff": 15
           },
           "zerolinecolor": "white",
           "zerolinewidth": 2
          },
          "yaxis": {
           "automargin": true,
           "gridcolor": "white",
           "linecolor": "white",
           "ticks": "",
           "title": {
            "standoff": 15
           },
           "zerolinecolor": "white",
           "zerolinewidth": 2
          }
         }
        },
        "title": {
         "text": "Change in Genre Shift vs Steering Coefficient | Layer: 11 | Feature: War | Diff: cosine"
        },
        "width": 900,
        "xaxis": {
         "title": {
          "text": "Steering Coefficient"
         }
        },
        "yaxis": {
         "title": {
          "text": "Shift in Mean cosine Distance"
         }
        }
       }
      }
     },
     "metadata": {},
     "output_type": "display_data"
    }
   ],
   "source": [
    "category_shifts, steering_coefficients = plot_change_in_top_shift(\n",
    "    model, \n",
    "    encoded_input, \n",
    "    all_texts_data, \n",
    "    original_embeddings, \n",
    "    layer_to_steer, \n",
    "    steering_vector, \n",
    "    type, \n",
    "    feature, \n",
    "    steering_coefficient_start=0.0, # Start steering coefficient (x-axis)\n",
    "    steering_coefficient_end=15, # End steering coefficient (x-axis)\n",
    "    number_of_steps=10 # Number of steps to take between start and end steering coefficient (iterations)\n",
    "    )"
   ]
  },
  {
   "cell_type": "markdown",
   "id": "0f682eb3",
   "metadata": {},
   "source": [
    "### <a id=\"plot-rank-plot\"></a>Plot Rank Plot"
   ]
  },
  {
   "cell_type": "markdown",
   "id": "9fcbe4ad",
   "metadata": {},
   "source": [
    "`plot_rank_plot` visualizes the change in category shifts across different steering vectors. Rank 1 indicates the category with the highest shift (i.e. the category thats distance to the steering vector changed the most after vs. before steering).\n",
    "- `category_shifts` is a dictionary with all the shifts for each category across the steering coefficients. This is calculated from `plot_change_in_top_shift`.\n",
    "- `steering_coefficients` is the list of steering_coefficients for which we calculated the `category_shifts``\n",
    "- `info_string` is what will be displayed in the title of the plot to keep track of the selected parameters for that plot."
   ]
  },
  {
   "cell_type": "code",
   "execution_count": 13,
   "id": "7daf280b",
   "metadata": {},
   "outputs": [
    {
     "data": {
      "application/vnd.plotly.v1+json": {
       "config": {
        "plotlyServerURL": "https://plot.ly"
       },
       "data": [
        {
         "line": {
          "width": 2
         },
         "marker": {
          "size": 6
         },
         "mode": "lines+markers",
         "name": "Romance",
         "type": "scatter",
         "x": {
          "bdata": "AAAAAFVV1T9VVVVAAACgQFVV1UBWVQVBAAAgQauqOkFVVVVBAABwQQ==",
          "dtype": "f4"
         },
         "y": {
          "bdata": "BQEBAQEBAQEBAQ==",
          "dtype": "i1"
         }
        },
        {
         "line": {
          "width": 2
         },
         "marker": {
          "size": 6
         },
         "mode": "lines+markers",
         "name": "Comedy",
         "type": "scatter",
         "x": {
          "bdata": "AAAAAFVV1T9VVVVAAACgQFVV1UBWVQVBAAAgQauqOkFVVVVBAABwQQ==",
          "dtype": "f4"
         },
         "y": {
          "bdata": "CAICAgICAgICAg==",
          "dtype": "i1"
         }
        },
        {
         "line": {
          "width": 2
         },
         "marker": {
          "size": 6
         },
         "mode": "lines+markers",
         "name": "Biography",
         "type": "scatter",
         "x": {
          "bdata": "AAAAAFVV1T9VVVVAAACgQFVV1UBWVQVBAAAgQauqOkFVVVVBAABwQQ==",
          "dtype": "f4"
         },
         "y": {
          "bdata": "BgQEBAMDAwMDAw==",
          "dtype": "i1"
         }
        },
        {
         "line": {
          "width": 2
         },
         "marker": {
          "size": 6
         },
         "mode": "lines+markers",
         "name": "Drama",
         "type": "scatter",
         "x": {
          "bdata": "AAAAAFVV1T9VVVVAAACgQFVV1UBWVQVBAAAgQauqOkFVVVVBAABwQQ==",
          "dtype": "f4"
         },
         "y": {
          "bdata": "AQMDAwQEBAQEBA==",
          "dtype": "i1"
         }
        },
        {
         "line": {
          "width": 2
         },
         "marker": {
          "size": 6
         },
         "mode": "lines+markers",
         "name": "Mystery",
         "type": "scatter",
         "x": {
          "bdata": "AAAAAFVV1T9VVVVAAACgQFVV1UBWVQVBAAAgQauqOkFVVVVBAABwQQ==",
          "dtype": "f4"
         },
         "y": {
          "bdata": "CQYGBQUFBQUFBQ==",
          "dtype": "i1"
         }
        },
        {
         "line": {
          "width": 2
         },
         "marker": {
          "size": 6
         },
         "mode": "lines+markers",
         "name": "Adventure",
         "type": "scatter",
         "x": {
          "bdata": "AAAAAFVV1T9VVVVAAACgQFVV1UBWVQVBAAAgQauqOkFVVVVBAABwQQ==",
          "dtype": "f4"
         },
         "y": {
          "bdata": "AwUFBgYGBgYGBg==",
          "dtype": "i1"
         }
        },
        {
         "line": {
          "width": 2
         },
         "marker": {
          "size": 6
         },
         "mode": "lines+markers",
         "name": "Thriller",
         "type": "scatter",
         "x": {
          "bdata": "AAAAAFVV1T9VVVVAAACgQFVV1UBWVQVBAAAgQauqOkFVVVVBAABwQQ==",
          "dtype": "f4"
         },
         "y": {
          "bdata": "CggHBwcHBwcHBw==",
          "dtype": "i1"
         }
        },
        {
         "line": {
          "width": 2
         },
         "marker": {
          "size": 6
         },
         "mode": "lines+markers",
         "name": "Crime",
         "type": "scatter",
         "x": {
          "bdata": "AAAAAFVV1T9VVVVAAACgQFVV1UBWVQVBAAAgQauqOkFVVVVBAABwQQ==",
          "dtype": "f4"
         },
         "y": {
          "bdata": "AgkJCQgICAgICA==",
          "dtype": "i1"
         }
        },
        {
         "line": {
          "width": 2
         },
         "marker": {
          "size": 6
         },
         "mode": "lines+markers",
         "name": "Sci-Fi",
         "type": "scatter",
         "x": {
          "bdata": "AAAAAFVV1T9VVVVAAACgQFVV1UBWVQVBAAAgQauqOkFVVVVBAABwQQ==",
          "dtype": "f4"
         },
         "y": {
          "bdata": "BAcICAkJCQkJCQ==",
          "dtype": "i1"
         }
        },
        {
         "line": {
          "width": 2
         },
         "marker": {
          "size": 6
         },
         "mode": "lines+markers",
         "name": "War",
         "type": "scatter",
         "x": {
          "bdata": "AAAAAFVV1T9VVVVAAACgQFVV1UBWVQVBAAAgQauqOkFVVVVBAABwQQ==",
          "dtype": "f4"
         },
         "y": {
          "bdata": "BwoKCgoKCgoKCg==",
          "dtype": "i1"
         }
        }
       ],
       "layout": {
        "height": 600,
        "showlegend": true,
        "template": {
         "data": {
          "bar": [
           {
            "error_x": {
             "color": "#2a3f5f"
            },
            "error_y": {
             "color": "#2a3f5f"
            },
            "marker": {
             "line": {
              "color": "#E5ECF6",
              "width": 0.5
             },
             "pattern": {
              "fillmode": "overlay",
              "size": 10,
              "solidity": 0.2
             }
            },
            "type": "bar"
           }
          ],
          "barpolar": [
           {
            "marker": {
             "line": {
              "color": "#E5ECF6",
              "width": 0.5
             },
             "pattern": {
              "fillmode": "overlay",
              "size": 10,
              "solidity": 0.2
             }
            },
            "type": "barpolar"
           }
          ],
          "carpet": [
           {
            "aaxis": {
             "endlinecolor": "#2a3f5f",
             "gridcolor": "white",
             "linecolor": "white",
             "minorgridcolor": "white",
             "startlinecolor": "#2a3f5f"
            },
            "baxis": {
             "endlinecolor": "#2a3f5f",
             "gridcolor": "white",
             "linecolor": "white",
             "minorgridcolor": "white",
             "startlinecolor": "#2a3f5f"
            },
            "type": "carpet"
           }
          ],
          "choropleth": [
           {
            "colorbar": {
             "outlinewidth": 0,
             "ticks": ""
            },
            "type": "choropleth"
           }
          ],
          "contour": [
           {
            "colorbar": {
             "outlinewidth": 0,
             "ticks": ""
            },
            "colorscale": [
             [
              0,
              "#0d0887"
             ],
             [
              0.1111111111111111,
              "#46039f"
             ],
             [
              0.2222222222222222,
              "#7201a8"
             ],
             [
              0.3333333333333333,
              "#9c179e"
             ],
             [
              0.4444444444444444,
              "#bd3786"
             ],
             [
              0.5555555555555556,
              "#d8576b"
             ],
             [
              0.6666666666666666,
              "#ed7953"
             ],
             [
              0.7777777777777778,
              "#fb9f3a"
             ],
             [
              0.8888888888888888,
              "#fdca26"
             ],
             [
              1,
              "#f0f921"
             ]
            ],
            "type": "contour"
           }
          ],
          "contourcarpet": [
           {
            "colorbar": {
             "outlinewidth": 0,
             "ticks": ""
            },
            "type": "contourcarpet"
           }
          ],
          "heatmap": [
           {
            "colorbar": {
             "outlinewidth": 0,
             "ticks": ""
            },
            "colorscale": [
             [
              0,
              "#0d0887"
             ],
             [
              0.1111111111111111,
              "#46039f"
             ],
             [
              0.2222222222222222,
              "#7201a8"
             ],
             [
              0.3333333333333333,
              "#9c179e"
             ],
             [
              0.4444444444444444,
              "#bd3786"
             ],
             [
              0.5555555555555556,
              "#d8576b"
             ],
             [
              0.6666666666666666,
              "#ed7953"
             ],
             [
              0.7777777777777778,
              "#fb9f3a"
             ],
             [
              0.8888888888888888,
              "#fdca26"
             ],
             [
              1,
              "#f0f921"
             ]
            ],
            "type": "heatmap"
           }
          ],
          "histogram": [
           {
            "marker": {
             "pattern": {
              "fillmode": "overlay",
              "size": 10,
              "solidity": 0.2
             }
            },
            "type": "histogram"
           }
          ],
          "histogram2d": [
           {
            "colorbar": {
             "outlinewidth": 0,
             "ticks": ""
            },
            "colorscale": [
             [
              0,
              "#0d0887"
             ],
             [
              0.1111111111111111,
              "#46039f"
             ],
             [
              0.2222222222222222,
              "#7201a8"
             ],
             [
              0.3333333333333333,
              "#9c179e"
             ],
             [
              0.4444444444444444,
              "#bd3786"
             ],
             [
              0.5555555555555556,
              "#d8576b"
             ],
             [
              0.6666666666666666,
              "#ed7953"
             ],
             [
              0.7777777777777778,
              "#fb9f3a"
             ],
             [
              0.8888888888888888,
              "#fdca26"
             ],
             [
              1,
              "#f0f921"
             ]
            ],
            "type": "histogram2d"
           }
          ],
          "histogram2dcontour": [
           {
            "colorbar": {
             "outlinewidth": 0,
             "ticks": ""
            },
            "colorscale": [
             [
              0,
              "#0d0887"
             ],
             [
              0.1111111111111111,
              "#46039f"
             ],
             [
              0.2222222222222222,
              "#7201a8"
             ],
             [
              0.3333333333333333,
              "#9c179e"
             ],
             [
              0.4444444444444444,
              "#bd3786"
             ],
             [
              0.5555555555555556,
              "#d8576b"
             ],
             [
              0.6666666666666666,
              "#ed7953"
             ],
             [
              0.7777777777777778,
              "#fb9f3a"
             ],
             [
              0.8888888888888888,
              "#fdca26"
             ],
             [
              1,
              "#f0f921"
             ]
            ],
            "type": "histogram2dcontour"
           }
          ],
          "mesh3d": [
           {
            "colorbar": {
             "outlinewidth": 0,
             "ticks": ""
            },
            "type": "mesh3d"
           }
          ],
          "parcoords": [
           {
            "line": {
             "colorbar": {
              "outlinewidth": 0,
              "ticks": ""
             }
            },
            "type": "parcoords"
           }
          ],
          "pie": [
           {
            "automargin": true,
            "type": "pie"
           }
          ],
          "scatter": [
           {
            "fillpattern": {
             "fillmode": "overlay",
             "size": 10,
             "solidity": 0.2
            },
            "type": "scatter"
           }
          ],
          "scatter3d": [
           {
            "line": {
             "colorbar": {
              "outlinewidth": 0,
              "ticks": ""
             }
            },
            "marker": {
             "colorbar": {
              "outlinewidth": 0,
              "ticks": ""
             }
            },
            "type": "scatter3d"
           }
          ],
          "scattercarpet": [
           {
            "marker": {
             "colorbar": {
              "outlinewidth": 0,
              "ticks": ""
             }
            },
            "type": "scattercarpet"
           }
          ],
          "scattergeo": [
           {
            "marker": {
             "colorbar": {
              "outlinewidth": 0,
              "ticks": ""
             }
            },
            "type": "scattergeo"
           }
          ],
          "scattergl": [
           {
            "marker": {
             "colorbar": {
              "outlinewidth": 0,
              "ticks": ""
             }
            },
            "type": "scattergl"
           }
          ],
          "scattermap": [
           {
            "marker": {
             "colorbar": {
              "outlinewidth": 0,
              "ticks": ""
             }
            },
            "type": "scattermap"
           }
          ],
          "scattermapbox": [
           {
            "marker": {
             "colorbar": {
              "outlinewidth": 0,
              "ticks": ""
             }
            },
            "type": "scattermapbox"
           }
          ],
          "scatterpolar": [
           {
            "marker": {
             "colorbar": {
              "outlinewidth": 0,
              "ticks": ""
             }
            },
            "type": "scatterpolar"
           }
          ],
          "scatterpolargl": [
           {
            "marker": {
             "colorbar": {
              "outlinewidth": 0,
              "ticks": ""
             }
            },
            "type": "scatterpolargl"
           }
          ],
          "scatterternary": [
           {
            "marker": {
             "colorbar": {
              "outlinewidth": 0,
              "ticks": ""
             }
            },
            "type": "scatterternary"
           }
          ],
          "surface": [
           {
            "colorbar": {
             "outlinewidth": 0,
             "ticks": ""
            },
            "colorscale": [
             [
              0,
              "#0d0887"
             ],
             [
              0.1111111111111111,
              "#46039f"
             ],
             [
              0.2222222222222222,
              "#7201a8"
             ],
             [
              0.3333333333333333,
              "#9c179e"
             ],
             [
              0.4444444444444444,
              "#bd3786"
             ],
             [
              0.5555555555555556,
              "#d8576b"
             ],
             [
              0.6666666666666666,
              "#ed7953"
             ],
             [
              0.7777777777777778,
              "#fb9f3a"
             ],
             [
              0.8888888888888888,
              "#fdca26"
             ],
             [
              1,
              "#f0f921"
             ]
            ],
            "type": "surface"
           }
          ],
          "table": [
           {
            "cells": {
             "fill": {
              "color": "#EBF0F8"
             },
             "line": {
              "color": "white"
             }
            },
            "header": {
             "fill": {
              "color": "#C8D4E3"
             },
             "line": {
              "color": "white"
             }
            },
            "type": "table"
           }
          ]
         },
         "layout": {
          "annotationdefaults": {
           "arrowcolor": "#2a3f5f",
           "arrowhead": 0,
           "arrowwidth": 1
          },
          "autotypenumbers": "strict",
          "coloraxis": {
           "colorbar": {
            "outlinewidth": 0,
            "ticks": ""
           }
          },
          "colorscale": {
           "diverging": [
            [
             0,
             "#8e0152"
            ],
            [
             0.1,
             "#c51b7d"
            ],
            [
             0.2,
             "#de77ae"
            ],
            [
             0.3,
             "#f1b6da"
            ],
            [
             0.4,
             "#fde0ef"
            ],
            [
             0.5,
             "#f7f7f7"
            ],
            [
             0.6,
             "#e6f5d0"
            ],
            [
             0.7,
             "#b8e186"
            ],
            [
             0.8,
             "#7fbc41"
            ],
            [
             0.9,
             "#4d9221"
            ],
            [
             1,
             "#276419"
            ]
           ],
           "sequential": [
            [
             0,
             "#0d0887"
            ],
            [
             0.1111111111111111,
             "#46039f"
            ],
            [
             0.2222222222222222,
             "#7201a8"
            ],
            [
             0.3333333333333333,
             "#9c179e"
            ],
            [
             0.4444444444444444,
             "#bd3786"
            ],
            [
             0.5555555555555556,
             "#d8576b"
            ],
            [
             0.6666666666666666,
             "#ed7953"
            ],
            [
             0.7777777777777778,
             "#fb9f3a"
            ],
            [
             0.8888888888888888,
             "#fdca26"
            ],
            [
             1,
             "#f0f921"
            ]
           ],
           "sequentialminus": [
            [
             0,
             "#0d0887"
            ],
            [
             0.1111111111111111,
             "#46039f"
            ],
            [
             0.2222222222222222,
             "#7201a8"
            ],
            [
             0.3333333333333333,
             "#9c179e"
            ],
            [
             0.4444444444444444,
             "#bd3786"
            ],
            [
             0.5555555555555556,
             "#d8576b"
            ],
            [
             0.6666666666666666,
             "#ed7953"
            ],
            [
             0.7777777777777778,
             "#fb9f3a"
            ],
            [
             0.8888888888888888,
             "#fdca26"
            ],
            [
             1,
             "#f0f921"
            ]
           ]
          },
          "colorway": [
           "#636efa",
           "#EF553B",
           "#00cc96",
           "#ab63fa",
           "#FFA15A",
           "#19d3f3",
           "#FF6692",
           "#B6E880",
           "#FF97FF",
           "#FECB52"
          ],
          "font": {
           "color": "#2a3f5f"
          },
          "geo": {
           "bgcolor": "white",
           "lakecolor": "white",
           "landcolor": "#E5ECF6",
           "showlakes": true,
           "showland": true,
           "subunitcolor": "white"
          },
          "hoverlabel": {
           "align": "left"
          },
          "hovermode": "closest",
          "mapbox": {
           "style": "light"
          },
          "paper_bgcolor": "white",
          "plot_bgcolor": "#E5ECF6",
          "polar": {
           "angularaxis": {
            "gridcolor": "white",
            "linecolor": "white",
            "ticks": ""
           },
           "bgcolor": "#E5ECF6",
           "radialaxis": {
            "gridcolor": "white",
            "linecolor": "white",
            "ticks": ""
           }
          },
          "scene": {
           "xaxis": {
            "backgroundcolor": "#E5ECF6",
            "gridcolor": "white",
            "gridwidth": 2,
            "linecolor": "white",
            "showbackground": true,
            "ticks": "",
            "zerolinecolor": "white"
           },
           "yaxis": {
            "backgroundcolor": "#E5ECF6",
            "gridcolor": "white",
            "gridwidth": 2,
            "linecolor": "white",
            "showbackground": true,
            "ticks": "",
            "zerolinecolor": "white"
           },
           "zaxis": {
            "backgroundcolor": "#E5ECF6",
            "gridcolor": "white",
            "gridwidth": 2,
            "linecolor": "white",
            "showbackground": true,
            "ticks": "",
            "zerolinecolor": "white"
           }
          },
          "shapedefaults": {
           "line": {
            "color": "#2a3f5f"
           }
          },
          "ternary": {
           "aaxis": {
            "gridcolor": "white",
            "linecolor": "white",
            "ticks": ""
           },
           "baxis": {
            "gridcolor": "white",
            "linecolor": "white",
            "ticks": ""
           },
           "bgcolor": "#E5ECF6",
           "caxis": {
            "gridcolor": "white",
            "linecolor": "white",
            "ticks": ""
           }
          },
          "title": {
           "x": 0.05
          },
          "xaxis": {
           "automargin": true,
           "gridcolor": "white",
           "linecolor": "white",
           "ticks": "",
           "title": {
            "standoff": 15
           },
           "zerolinecolor": "white",
           "zerolinewidth": 2
          },
          "yaxis": {
           "automargin": true,
           "gridcolor": "white",
           "linecolor": "white",
           "ticks": "",
           "title": {
            "standoff": 15
           },
           "zerolinecolor": "white",
           "zerolinewidth": 2
          }
         }
        },
        "title": {
         "text": "Rank Plot: Category rank vs Steering Coefficient | Layer: 11 | Feature: War | Diff: cosine"
        },
        "width": 900,
        "xaxis": {
         "title": {
          "text": "Steering Coefficient"
         }
        },
        "yaxis": {
         "autorange": "reversed",
         "title": {
          "text": "Rank (1=highest shift)"
         }
        }
       }
      }
     },
     "metadata": {},
     "output_type": "display_data"
    }
   ],
   "source": [
    "info_string = f'Layer: {layer_to_steer} | Feature: {feature} | Diff: {type}'\n",
    "plot_rank_plot(category_shifts, steering_coefficients, info_string)\n"
   ]
  },
  {
   "cell_type": "markdown",
   "id": "ee156d6a",
   "metadata": {},
   "source": [
    "***\n",
    "\n",
    "# Convergence check\n",
    "\n",
    "The following functions are imported from the file `\"Convergence_check.py\"`. They are used to analyze how the steered embeddings' distance to the steering vector is affected by increasing the steering coefficient. "
   ]
  },
  {
   "cell_type": "code",
   "execution_count": 14,
   "id": "07f96028",
   "metadata": {},
   "outputs": [],
   "source": [
    "#from Convergence_check import convergence_check_with_vector, convergence_check_with_neuron, convergence_by_category"
   ]
  },
  {
   "cell_type": "markdown",
   "id": "e84f0d40",
   "metadata": {},
   "source": [
    "## Setup\n",
    "\n",
    "Import necessary data"
   ]
  },
  {
   "cell_type": "code",
   "execution_count": 15,
   "id": "37cee01e",
   "metadata": {},
   "outputs": [
    {
     "name": "stdout",
     "output_type": "stream",
     "text": [
      "Importing 1.36 GB data from file Test_export_embeddings.pkl...\n",
      "Data imported from Test_export_embeddings.pkl\n",
      "Model loaded successfully.\n",
      "Embeddings loaded successfully.\n",
      "Encoded input loaded successfully.\n",
      "All texts data loaded successfully.\n"
     ]
    }
   ],
   "source": [
    "data = import_embedding_data_from_pkl('Test_export_embeddings.pkl', model=True, embeddings=True, encoded_input=True, all_texts_data=True)\n",
    "model, original_embeddings, encoded_input, all_texts_data = data"
   ]
  },
  {
   "cell_type": "markdown",
   "id": "a2b16ff8",
   "metadata": {},
   "source": [
    "## Convergence check - Mean distance, all embeddings"
   ]
  },
  {
   "cell_type": "markdown",
   "id": "e7c7026d",
   "metadata": {},
   "source": [
    "### Steering with a vector"
   ]
  },
  {
   "cell_type": "markdown",
   "id": "782aaa21",
   "metadata": {},
   "source": [
    "`convergence_check_with_vector` plots the mean of the distance between the steered embeddings and the steering vector for a range of coefficients.\n",
    "\n",
    "- `start_coeff` and `end_coeff` can be negative or positive integers, but it is crutial that **start_coeff < end_coeff**\n",
    "\n",
    "- `normalize (True/False)` normalizes the steered embeddings (difference is only visible when using l1 or l2)\n",
    "\n",
    "- `mode` refers to the method used to calculate the distance or similarity between the embeddings and the steering vector, they can be chosen from:\n",
    "    - `\"l1\"` = Manhattan distance - measures the sum of absolute distances between components  \n",
    "    - `\"l2\"` = Euclidian distance - measures the straight line distance between points\n",
    "    - `\"cosine\"` = (1 - Cosine similarity) – measures the cosine angle between two vectors (here, 0 = same direction, 2 = opposite direction)  \n",
    "  <br>\n",
    "\n",
    "- `derivative (True/False)` creates another plot with the derivative of the values in the first plot, to visualize *how* the distance changes \n",
    "\n",
    "- `step_size (int)` chooses the size of the steps between the coefficients, allowing for a zoomed in look on a specific area\n",
    "\n",
    "- `text_range (int, int)` selects the given slice of texts from the input, writing `None` here means that **all** texts are plotted, which can be **very** time consuming considering the fact that every single text needs to be steered\n",
    "\n",
    "**‼️ Warning: These convergence plots *may* take a long time to run if the text_range or range of coefficients are wide.   \n",
    "Test before running multiple at a time. The function prints percentages (%) while running to see how far along you are.**"
   ]
  },
  {
   "cell_type": "markdown",
   "id": "ba25ec58",
   "metadata": {},
   "source": [
    "In addition, every time a plot is created, these are printed:\n",
    "- Distance at coefficient 0 (if in the range)\n",
    "- Minimum distance (and the corresponding coefficient)\n",
    "- Maximum distance (and the corresponding coefficient)\n",
    "- Estimated convergence point on positive and negative sides (coefficient and distance), calculated using a slope threshold\n",
    "- Final distance and coefficient"
   ]
  },
  {
   "cell_type": "code",
   "execution_count": 16,
   "id": "daf06b34",
   "metadata": {},
   "outputs": [
    {
     "name": "stdout",
     "output_type": "stream",
     "text": [
      "Steering vectors imported from steering_vector.pkl\n",
      "Available steering vectors: 'Love' (layers: [11]), 'War' (layers: [10, 11])\n",
      "Returning steering vector for 'War' layer 11\n",
      "Processing convergence check...\n",
      "100% done\r"
     ]
    },
    {
     "data": {
      "image/png": "[encoded data removed]",
      "text/plain": [
       "<Figure size 640x480 with 1 Axes>"
      ]
     },
     "metadata": {},
     "output_type": "display_data"
    },
    {
     "name": "stdout",
     "output_type": "stream",
     "text": [
      "Distance at coefficient 0: 1.3538\n",
      "Minimum distance: 0.0379 at coefficient ≈ 100.000\n",
      "Maximum distance: 1.9996 at coefficient ≈ -100.000\n",
      "Converged (negative side) around coefficient ≈ -19.000 | Distance: 1.9898\n",
      "Converged (positive side) around coefficient ≈ 64.000 | Distance: 0.0591\n",
      "Final distance: 0.0379 at coefficient = 100.000\n"
     ]
    },
    {
     "data": {
      "image/png": "[encoded data removed]",
      "text/plain": [
       "<Figure size 640x480 with 1 Axes>"
      ]
     },
     "metadata": {},
     "output_type": "display_data"
    },
    {
     "name": "stdout",
     "output_type": "stream",
     "text": [
      "Effective region: coefficients ≈ [-15, 43]\n",
      "Total change in effective region: 1.8961\n",
      "90% of total change reached by coefficient ≈ 15\n"
     ]
    }
   ],
   "source": [
    "layer_to_steer = 11\n",
    "feature = \"War\"\n",
    "\n",
    "steering_vector = import_steering_vector_from_pkl('steering_vector.pkl', layer_to_steer=layer_to_steer, feature_name=feature)\n",
    "\n",
    "convergence_check_with_vector(model, \n",
    "                              encoded_input,\n",
    "                              layer_to_steer, \n",
    "                              steering_vector, \n",
    "                              feature, \n",
    "                              start_coeff=-100, \n",
    "                              end_coeff=100, \n",
    "                              normalize=True,\n",
    "                              mode='l2', \n",
    "                              derivative=True, \n",
    "                              step_size=1,\n",
    "                              grid=True, \n",
    "                              text_range=(0,100))"
   ]
  },
  {
   "cell_type": "markdown",
   "id": "d9e524a5",
   "metadata": {},
   "source": [
    "### Steering with a neuron"
   ]
  },
  {
   "cell_type": "markdown",
   "id": "9ca9dda9",
   "metadata": {},
   "source": [
    "`convergence_check_with_neuron` plots the mean of the distance between the steered embeddings and a comparison vector (feature embedding) for a range of coefficients."
   ]
  },
  {
   "cell_type": "code",
   "execution_count": 17,
   "id": "0cdb1c59",
   "metadata": {},
   "outputs": [
    {
     "name": "stdout",
     "output_type": "stream",
     "text": [
      "Steering vectors imported from steering_vector.pkl\n",
      "Available steering vectors: 'Love' (layers: [11]), 'War' (layers: [10, 11])\n",
      "Returning steering vector for 'War' layer 11\n",
      "Processing convergence check...\n",
      "100% done\r"
     ]
    },
    {
     "data": {
      "image/png": "[encoded data removed]",
      "text/plain": [
       "<Figure size 640x480 with 1 Axes>"
      ]
     },
     "metadata": {},
     "output_type": "display_data"
    },
    {
     "name": "stdout",
     "output_type": "stream",
     "text": [
      "Distance at coefficient 0: 1.3538\n",
      "Minimum distance: 1.3007 at coefficient ≈ 6.000\n",
      "Maximum distance: 1.5016 at coefficient ≈ -100.000\n",
      "Converged (negative side) around coefficient ≈ -16.000 | Distance: 1.4884\n",
      "Converged (positive side) around coefficient ≈ 8.000 | Distance: 1.3015\n",
      "Final distance: 1.3164 at coefficient = 100.000\n"
     ]
    },
    {
     "data": {
      "image/png": "[encoded data removed]",
      "text/plain": [
       "<Figure size 640x480 with 1 Axes>"
      ]
     },
     "metadata": {},
     "output_type": "display_data"
    },
    {
     "name": "stdout",
     "output_type": "stream",
     "text": [
      "Effective region: coefficients ≈ [-12, 4]\n",
      "Total change in effective region: 0.1797\n",
      "90% of total change reached by coefficient ≈ 3\n"
     ]
    }
   ],
   "source": [
    "neuron = 69\n",
    "layer_to_steer = 11\n",
    "feature = \"War\"\n",
    "\n",
    "comparison_vector = import_steering_vector_from_pkl('steering_vector.pkl', layer_to_steer=layer_to_steer, feature_name=feature)\n",
    "\n",
    "convergence_check_with_neuron(model, \n",
    "                              encoded_input,\n",
    "                              neuron,\n",
    "                              layer_to_steer, \n",
    "                              comparison_vector, \n",
    "                              feature, \n",
    "                              start_coeff=-100, \n",
    "                              end_coeff=100, \n",
    "                              normalize=True,\n",
    "                              mode='l2', \n",
    "                              derivative=True, \n",
    "                              step_size=1,\n",
    "                              grid=True, \n",
    "                              text_range=(0,100))"
   ]
  },
  {
   "cell_type": "markdown",
   "id": "7b720e9f",
   "metadata": {},
   "source": [
    "## Convergence by category"
   ]
  },
  {
   "cell_type": "markdown",
   "id": "d440bfbf",
   "metadata": {},
   "source": [
    "`convergence_by_category` plots the mean distances from the steered embeddings to the steering vector, for each of the categories given, to see how they change individually. (Steering is done using a steering vector)\n",
    "\n",
    "- `category_column (String)` chooses the column in the data frame to categorize by \n",
    "- `min_count (int)` removed the categories that don't have at least that amount of data points\n",
    "\n",
    "The rest of the parameters are the same as the other convergence plots.  \n",
    " \n",
    "The analysis printed at the end, are given for each category (min, max, positive and negative convergence point)"
   ]
  },
  {
   "cell_type": "code",
   "execution_count": 18,
   "id": "f7cf57c5",
   "metadata": {},
   "outputs": [
    {
     "name": "stdout",
     "output_type": "stream",
     "text": [
      "Steering vectors imported from steering_vector.pkl\n",
      "Available steering vectors: 'Love' (layers: [11]), 'War' (layers: [10, 11])\n",
      "Returning steering vector for 'War' layer 11\n",
      "Processing convergence by category...\n",
      "100% done\r"
     ]
    },
    {
     "data": {
      "image/png": "[encoded data removed]",
      "text/plain": [
       "<Figure size 640x480 with 1 Axes>"
      ]
     },
     "metadata": {},
     "output_type": "display_data"
    },
    {
     "name": "stdout",
     "output_type": "stream",
     "text": [
      "\n",
      "Convergence analysis by category (slope-based):\n",
      "==================================================\n",
      "\n",
      "Drama:\n",
      " Minimum distance: 0.0383 at coefficient ≈ 100\n",
      " Maximum distance: 1.9996 at coefficient ≈ -100\n",
      " Converged (negative side) around coefficient ≈ -19 | Distance: 1.9898\n",
      " Converged (positive side) around coefficient ≈ 65 | Distance: 0.0588\n",
      "\n",
      "Crime:\n",
      " Minimum distance: 0.0376 at coefficient ≈ 100\n",
      " Maximum distance: 1.9996 at coefficient ≈ -100\n",
      " Converged (negative side) around coefficient ≈ -20 | Distance: 1.9907\n",
      " Converged (positive side) around coefficient ≈ 64 | Distance: 0.0585\n",
      "\n",
      "Adventure:\n",
      " Minimum distance: 0.0380 at coefficient ≈ 100\n",
      " Maximum distance: 1.9996 at coefficient ≈ -100\n",
      " Converged (negative side) around coefficient ≈ -20 | Distance: 1.9905\n",
      " Converged (positive side) around coefficient ≈ 64 | Distance: 0.0592\n",
      "\n",
      "Sci-Fi:\n",
      " Minimum distance: 0.0390 at coefficient ≈ 100\n",
      " Maximum distance: 1.9996 at coefficient ≈ -100\n",
      " Converged (negative side) around coefficient ≈ -20 | Distance: 1.9902\n",
      " Converged (positive side) around coefficient ≈ 65 | Distance: 0.0599\n",
      "\n",
      "Romance:\n",
      " Minimum distance: 0.0358 at coefficient ≈ 100\n",
      " Maximum distance: 1.9997 at coefficient ≈ -100\n",
      " Converged (negative side) around coefficient ≈ -18 | Distance: 1.9906\n",
      " Converged (positive side) around coefficient ≈ 63 | Distance: 0.0568\n",
      "\n",
      "Biography:\n",
      " Minimum distance: 0.0365 at coefficient ≈ 100\n",
      " Maximum distance: 1.9997 at coefficient ≈ -100\n",
      " Converged (negative side) around coefficient ≈ -19 | Distance: 1.9908\n",
      " Converged (positive side) around coefficient ≈ 63 | Distance: 0.0579\n",
      "\n",
      "War:\n",
      " Minimum distance: 0.0381 at coefficient ≈ 100\n",
      " Maximum distance: 1.9996 at coefficient ≈ -100\n",
      " Converged (negative side) around coefficient ≈ -20 | Distance: 1.9899\n",
      " Converged (positive side) around coefficient ≈ 64 | Distance: 0.0592\n"
     ]
    },
    {
     "data": {
      "image/png": "[encoded data removed]",
      "text/plain": [
       "<Figure size 1000x600 with 1 Axes>"
      ]
     },
     "metadata": {},
     "output_type": "display_data"
    }
   ],
   "source": [
    "layer_to_steer = 11\n",
    "feature = \"War\"\n",
    "\n",
    "steering_vector = import_steering_vector_from_pkl('steering_vector.pkl', layer_to_steer=layer_to_steer, feature_name=feature)\n",
    "\n",
    "convergence_by_category(model, \n",
    "                        encoded_input, \n",
    "                        all_texts_data, \n",
    "                        layer_to_steer, \n",
    "                        steering_vector, \n",
    "                        feature, \n",
    "                        category_column='genre', \n",
    "                        start_coeff=-100, \n",
    "                        end_coeff=100, \n",
    "                        normalize=True, \n",
    "                        mode='l2', \n",
    "                        derivative=True, \n",
    "                        step_size=1, \n",
    "                        grid=True, \n",
    "                        text_range=(0,100), \n",
    "                        min_count=5) "
   ]
  },
  {
   "cell_type": "markdown",
   "id": "4529531f",
   "metadata": {},
   "source": [
    "***\n",
    "\n",
    "# Neuron Activations for Categories\n",
    "\n",
    "The following functions are imported from the file `\"Activations_categories.py\"`. They are necessary to analyze how individual neurons are activated in the model when performing steering using a steering vector."
   ]
  },
  {
   "cell_type": "code",
   "execution_count": 19,
   "id": "7a4dde74",
   "metadata": {},
   "outputs": [],
   "source": [
    "#from Activations_categories import get_category_activations, plot_category_activations, find_activation_shift, create_neuron_shift_heatmap, plot_change_in_top_shifted_neurons"
   ]
  },
  {
   "cell_type": "markdown",
   "id": "a463bef2",
   "metadata": {},
   "source": [
    "## Setup\n",
    "\n",
    "Before we start analyzing we must prepare everything we need"
   ]
  },
  {
   "cell_type": "code",
   "execution_count": 20,
   "id": "4688fd35",
   "metadata": {},
   "outputs": [
    {
     "name": "stdout",
     "output_type": "stream",
     "text": [
      "Importing 1.36 GB data from file Test_export_embeddings.pkl...\n",
      "Data imported from Test_export_embeddings.pkl\n",
      "Model loaded successfully.\n",
      "Model output loaded successfully.\n",
      "Encoded input loaded successfully.\n",
      "All texts data loaded successfully.\n",
      "Steering vectors imported from steering_vector.pkl\n",
      "Available steering vectors: 'Love' (layers: [11]), 'War' (layers: [10, 11])\n",
      "Returning steering vector for 'War' layer 10\n"
     ]
    }
   ],
   "source": [
    "# Import the necessasry data\n",
    "data = import_embedding_data_from_pkl(\"Test_export_embeddings.pkl\", model=True, model_output=True, encoded_input=True, all_texts_data=True)\n",
    "model, model_output, encoded_input, all_texts_data = data\n",
    "\n",
    "feature = \"War\"\n",
    "category = \"Action\" # Choose what category to analyze, can be any category in the dataset\n",
    "type = \"cosine\" # Chose what distance measure to use: l1, l2 or cosine\n",
    "layer_to_steer = 10  # Change this to the layer you want to analyze, can not be the last layer. Steering in the next to last layer\n",
    "# will affect the activations of neurons in the last layer.\n",
    "layer_to_plot = 11  # Choose what layer to plot the category activations from\n",
    "\n",
    "steering_coefficient = 10  # Adjust steering coefficient as needed\n",
    "\n",
    "steering_vector = import_steering_vector_from_pkl('steering_vector.pkl', feature_name=feature, layer_to_steer=layer_to_steer)"
   ]
  },
  {
   "cell_type": "markdown",
   "id": "c6ad3fc3",
   "metadata": {},
   "source": [
    "After the Setup we have:\n",
    "- model, model_output, original_embeddings, encoded_input, all_texts_data\n",
    "- feature\n",
    "- category\n",
    "- type\n",
    "- layer_to_steer, layer_to_plot\n",
    "- steering_coefficient\n",
    "- steering_vector"
   ]
  },
  {
   "cell_type": "markdown",
   "id": "ff89e4e5",
   "metadata": {},
   "source": [
    "## Analysis"
   ]
  },
  {
   "cell_type": "markdown",
   "id": "6c1c3a77",
   "metadata": {},
   "source": [
    "### <a id=\"get-category-activations\"></a>Get Category Activations\n",
    "\n",
    "`get_category_activations` calculates the activations for each neuron in a specific layer for a category.\n",
    "- `layer_to_plot` is a layer that comes after the layer that was steered. This is because you will not see the effect on the activations of the neurons in the same layer that you apply the steering."
   ]
  },
  {
   "cell_type": "code",
   "execution_count": 21,
   "id": "e58a6995",
   "metadata": {},
   "outputs": [
    {
     "name": "stdout",
     "output_type": "stream",
     "text": [
      "Created steered model output with shape: torch.Size([1000, 66, 384])\n"
     ]
    }
   ],
   "source": [
    "# Get the category activations for the original model output\n",
    "original_category_activations = get_category_activations(model_output, encoded_input, all_texts_data, layer_index=layer_to_plot)\n",
    "\n",
    "# Create the steered model output\n",
    "steered_model_output = create_steered_model_output(\n",
    "    model, \n",
    "    encoded_input, \n",
    "    layer_to_steer=layer_to_steer, \n",
    "    steering_coefficient=steering_coefficient, \n",
    "    steering_vector=steering_vector\n",
    "    )\n",
    "# Get the category activations for the steered model output\n",
    "steered_category_activations = get_category_activations(steered_model_output, encoded_input, all_texts_data, layer_index=layer_to_plot)"
   ]
  },
  {
   "cell_type": "markdown",
   "id": "2181e4a7",
   "metadata": {},
   "source": [
    "### <a id=\"plot-category-activations\"></a>Plot Category Activations\n",
    "\n",
    "`plot_category_activations` plots the activation values (y-axis) and the neuron index (x-axis) that was calculated from `get_category_activations`\n",
    "- `original_category_activations` are the original activation values for the neurons retrieved from `get_category_activations`\n",
    "- `steered_category_activations` are the steered acitvation values for the neurons retrieved from `get_category_activations`\n",
    "- `category` is what category to retrive the activations for.\n",
    "- `info_string` is what will be displayed in the title of the plot to keep track of the selected parameters for that plot."
   ]
  },
  {
   "cell_type": "code",
   "execution_count": 22,
   "id": "fc0211b6",
   "metadata": {},
   "outputs": [
    {
     "data": {
      "application/vnd.plotly.v1+json": {
       "config": {
        "plotlyServerURL": "https://plot.ly"
       },
       "data": [
        {
         "name": "Action",
         "type": "bar",
         "width": 0.8,
         "x": [
          0,
          1,
          2,
          3,
          4,
          5,
          6,
          7,
          8,
          9,
          10,
          11,
          12,
          13,
          14,
          15,
          16,
          17,
          18,
          19,
          20,
          21,
          22,
          23,
          24,
          25,
          26,
          27,
          28,
          29,
          30,
          31,
          32,
          33,
          34,
          35,
          36,
          37,
          38,
          39,
          40,
          41,
          42,
          43,
          44,
          45,
          46,
          47,
          48,
          49,
          50,
          51,
          52,
          53,
          54,
          55,
          56,
          57,
          58,
          59,
          60,
          61,
          62,
          63,
          64,
          65,
          66,
          67,
          68,
          69,
          70,
          71,
          72,
          73,
          74,
          75,
          76,
          77,
          78,
          79,
          80,
          81,
          82,
          83,
          84,
          85,
          86,
          87,
          88,
          89,
          90,
          91,
          92,
          93,
          94,
          95,
          96,
          97,
          98,
          99,
          100,
          101,
          102,
          103,
          104,
          105,
          106,
          107,
          108,
          109,
          110,
          111,
          112,
          113,
          114,
          115,
          116,
          117,
          118,
          119,
          120,
          121,
          122,
          123,
          124,
          125,
          126,
          127,
          128,
          129,
          130,
          131,
          132,
          133,
          134,
          135,
          136,
          137,
          138,
          139,
          140,
          141,
          142,
          143,
          144,
          145,
          146,
          147,
          148,
          149,
          150,
          151,
          152,
          153,
          154,
          155,
          156,
          157,
          158,
          159,
          160,
          161,
          162,
          163,
          164,
          165,
          166,
          167,
          168,
          169,
          170,
          171,
          172,
          173,
          174,
          175,
          176,
          177,
          178,
          179,
          180,
          181,
          182,
          183,
          184,
          185,
          186,
          187,
          188,
          189,
          190,
          191,
          192,
          193,
          194,
          195,
          196,
          197,
          198,
          199,
          200,
          201,
          202,
          203,
          204,
          205,
          206,
          207,
          208,
          209,
          210,
          211,
          212,
          213,
          214,
          215,
          216,
          217,
          218,
          219,
          220,
          221,
          222,
          223,
          224,
          225,
          226,
          227,
          228,
          229,
          230,
          231,
          232,
          233,
          234,
          235,
          236,
          237,
          238,
          239,
          240,
          241,
          242,
          243,
          244,
          245,
          246,
          247,
          248,
          249,
          250,
          251,
          252,
          253,
          254,
          255,
          256,
          257,
          258,
          259,
          260,
          261,
          262,
          263,
          264,
          265,
          266,
          267,
          268,
          269,
          270,
          271,
          272,
          273,
          274,
          275,
          276,
          277,
          278,
          279,
          280,
          281,
          282,
          283,
          284,
          285,
          286,
          287,
          288,
          289,
          290,
          291,
          292,
          293,
          294,
          295,
          296,
          297,
          298,
          299,
          300,
          301,
          302,
          303,
          304,
          305,
          306,
          307,
          308,
          309,
          310,
          311,
          312,
          313,
          314,
          315,
          316,
          317,
          318,
          319,
          320,
          321,
          322,
          323,
          324,
          325,
          326,
          327,
          328,
          329,
          330,
          331,
          332,
          333,
          334,
          335,
          336,
          337,
          338,
          339,
          340,
          341,
          342,
          343,
          344,
          345,
          346,
          347,
          348,
          349,
          350,
          351,
          352,
          353,
          354,
          355,
          356,
          357,
          358,
          359,
          360,
          361,
          362,
          363,
          364,
          365,
          366,
          367,
          368,
          369,
          370,
          371,
          372,
          373,
          374,
          375,
          376,
          377,
          378,
          379,
          380,
          381,
          382,
          383
         ],
         "y": {
          "bdata": "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",
          "dtype": "f4"
         }
        }
       ],
       "layout": {
        "template": {
         "data": {
          "bar": [
           {
            "error_x": {
             "color": "#2a3f5f"
            },
            "error_y": {
             "color": "#2a3f5f"
            },
            "marker": {
             "line": {
              "color": "#E5ECF6",
              "width": 0.5
             },
             "pattern": {
              "fillmode": "overlay",
              "size": 10,
              "solidity": 0.2
             }
            },
            "type": "bar"
           }
          ],
          "barpolar": [
           {
            "marker": {
             "line": {
              "color": "#E5ECF6",
              "width": 0.5
             },
             "pattern": {
              "fillmode": "overlay",
              "size": 10,
              "solidity": 0.2
             }
            },
            "type": "barpolar"
           }
          ],
          "carpet": [
           {
            "aaxis": {
             "endlinecolor": "#2a3f5f",
             "gridcolor": "white",
             "linecolor": "white",
             "minorgridcolor": "white",
             "startlinecolor": "#2a3f5f"
            },
            "baxis": {
             "endlinecolor": "#2a3f5f",
             "gridcolor": "white",
             "linecolor": "white",
             "minorgridcolor": "white",
             "startlinecolor": "#2a3f5f"
            },
            "type": "carpet"
           }
          ],
          "choropleth": [
           {
            "colorbar": {
             "outlinewidth": 0,
             "ticks": ""
            },
            "type": "choropleth"
           }
          ],
          "contour": [
           {
            "colorbar": {
             "outlinewidth": 0,
             "ticks": ""
            },
            "colorscale": [
             [
              0,
              "#0d0887"
             ],
             [
              0.1111111111111111,
              "#46039f"
             ],
             [
              0.2222222222222222,
              "#7201a8"
             ],
             [
              0.3333333333333333,
              "#9c179e"
             ],
             [
              0.4444444444444444,
              "#bd3786"
             ],
             [
              0.5555555555555556,
              "#d8576b"
             ],
             [
              0.6666666666666666,
              "#ed7953"
             ],
             [
              0.7777777777777778,
              "#fb9f3a"
             ],
             [
              0.8888888888888888,
              "#fdca26"
             ],
             [
              1,
              "#f0f921"
             ]
            ],
            "type": "contour"
           }
          ],
          "contourcarpet": [
           {
            "colorbar": {
             "outlinewidth": 0,
             "ticks": ""
            },
            "type": "contourcarpet"
           }
          ],
          "heatmap": [
           {
            "colorbar": {
             "outlinewidth": 0,
             "ticks": ""
            },
            "colorscale": [
             [
              0,
              "#0d0887"
             ],
             [
              0.1111111111111111,
              "#46039f"
             ],
             [
              0.2222222222222222,
              "#7201a8"
             ],
             [
              0.3333333333333333,
              "#9c179e"
             ],
             [
              0.4444444444444444,
              "#bd3786"
             ],
             [
              0.5555555555555556,
              "#d8576b"
             ],
             [
              0.6666666666666666,
              "#ed7953"
             ],
             [
              0.7777777777777778,
              "#fb9f3a"
             ],
             [
              0.8888888888888888,
              "#fdca26"
             ],
             [
              1,
              "#f0f921"
             ]
            ],
            "type": "heatmap"
           }
          ],
          "histogram": [
           {
            "marker": {
             "pattern": {
              "fillmode": "overlay",
              "size": 10,
              "solidity": 0.2
             }
            },
            "type": "histogram"
           }
          ],
          "histogram2d": [
           {
            "colorbar": {
             "outlinewidth": 0,
             "ticks": ""
            },
            "colorscale": [
             [
              0,
              "#0d0887"
             ],
             [
              0.1111111111111111,
              "#46039f"
             ],
             [
              0.2222222222222222,
              "#7201a8"
             ],
             [
              0.3333333333333333,
              "#9c179e"
             ],
             [
              0.4444444444444444,
              "#bd3786"
             ],
             [
              0.5555555555555556,
              "#d8576b"
             ],
             [
              0.6666666666666666,
              "#ed7953"
             ],
             [
              0.7777777777777778,
              "#fb9f3a"
             ],
             [
              0.8888888888888888,
              "#fdca26"
             ],
             [
              1,
              "#f0f921"
             ]
            ],
            "type": "histogram2d"
           }
          ],
          "histogram2dcontour": [
           {
            "colorbar": {
             "outlinewidth": 0,
             "ticks": ""
            },
            "colorscale": [
             [
              0,
              "#0d0887"
             ],
             [
              0.1111111111111111,
              "#46039f"
             ],
             [
              0.2222222222222222,
              "#7201a8"
             ],
             [
              0.3333333333333333,
              "#9c179e"
             ],
             [
              0.4444444444444444,
              "#bd3786"
             ],
             [
              0.5555555555555556,
              "#d8576b"
             ],
             [
              0.6666666666666666,
              "#ed7953"
             ],
             [
              0.7777777777777778,
              "#fb9f3a"
             ],
             [
              0.8888888888888888,
              "#fdca26"
             ],
             [
              1,
              "#f0f921"
             ]
            ],
            "type": "histogram2dcontour"
           }
          ],
          "mesh3d": [
           {
            "colorbar": {
             "outlinewidth": 0,
             "ticks": ""
            },
            "type": "mesh3d"
           }
          ],
          "parcoords": [
           {
            "line": {
             "colorbar": {
              "outlinewidth": 0,
              "ticks": ""
             }
            },
            "type": "parcoords"
           }
          ],
          "pie": [
           {
            "automargin": true,
            "type": "pie"
           }
          ],
          "scatter": [
           {
            "fillpattern": {
             "fillmode": "overlay",
             "size": 10,
             "solidity": 0.2
            },
            "type": "scatter"
           }
          ],
          "scatter3d": [
           {
            "line": {
             "colorbar": {
              "outlinewidth": 0,
              "ticks": ""
             }
            },
            "marker": {
             "colorbar": {
              "outlinewidth": 0,
              "ticks": ""
             }
            },
            "type": "scatter3d"
           }
          ],
          "scattercarpet": [
           {
            "marker": {
             "colorbar": {
              "outlinewidth": 0,
              "ticks": ""
             }
            },
            "type": "scattercarpet"
           }
          ],
          "scattergeo": [
           {
            "marker": {
             "colorbar": {
              "outlinewidth": 0,
              "ticks": ""
             }
            },
            "type": "scattergeo"
           }
          ],
          "scattergl": [
           {
            "marker": {
             "colorbar": {
              "outlinewidth": 0,
              "ticks": ""
             }
            },
            "type": "scattergl"
           }
          ],
          "scattermap": [
           {
            "marker": {
             "colorbar": {
              "outlinewidth": 0,
              "ticks": ""
             }
            },
            "type": "scattermap"
           }
          ],
          "scattermapbox": [
           {
            "marker": {
             "colorbar": {
              "outlinewidth": 0,
              "ticks": ""
             }
            },
            "type": "scattermapbox"
           }
          ],
          "scatterpolar": [
           {
            "marker": {
             "colorbar": {
              "outlinewidth": 0,
              "ticks": ""
             }
            },
            "type": "scatterpolar"
           }
          ],
          "scatterpolargl": [
           {
            "marker": {
             "colorbar": {
              "outlinewidth": 0,
              "ticks": ""
             }
            },
            "type": "scatterpolargl"
           }
          ],
          "scatterternary": [
           {
            "marker": {
             "colorbar": {
              "outlinewidth": 0,
              "ticks": ""
             }
            },
            "type": "scatterternary"
           }
          ],
          "surface": [
           {
            "colorbar": {
             "outlinewidth": 0,
             "ticks": ""
            },
            "colorscale": [
             [
              0,
              "#0d0887"
             ],
             [
              0.1111111111111111,
              "#46039f"
             ],
             [
              0.2222222222222222,
              "#7201a8"
             ],
             [
              0.3333333333333333,
              "#9c179e"
             ],
             [
              0.4444444444444444,
              "#bd3786"
             ],
             [
              0.5555555555555556,
              "#d8576b"
             ],
             [
              0.6666666666666666,
              "#ed7953"
             ],
             [
              0.7777777777777778,
              "#fb9f3a"
             ],
             [
              0.8888888888888888,
              "#fdca26"
             ],
             [
              1,
              "#f0f921"
             ]
            ],
            "type": "surface"
           }
          ],
          "table": [
           {
            "cells": {
             "fill": {
              "color": "#EBF0F8"
             },
             "line": {
              "color": "white"
             }
            },
            "header": {
             "fill": {
              "color": "#C8D4E3"
             },
             "line": {
              "color": "white"
             }
            },
            "type": "table"
           }
          ]
         },
         "layout": {
          "annotationdefaults": {
           "arrowcolor": "#2a3f5f",
           "arrowhead": 0,
           "arrowwidth": 1
          },
          "autotypenumbers": "strict",
          "coloraxis": {
           "colorbar": {
            "outlinewidth": 0,
            "ticks": ""
           }
          },
          "colorscale": {
           "diverging": [
            [
             0,
             "#8e0152"
            ],
            [
             0.1,
             "#c51b7d"
            ],
            [
             0.2,
             "#de77ae"
            ],
            [
             0.3,
             "#f1b6da"
            ],
            [
             0.4,
             "#fde0ef"
            ],
            [
             0.5,
             "#f7f7f7"
            ],
            [
             0.6,
             "#e6f5d0"
            ],
            [
             0.7,
             "#b8e186"
            ],
            [
             0.8,
             "#7fbc41"
            ],
            [
             0.9,
             "#4d9221"
            ],
            [
             1,
             "#276419"
            ]
           ],
           "sequential": [
            [
             0,
             "#0d0887"
            ],
            [
             0.1111111111111111,
             "#46039f"
            ],
            [
             0.2222222222222222,
             "#7201a8"
            ],
            [
             0.3333333333333333,
             "#9c179e"
            ],
            [
             0.4444444444444444,
             "#bd3786"
            ],
            [
             0.5555555555555556,
             "#d8576b"
            ],
            [
             0.6666666666666666,
             "#ed7953"
            ],
            [
             0.7777777777777778,
             "#fb9f3a"
            ],
            [
             0.8888888888888888,
             "#fdca26"
            ],
            [
             1,
             "#f0f921"
            ]
           ],
           "sequentialminus": [
            [
             0,
             "#0d0887"
            ],
            [
             0.1111111111111111,
             "#46039f"
            ],
            [
             0.2222222222222222,
             "#7201a8"
            ],
            [
             0.3333333333333333,
             "#9c179e"
            ],
            [
             0.4444444444444444,
             "#bd3786"
            ],
            [
             0.5555555555555556,
             "#d8576b"
            ],
            [
             0.6666666666666666,
             "#ed7953"
            ],
            [
             0.7777777777777778,
             "#fb9f3a"
            ],
            [
             0.8888888888888888,
             "#fdca26"
            ],
            [
             1,
             "#f0f921"
            ]
           ]
          },
          "colorway": [
           "#636efa",
           "#EF553B",
           "#00cc96",
           "#ab63fa",
           "#FFA15A",
           "#19d3f3",
           "#FF6692",
           "#B6E880",
           "#FF97FF",
           "#FECB52"
          ],
          "font": {
           "color": "#2a3f5f"
          },
          "geo": {
           "bgcolor": "white",
           "lakecolor": "white",
           "landcolor": "#E5ECF6",
           "showlakes": true,
           "showland": true,
           "subunitcolor": "white"
          },
          "hoverlabel": {
           "align": "left"
          },
          "hovermode": "closest",
          "mapbox": {
           "style": "light"
          },
          "paper_bgcolor": "white",
          "plot_bgcolor": "#E5ECF6",
          "polar": {
           "angularaxis": {
            "gridcolor": "white",
            "linecolor": "white",
            "ticks": ""
           },
           "bgcolor": "#E5ECF6",
           "radialaxis": {
            "gridcolor": "white",
            "linecolor": "white",
            "ticks": ""
           }
          },
          "scene": {
           "xaxis": {
            "backgroundcolor": "#E5ECF6",
            "gridcolor": "white",
            "gridwidth": 2,
            "linecolor": "white",
            "showbackground": true,
            "ticks": "",
            "zerolinecolor": "white"
           },
           "yaxis": {
            "backgroundcolor": "#E5ECF6",
            "gridcolor": "white",
            "gridwidth": 2,
            "linecolor": "white",
            "showbackground": true,
            "ticks": "",
            "zerolinecolor": "white"
           },
           "zaxis": {
            "backgroundcolor": "#E5ECF6",
            "gridcolor": "white",
            "gridwidth": 2,
            "linecolor": "white",
            "showbackground": true,
            "ticks": "",
            "zerolinecolor": "white"
           }
          },
          "shapedefaults": {
           "line": {
            "color": "#2a3f5f"
           }
          },
          "ternary": {
           "aaxis": {
            "gridcolor": "white",
            "linecolor": "white",
            "ticks": ""
           },
           "baxis": {
            "gridcolor": "white",
            "linecolor": "white",
            "ticks": ""
           },
           "bgcolor": "#E5ECF6",
           "caxis": {
            "gridcolor": "white",
            "linecolor": "white",
            "ticks": ""
           }
          },
          "title": {
           "x": 0.05
          },
          "xaxis": {
           "automargin": true,
           "gridcolor": "white",
           "linecolor": "white",
           "ticks": "",
           "title": {
            "standoff": 15
           },
           "zerolinecolor": "white",
           "zerolinewidth": 2
          },
          "yaxis": {
           "automargin": true,
           "gridcolor": "white",
           "linecolor": "white",
           "ticks": "",
           "title": {
            "standoff": 15
           },
           "zerolinecolor": "white",
           "zerolinewidth": 2
          }
         }
        },
        "title": {
         "text": "Category Activations for Action | Count: 16 | Layer: 11"
        },
        "xaxis": {
         "title": {
          "text": "Neuron Index"
         }
        },
        "yaxis": {
         "title": {
          "text": "Activation Value"
         }
        }
       }
      }
     },
     "metadata": {},
     "output_type": "display_data"
    }
   ],
   "source": [
    "# Plot the category activations for the original model output\n",
    "info_string = f'Category Activations for {category} | Count: {len(all_texts_data[all_texts_data[\"genre\"] == category])} | Layer: {layer_to_plot}'\n",
    "plot_category_activations(original_category_activations, category, info_string)"
   ]
  },
  {
   "cell_type": "code",
   "execution_count": 23,
   "id": "94db8b31",
   "metadata": {},
   "outputs": [
    {
     "data": {
      "application/vnd.plotly.v1+json": {
       "config": {
        "plotlyServerURL": "https://plot.ly"
       },
       "data": [
        {
         "name": "Action",
         "type": "bar",
         "width": 0.8,
         "x": [
          0,
          1,
          2,
          3,
          4,
          5,
          6,
          7,
          8,
          9,
          10,
          11,
          12,
          13,
          14,
          15,
          16,
          17,
          18,
          19,
          20,
          21,
          22,
          23,
          24,
          25,
          26,
          27,
          28,
          29,
          30,
          31,
          32,
          33,
          34,
          35,
          36,
          37,
          38,
          39,
          40,
          41,
          42,
          43,
          44,
          45,
          46,
          47,
          48,
          49,
          50,
          51,
          52,
          53,
          54,
          55,
          56,
          57,
          58,
          59,
          60,
          61,
          62,
          63,
          64,
          65,
          66,
          67,
          68,
          69,
          70,
          71,
          72,
          73,
          74,
          75,
          76,
          77,
          78,
          79,
          80,
          81,
          82,
          83,
          84,
          85,
          86,
          87,
          88,
          89,
          90,
          91,
          92,
          93,
          94,
          95,
          96,
          97,
          98,
          99,
          100,
          101,
          102,
          103,
          104,
          105,
          106,
          107,
          108,
          109,
          110,
          111,
          112,
          113,
          114,
          115,
          116,
          117,
          118,
          119,
          120,
          121,
          122,
          123,
          124,
          125,
          126,
          127,
          128,
          129,
          130,
          131,
          132,
          133,
          134,
          135,
          136,
          137,
          138,
          139,
          140,
          141,
          142,
          143,
          144,
          145,
          146,
          147,
          148,
          149,
          150,
          151,
          152,
          153,
          154,
          155,
          156,
          157,
          158,
          159,
          160,
          161,
          162,
          163,
          164,
          165,
          166,
          167,
          168,
          169,
          170,
          171,
          172,
          173,
          174,
          175,
          176,
          177,
          178,
          179,
          180,
          181,
          182,
          183,
          184,
          185,
          186,
          187,
          188,
          189,
          190,
          191,
          192,
          193,
          194,
          195,
          196,
          197,
          198,
          199,
          200,
          201,
          202,
          203,
          204,
          205,
          206,
          207,
          208,
          209,
          210,
          211,
          212,
          213,
          214,
          215,
          216,
          217,
          218,
          219,
          220,
          221,
          222,
          223,
          224,
          225,
          226,
          227,
          228,
          229,
          230,
          231,
          232,
          233,
          234,
          235,
          236,
          237,
          238,
          239,
          240,
          241,
          242,
          243,
          244,
          245,
          246,
          247,
          248,
          249,
          250,
          251,
          252,
          253,
          254,
          255,
          256,
          257,
          258,
          259,
          260,
          261,
          262,
          263,
          264,
          265,
          266,
          267,
          268,
          269,
          270,
          271,
          272,
          273,
          274,
          275,
          276,
          277,
          278,
          279,
          280,
          281,
          282,
          283,
          284,
          285,
          286,
          287,
          288,
          289,
          290,
          291,
          292,
          293,
          294,
          295,
          296,
          297,
          298,
          299,
          300,
          301,
          302,
          303,
          304,
          305,
          306,
          307,
          308,
          309,
          310,
          311,
          312,
          313,
          314,
          315,
          316,
          317,
          318,
          319,
          320,
          321,
          322,
          323,
          324,
          325,
          326,
          327,
          328,
          329,
          330,
          331,
          332,
          333,
          334,
          335,
          336,
          337,
          338,
          339,
          340,
          341,
          342,
          343,
          344,
          345,
          346,
          347,
          348,
          349,
          350,
          351,
          352,
          353,
          354,
          355,
          356,
          357,
          358,
          359,
          360,
          361,
          362,
          363,
          364,
          365,
          366,
          367,
          368,
          369,
          370,
          371,
          372,
          373,
          374,
          375,
          376,
          377,
          378,
          379,
          380,
          381,
          382,
          383
         ],
         "y": {
          "bdata": "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",
          "dtype": "f4"
         }
        }
       ],
       "layout": {
        "template": {
         "data": {
          "bar": [
           {
            "error_x": {
             "color": "#2a3f5f"
            },
            "error_y": {
             "color": "#2a3f5f"
            },
            "marker": {
             "line": {
              "color": "#E5ECF6",
              "width": 0.5
             },
             "pattern": {
              "fillmode": "overlay",
              "size": 10,
              "solidity": 0.2
             }
            },
            "type": "bar"
           }
          ],
          "barpolar": [
           {
            "marker": {
             "line": {
              "color": "#E5ECF6",
              "width": 0.5
             },
             "pattern": {
              "fillmode": "overlay",
              "size": 10,
              "solidity": 0.2
             }
            },
            "type": "barpolar"
           }
          ],
          "carpet": [
           {
            "aaxis": {
             "endlinecolor": "#2a3f5f",
             "gridcolor": "white",
             "linecolor": "white",
             "minorgridcolor": "white",
             "startlinecolor": "#2a3f5f"
            },
            "baxis": {
             "endlinecolor": "#2a3f5f",
             "gridcolor": "white",
             "linecolor": "white",
             "minorgridcolor": "white",
             "startlinecolor": "#2a3f5f"
            },
            "type": "carpet"
           }
          ],
          "choropleth": [
           {
            "colorbar": {
             "outlinewidth": 0,
             "ticks": ""
            },
            "type": "choropleth"
           }
          ],
          "contour": [
           {
            "colorbar": {
             "outlinewidth": 0,
             "ticks": ""
            },
            "colorscale": [
             [
              0,
              "#0d0887"
             ],
             [
              0.1111111111111111,
              "#46039f"
             ],
             [
              0.2222222222222222,
              "#7201a8"
             ],
             [
              0.3333333333333333,
              "#9c179e"
             ],
             [
              0.4444444444444444,
              "#bd3786"
             ],
             [
              0.5555555555555556,
              "#d8576b"
             ],
             [
              0.6666666666666666,
              "#ed7953"
             ],
             [
              0.7777777777777778,
              "#fb9f3a"
             ],
             [
              0.8888888888888888,
              "#fdca26"
             ],
             [
              1,
              "#f0f921"
             ]
            ],
            "type": "contour"
           }
          ],
          "contourcarpet": [
           {
            "colorbar": {
             "outlinewidth": 0,
             "ticks": ""
            },
            "type": "contourcarpet"
           }
          ],
          "heatmap": [
           {
            "colorbar": {
             "outlinewidth": 0,
             "ticks": ""
            },
            "colorscale": [
             [
              0,
              "#0d0887"
             ],
             [
              0.1111111111111111,
              "#46039f"
             ],
             [
              0.2222222222222222,
              "#7201a8"
             ],
             [
              0.3333333333333333,
              "#9c179e"
             ],
             [
              0.4444444444444444,
              "#bd3786"
             ],
             [
              0.5555555555555556,
              "#d8576b"
             ],
             [
              0.6666666666666666,
              "#ed7953"
             ],
             [
              0.7777777777777778,
              "#fb9f3a"
             ],
             [
              0.8888888888888888,
              "#fdca26"
             ],
             [
              1,
              "#f0f921"
             ]
            ],
            "type": "heatmap"
           }
          ],
          "histogram": [
           {
            "marker": {
             "pattern": {
              "fillmode": "overlay",
              "size": 10,
              "solidity": 0.2
             }
            },
            "type": "histogram"
           }
          ],
          "histogram2d": [
           {
            "colorbar": {
             "outlinewidth": 0,
             "ticks": ""
            },
            "colorscale": [
             [
              0,
              "#0d0887"
             ],
             [
              0.1111111111111111,
              "#46039f"
             ],
             [
              0.2222222222222222,
              "#7201a8"
             ],
             [
              0.3333333333333333,
              "#9c179e"
             ],
             [
              0.4444444444444444,
              "#bd3786"
             ],
             [
              0.5555555555555556,
              "#d8576b"
             ],
             [
              0.6666666666666666,
              "#ed7953"
             ],
             [
              0.7777777777777778,
              "#fb9f3a"
             ],
             [
              0.8888888888888888,
              "#fdca26"
             ],
             [
              1,
              "#f0f921"
             ]
            ],
            "type": "histogram2d"
           }
          ],
          "histogram2dcontour": [
           {
            "colorbar": {
             "outlinewidth": 0,
             "ticks": ""
            },
            "colorscale": [
             [
              0,
              "#0d0887"
             ],
             [
              0.1111111111111111,
              "#46039f"
             ],
             [
              0.2222222222222222,
              "#7201a8"
             ],
             [
              0.3333333333333333,
              "#9c179e"
             ],
             [
              0.4444444444444444,
              "#bd3786"
             ],
             [
              0.5555555555555556,
              "#d8576b"
             ],
             [
              0.6666666666666666,
              "#ed7953"
             ],
             [
              0.7777777777777778,
              "#fb9f3a"
             ],
             [
              0.8888888888888888,
              "#fdca26"
             ],
             [
              1,
              "#f0f921"
             ]
            ],
            "type": "histogram2dcontour"
           }
          ],
          "mesh3d": [
           {
            "colorbar": {
             "outlinewidth": 0,
             "ticks": ""
            },
            "type": "mesh3d"
           }
          ],
          "parcoords": [
           {
            "line": {
             "colorbar": {
              "outlinewidth": 0,
              "ticks": ""
             }
            },
            "type": "parcoords"
           }
          ],
          "pie": [
           {
            "automargin": true,
            "type": "pie"
           }
          ],
          "scatter": [
           {
            "fillpattern": {
             "fillmode": "overlay",
             "size": 10,
             "solidity": 0.2
            },
            "type": "scatter"
           }
          ],
          "scatter3d": [
           {
            "line": {
             "colorbar": {
              "outlinewidth": 0,
              "ticks": ""
             }
            },
            "marker": {
             "colorbar": {
              "outlinewidth": 0,
              "ticks": ""
             }
            },
            "type": "scatter3d"
           }
          ],
          "scattercarpet": [
           {
            "marker": {
             "colorbar": {
              "outlinewidth": 0,
              "ticks": ""
             }
            },
            "type": "scattercarpet"
           }
          ],
          "scattergeo": [
           {
            "marker": {
             "colorbar": {
              "outlinewidth": 0,
              "ticks": ""
             }
            },
            "type": "scattergeo"
           }
          ],
          "scattergl": [
           {
            "marker": {
             "colorbar": {
              "outlinewidth": 0,
              "ticks": ""
             }
            },
            "type": "scattergl"
           }
          ],
          "scattermap": [
           {
            "marker": {
             "colorbar": {
              "outlinewidth": 0,
              "ticks": ""
             }
            },
            "type": "scattermap"
           }
          ],
          "scattermapbox": [
           {
            "marker": {
             "colorbar": {
              "outlinewidth": 0,
              "ticks": ""
             }
            },
            "type": "scattermapbox"
           }
          ],
          "scatterpolar": [
           {
            "marker": {
             "colorbar": {
              "outlinewidth": 0,
              "ticks": ""
             }
            },
            "type": "scatterpolar"
           }
          ],
          "scatterpolargl": [
           {
            "marker": {
             "colorbar": {
              "outlinewidth": 0,
              "ticks": ""
             }
            },
            "type": "scatterpolargl"
           }
          ],
          "scatterternary": [
           {
            "marker": {
             "colorbar": {
              "outlinewidth": 0,
              "ticks": ""
             }
            },
            "type": "scatterternary"
           }
          ],
          "surface": [
           {
            "colorbar": {
             "outlinewidth": 0,
             "ticks": ""
            },
            "colorscale": [
             [
              0,
              "#0d0887"
             ],
             [
              0.1111111111111111,
              "#46039f"
             ],
             [
              0.2222222222222222,
              "#7201a8"
             ],
             [
              0.3333333333333333,
              "#9c179e"
             ],
             [
              0.4444444444444444,
              "#bd3786"
             ],
             [
              0.5555555555555556,
              "#d8576b"
             ],
             [
              0.6666666666666666,
              "#ed7953"
             ],
             [
              0.7777777777777778,
              "#fb9f3a"
             ],
             [
              0.8888888888888888,
              "#fdca26"
             ],
             [
              1,
              "#f0f921"
             ]
            ],
            "type": "surface"
           }
          ],
          "table": [
           {
            "cells": {
             "fill": {
              "color": "#EBF0F8"
             },
             "line": {
              "color": "white"
             }
            },
            "header": {
             "fill": {
              "color": "#C8D4E3"
             },
             "line": {
              "color": "white"
             }
            },
            "type": "table"
           }
          ]
         },
         "layout": {
          "annotationdefaults": {
           "arrowcolor": "#2a3f5f",
           "arrowhead": 0,
           "arrowwidth": 1
          },
          "autotypenumbers": "strict",
          "coloraxis": {
           "colorbar": {
            "outlinewidth": 0,
            "ticks": ""
           }
          },
          "colorscale": {
           "diverging": [
            [
             0,
             "#8e0152"
            ],
            [
             0.1,
             "#c51b7d"
            ],
            [
             0.2,
             "#de77ae"
            ],
            [
             0.3,
             "#f1b6da"
            ],
            [
             0.4,
             "#fde0ef"
            ],
            [
             0.5,
             "#f7f7f7"
            ],
            [
             0.6,
             "#e6f5d0"
            ],
            [
             0.7,
             "#b8e186"
            ],
            [
             0.8,
             "#7fbc41"
            ],
            [
             0.9,
             "#4d9221"
            ],
            [
             1,
             "#276419"
            ]
           ],
           "sequential": [
            [
             0,
             "#0d0887"
            ],
            [
             0.1111111111111111,
             "#46039f"
            ],
            [
             0.2222222222222222,
             "#7201a8"
            ],
            [
             0.3333333333333333,
             "#9c179e"
            ],
            [
             0.4444444444444444,
             "#bd3786"
            ],
            [
             0.5555555555555556,
             "#d8576b"
            ],
            [
             0.6666666666666666,
             "#ed7953"
            ],
            [
             0.7777777777777778,
             "#fb9f3a"
            ],
            [
             0.8888888888888888,
             "#fdca26"
            ],
            [
             1,
             "#f0f921"
            ]
           ],
           "sequentialminus": [
            [
             0,
             "#0d0887"
            ],
            [
             0.1111111111111111,
             "#46039f"
            ],
            [
             0.2222222222222222,
             "#7201a8"
            ],
            [
             0.3333333333333333,
             "#9c179e"
            ],
            [
             0.4444444444444444,
             "#bd3786"
            ],
            [
             0.5555555555555556,
             "#d8576b"
            ],
            [
             0.6666666666666666,
             "#ed7953"
            ],
            [
             0.7777777777777778,
             "#fb9f3a"
            ],
            [
             0.8888888888888888,
             "#fdca26"
            ],
            [
             1,
             "#f0f921"
            ]
           ]
          },
          "colorway": [
           "#636efa",
           "#EF553B",
           "#00cc96",
           "#ab63fa",
           "#FFA15A",
           "#19d3f3",
           "#FF6692",
           "#B6E880",
           "#FF97FF",
           "#FECB52"
          ],
          "font": {
           "color": "#2a3f5f"
          },
          "geo": {
           "bgcolor": "white",
           "lakecolor": "white",
           "landcolor": "#E5ECF6",
           "showlakes": true,
           "showland": true,
           "subunitcolor": "white"
          },
          "hoverlabel": {
           "align": "left"
          },
          "hovermode": "closest",
          "mapbox": {
           "style": "light"
          },
          "paper_bgcolor": "white",
          "plot_bgcolor": "#E5ECF6",
          "polar": {
           "angularaxis": {
            "gridcolor": "white",
            "linecolor": "white",
            "ticks": ""
           },
           "bgcolor": "#E5ECF6",
           "radialaxis": {
            "gridcolor": "white",
            "linecolor": "white",
            "ticks": ""
           }
          },
          "scene": {
           "xaxis": {
            "backgroundcolor": "#E5ECF6",
            "gridcolor": "white",
            "gridwidth": 2,
            "linecolor": "white",
            "showbackground": true,
            "ticks": "",
            "zerolinecolor": "white"
           },
           "yaxis": {
            "backgroundcolor": "#E5ECF6",
            "gridcolor": "white",
            "gridwidth": 2,
            "linecolor": "white",
            "showbackground": true,
            "ticks": "",
            "zerolinecolor": "white"
           },
           "zaxis": {
            "backgroundcolor": "#E5ECF6",
            "gridcolor": "white",
            "gridwidth": 2,
            "linecolor": "white",
            "showbackground": true,
            "ticks": "",
            "zerolinecolor": "white"
           }
          },
          "shapedefaults": {
           "line": {
            "color": "#2a3f5f"
           }
          },
          "ternary": {
           "aaxis": {
            "gridcolor": "white",
            "linecolor": "white",
            "ticks": ""
           },
           "baxis": {
            "gridcolor": "white",
            "linecolor": "white",
            "ticks": ""
           },
           "bgcolor": "#E5ECF6",
           "caxis": {
            "gridcolor": "white",
            "linecolor": "white",
            "ticks": ""
           }
          },
          "title": {
           "x": 0.05
          },
          "xaxis": {
           "automargin": true,
           "gridcolor": "white",
           "linecolor": "white",
           "ticks": "",
           "title": {
            "standoff": 15
           },
           "zerolinecolor": "white",
           "zerolinewidth": 2
          },
          "yaxis": {
           "automargin": true,
           "gridcolor": "white",
           "linecolor": "white",
           "ticks": "",
           "title": {
            "standoff": 15
           },
           "zerolinecolor": "white",
           "zerolinewidth": 2
          }
         }
        },
        "title": {
         "text": "Category Activations for Action | Count: 16 | Layer: 11 | Steering Coefficient: 10 | Steered layer: 10"
        },
        "xaxis": {
         "title": {
          "text": "Neuron Index"
         }
        },
        "yaxis": {
         "title": {
          "text": "Activation Value"
         }
        }
       }
      }
     },
     "metadata": {},
     "output_type": "display_data"
    }
   ],
   "source": [
    "# Plot the category activations for the steered model output\n",
    "info_string = f'Category Activations for {category} | Count: {len(all_texts_data[all_texts_data[\"genre\"] == category])} | Layer: {layer_to_plot} | Steering Coefficient: {steering_coefficient} | Steered layer: {layer_to_steer}'\n",
    "plot_category_activations(steered_category_activations, category, info_string)"
   ]
  },
  {
   "cell_type": "markdown",
   "id": "8e7b4de3",
   "metadata": {},
   "source": [
    "### <a id=\"find-activation-shift\"></a>Find Activation Shift\n",
    "\n",
    "Now, we will look at how the activations of neurons shift from the original to the steered acitvations using the \"find_activation_shift\" function. The function can also create a heatmap of the top shifted neurons across categories, if the categories parameter is None\n",
    "\n",
    "`find_activation_shift` creates a printed table of the top shifted neurons (i.e. the neurons that changed the most in activatino value between the steered and original activation).\n",
    "- `original_category_activations` are the original activation values for the neurons retrieved from `get_category_activations`\n",
    "- `steered_category_activations` are the steered acitvation values for the neurons retrieved from `get_category_activations`"
   ]
  },
  {
   "cell_type": "code",
   "execution_count": 24,
   "id": "3436d34a",
   "metadata": {},
   "outputs": [
    {
     "name": "stdout",
     "output_type": "stream",
     "text": [
      "\n",
      "Printing top 5 most shifted neurons for category: Action\n",
      "\n",
      "Category: Action\n",
      "Neuron   Original    Steered      Shift\n",
      "----------------------------------------\n",
      "    69    -0.0264     1.9208    +1.9472\n",
      "   270     0.1543     1.9610    +1.8068\n",
      "   137     0.3166     1.9531    +1.6365\n",
      "   173    -0.0569    -1.5309    -1.4740\n",
      "   189    -0.0643    -1.5204    -1.4561\n"
     ]
    }
   ],
   "source": [
    "# Example of usage without heatmap for a single category\n",
    "find_activation_shift(original_category_activations, steered_category_activations, category=category, top_n=5);"
   ]
  },
  {
   "cell_type": "markdown",
   "id": "4c38477e",
   "metadata": {},
   "source": [
    "### <a id=\"create-neuron-shift-heatmap\"></a>Create Heatmap\n",
    "\n",
    "`create_neuron_shift_heatmap` will create a heatmap of the neurons that shifted the most across all categories. This helps identify both global and local activations, the heatmap only includes categories with more than 25 titles.\n",
    "- `neuron_shifts` are the shifts calculated from `find_activation_shift`\n",
    "- `all_texts_data` is the dataframe containing all information about the titles, but at least `title`, `genre` and `ovweview`.\n",
    "- `info_string` is what will be displayed in the title of the plot to keep track of the selected parameters for that plot.\n",
    "- `top_n` is how many neurons to have in the heatmap"
   ]
  },
  {
   "cell_type": "code",
   "execution_count": 25,
   "id": "3d8adac6",
   "metadata": {},
   "outputs": [
    {
     "name": "stdout",
     "output_type": "stream",
     "text": [
      "\n",
      "Printing top 5 most shifted neurons for each category:\n",
      "\n",
      "Category: Drama\n",
      "Neuron   Original    Steered      Shift\n",
      "----------------------------------------\n",
      "    69    -0.0441     1.9031    +1.9472\n",
      "   270     0.0559     1.8627    +1.8068\n",
      "   137     0.1343     1.7708    +1.6365\n",
      "   173     0.1652    -1.3088    -1.4740\n",
      "   189     0.0861    -1.3700    -1.4561\n",
      "\n",
      "Category: Crime\n",
      "Neuron   Original    Steered      Shift\n",
      "----------------------------------------\n",
      "    69    -0.0141     1.9331    +1.9472\n",
      "   270     0.0931     1.8999    +1.8068\n",
      "   137     0.3432     1.9797    +1.6365\n",
      "   173     0.0492    -1.4247    -1.4740\n",
      "   189     0.1721    -1.2840    -1.4561\n",
      "\n",
      "Category: Adventure\n",
      "Neuron   Original    Steered      Shift\n",
      "----------------------------------------\n",
      "    69    -0.1397     1.8075    +1.9472\n",
      "   270     0.0646     1.8714    +1.8068\n",
      "   137     0.2042     1.8406    +1.6365\n",
      "   173     0.0768    -1.3971    -1.4740\n",
      "   189     0.0638    -1.3923    -1.4561\n",
      "\n",
      "Category: History\n",
      "Neuron   Original    Steered      Shift\n",
      "----------------------------------------\n",
      "    69    -0.0554     1.8919    +1.9472\n",
      "   270    -0.0486     1.7582    +1.8068\n",
      "   137     0.1594     1.7959    +1.6365\n",
      "   173     0.1113    -1.3627    -1.4740\n",
      "   189     0.1239    -1.3322    -1.4561\n",
      "\n",
      "Category: Sci-Fi\n",
      "Neuron   Original    Steered      Shift\n",
      "----------------------------------------\n",
      "    69    -0.1377     1.8096    +1.9472\n",
      "   270     0.0238     1.8306    +1.8068\n",
      "   137     0.1821     1.8185    +1.6365\n",
      "   173    -0.0090    -1.4830    -1.4740\n",
      "   189    -0.0528    -1.5089    -1.4561\n",
      "\n",
      "Category: Romance\n",
      "Neuron   Original    Steered      Shift\n",
      "----------------------------------------\n",
      "    69    -0.0423     1.9050    +1.9472\n",
      "   270    -0.0277     1.7791    +1.8068\n",
      "   137     0.1553     1.7918    +1.6365\n",
      "   173     0.1747    -1.2992    -1.4740\n",
      "   189     0.1464    -1.3097    -1.4561\n",
      "\n",
      "Category: Western\n",
      "Neuron   Original    Steered      Shift\n",
      "----------------------------------------\n",
      "    69    -0.1405     1.8067    +1.9472\n",
      "   270     0.0430     1.8497    +1.8068\n",
      "   137     0.2918     1.9283    +1.6365\n",
      "   173    -0.0058    -1.4797    -1.4740\n",
      "   189     0.0751    -1.3810    -1.4561\n",
      "\n",
      "Category: Biography\n",
      "Neuron   Original    Steered      Shift\n",
      "----------------------------------------\n",
      "    69    -0.0663     1.8809    +1.9472\n",
      "   270    -0.0557     1.7511    +1.8068\n",
      "   137     0.1396     1.7761    +1.6365\n",
      "   173     0.2120    -1.2620    -1.4740\n",
      "   189     0.1747    -1.2813    -1.4561\n",
      "\n",
      "Category: War\n",
      "Neuron   Original    Steered      Shift\n",
      "----------------------------------------\n",
      "    69    -0.0153     1.9320    +1.9472\n",
      "   270     0.0417     1.8485    +1.8068\n",
      "   137     0.2584     1.8948    +1.6365\n",
      "   173     0.0750    -1.3990    -1.4740\n",
      "   189     0.1188    -1.3373    -1.4561\n",
      "\n",
      "Category: Comedy\n",
      "Neuron   Original    Steered      Shift\n",
      "----------------------------------------\n",
      "    69    -0.1228     1.8245    +1.9472\n",
      "   270     0.0165     1.8233    +1.8068\n",
      "   137     0.0964     1.7329    +1.6365\n",
      "   173     0.1555    -1.3184    -1.4740\n",
      "   189     0.1550    -1.3011    -1.4561\n",
      "\n",
      "Category: Action\n",
      "Neuron   Original    Steered      Shift\n",
      "----------------------------------------\n",
      "    69    -0.0264     1.9208    +1.9472\n",
      "   270     0.1543     1.9610    +1.8068\n",
      "   137     0.3166     1.9531    +1.6365\n",
      "   173    -0.0569    -1.5309    -1.4740\n",
      "   189    -0.0643    -1.5204    -1.4561\n",
      "\n",
      "Category: Mystery\n",
      "Neuron   Original    Steered      Shift\n",
      "----------------------------------------\n",
      "    69    -0.0728     1.8745    +1.9472\n",
      "   270    -0.0420     1.7648    +1.8068\n",
      "   137     0.2046     1.8410    +1.6365\n",
      "   173     0.0426    -1.4313    -1.4740\n",
      "   189     0.1825    -1.2736    -1.4561\n",
      "\n",
      "Category: Fantasy\n",
      "Neuron   Original    Steered      Shift\n",
      "----------------------------------------\n",
      "    69    -0.1565     1.7908    +1.9472\n",
      "   270     0.1494     1.9562    +1.8068\n",
      "   137     0.1895     1.8259    +1.6365\n",
      "   173     0.0814    -1.3926    -1.4740\n",
      "   189     0.0303    -1.4258    -1.4561\n",
      "\n",
      "Category: Music\n",
      "Neuron   Original    Steered      Shift\n",
      "----------------------------------------\n",
      "    69     0.0678     2.0151    +1.9472\n",
      "   270     0.0107     1.8175    +1.8068\n",
      "   137     0.1443     1.7808    +1.6365\n",
      "   173     0.1861    -1.2878    -1.4740\n",
      "   189     0.2312    -1.2249    -1.4561\n",
      "\n",
      "Category: Thriller\n",
      "Neuron   Original    Steered      Shift\n",
      "----------------------------------------\n",
      "    69    -0.0907     1.8565    +1.9472\n",
      "   270     0.1053     1.9121    +1.8068\n",
      "   137     0.3075     1.9439    +1.6365\n",
      "   173     0.0491    -1.4249    -1.4740\n",
      "   189     0.1288    -1.3273    -1.4561\n",
      "\n",
      "Category: Family\n",
      "Neuron   Original    Steered      Shift\n",
      "----------------------------------------\n",
      "    69    -0.0036     1.9437    +1.9472\n",
      "   270     0.0271     1.8339    +1.8068\n",
      "   137     0.1098     1.7462    +1.6365\n",
      "   173     0.2004    -1.2736    -1.4740\n",
      "   189     0.0408    -1.4153    -1.4561\n",
      "\n",
      "Category: Horror\n",
      "Neuron   Original    Steered      Shift\n",
      "----------------------------------------\n",
      "    69    -0.1198     1.8274    +1.9472\n",
      "   270     0.1895     1.9963    +1.8068\n",
      "   137     0.3384     1.9749    +1.6365\n",
      "   173     0.1063    -1.3677    -1.4740\n",
      "   189    -0.1147    -1.5708    -1.4561\n",
      "\n",
      "Category: Film-Noir\n",
      "Neuron   Original    Steered      Shift\n",
      "----------------------------------------\n",
      "    69     0.0578     2.0050    +1.9472\n",
      "   270     0.0227     1.8294    +1.8068\n",
      "   137     0.2917     1.9282    +1.6365\n",
      "   173     0.0639    -1.4101    -1.4740\n",
      "   189     0.2929    -1.1632    -1.4561\n",
      "\n",
      "Category: Animation\n",
      "Neuron   Original    Steered      Shift\n",
      "----------------------------------------\n",
      "    69    -0.1155     1.8317    +1.9472\n",
      "   270    -0.1391     1.6677    +1.8068\n",
      "   137     0.0615     1.6980    +1.6365\n",
      "   173     0.1579    -1.3160    -1.4740\n",
      "   189     0.2199    -1.2362    -1.4561\n",
      "\n",
      "Category: Musical\n",
      "Neuron   Original    Steered      Shift\n",
      "----------------------------------------\n",
      "    69    -0.0655     1.8818    +1.9472\n",
      "   270    -0.0059     1.8009    +1.8068\n",
      "   137     0.1420     1.7785    +1.6365\n",
      "   173     0.1455    -1.3284    -1.4740\n",
      "   189     0.1185    -1.3376    -1.4561\n",
      "\n",
      "Category: Sport\n",
      "Neuron   Original    Steered      Shift\n",
      "----------------------------------------\n",
      "    69    -0.1000     1.8473    +1.9472\n",
      "   270     0.1578     1.9646    +1.8068\n",
      "   137     0.0873     1.7238    +1.6365\n",
      "   173     0.0863    -1.3877    -1.4740\n",
      "   189     0.0618    -1.3943    -1.4561\n",
      "Skipping 'History' (only 22 movies, need 25+)\n",
      "Skipping 'Western' (only 15 movies, need 25+)\n",
      "Skipping 'Action' (only 16 movies, need 25+)\n",
      "Skipping 'Fantasy' (only 18 movies, need 25+)\n",
      "Skipping 'Music' (only 18 movies, need 25+)\n",
      "Skipping 'Family' (only 15 movies, need 25+)\n",
      "Skipping 'Horror' (only 12 movies, need 25+)\n",
      "Skipping 'Film-Noir' (only 6 movies, need 25+)\n",
      "Skipping 'Animation' (only 8 movies, need 25+)\n",
      "Skipping 'Musical' (only 9 movies, need 25+)\n",
      "Skipping 'Sport' (only 8 movies, need 25+)\n"
     ]
    },
    {
     "data": {
      "image/png": "[encoded data removed]",
      "text/plain": [
       "<Figure size 1200x1000 with 2 Axes>"
      ]
     },
     "metadata": {},
     "output_type": "display_data"
    }
   ],
   "source": [
    "# Example of usage with heatmap for all categories\n",
    "# Get the neuron_shifts for all categories\n",
    "neuron_shifts = find_activation_shift(original_category_activations, steered_category_activations, top_n=5)\n",
    "# Create a heatmap of the top shifted neurons across categories\n",
    "info_string = f\"Neuron Shift Values Across Genres (25+ Movies) | Layer: {layer_to_plot} | Coefficient: {steering_coefficient} | Steered Layer: {layer_to_steer} | Feature: {feature}\"\n",
    "create_neuron_shift_heatmap(neuron_shifts, all_texts_data, info_string=info_string, top_n=20)"
   ]
  },
  {
   "cell_type": "markdown",
   "id": "246ca92d",
   "metadata": {},
   "source": [
    "### <a id=\"plot-change-in-top-shifted-neurons\"></a>Plot Change in Top Shifted Neurons\n",
    "\n",
    "The following function allows us to plot the change in activation for the neurons that were most activated to begin with, as well as those that had the highest shift after the steering was completed.\n",
    "\n",
    "`plot_change_in_top_shifted_neurons` plots the activation for the neurons that were the most activated to begin with, as well as those that had the highest shift after the steering was completed (steering_coefficient, activation_value)\n",
    "- `all_texts_data` is the dataframe containing all information about the titles, but at least `title`, `genre` and `ovweview`.\n",
    "- `layer_to_plot` is a layer that comes after the layer that was steered. This is because you will not see the effect on the activations of the neurons in the same layer that you apply the steering.\n",
    "- `layer_to_steer` is what layer to perform steering on\n",
    "- `category` is what category to analyze activations for\n",
    "- `steering_coefficient_start` is the first steering coefficient (i.e. the beginning of the x-axis)\n",
    "- `steering_coefficient_end` is the last steering coefficient (i.e. the end of the x-axis)\n",
    "- `info_string` is what will be displayed in the title of the plot to keep track of the selected parameters for that plot.\n",
    "- `number_of_steps` are the number of points for which to do the analysis (i.e. the number of steering coefficients to analyze from start to end)\n",
    "- `number_of_neurons` is the maximum amount of neurons to analyze (if there is an overlap between most shifted and most activated there will be fewer neurons)"
   ]
  },
  {
   "cell_type": "code",
   "execution_count": 26,
   "id": "b1d9fbde",
   "metadata": {},
   "outputs": [
    {
     "name": "stdout",
     "output_type": "stream",
     "text": [
      "Analyzing category: Action\n",
      "Identifying neurons to track...\n",
      "Created steered model output with shape: torch.Size([1000, 66, 384])\n",
      "Reference coefficient for shift calculation: 6.000\n",
      "Most activated neurons identified from original (unsteered) activations\n",
      "\n",
      "Tracking 10 neurons in category 'Action':\n",
      "1. Most Shifted: Neuron 69 (Shift: 1.1683, Original: -0.0264)\n",
      "2. Most Shifted: Neuron 270 (Shift: 1.0841, Original: 0.1543)\n",
      "3. Most Shifted: Neuron 137 (Shift: 0.9819, Original: 0.3166)\n",
      "4. Most Shifted: Neuron 173 (Shift: 0.8844, Original: -0.0569)\n",
      "5. Most Shifted: Neuron 189 (Shift: 0.8736, Original: -0.0643)\n",
      "6. Most Activated: Neuron 223 (Shift: 0.0110, Original: -2.2563)\n",
      "7. Most Activated: Neuron 99 (Shift: 0.3654, Original: 0.7897)\n",
      "8. Most Activated: Neuron 363 (Shift: 0.3550, Original: 0.6942)\n",
      "9. Most Activated: Neuron 157 (Shift: 0.3408, Original: 0.6488)\n",
      "10. Most Activated: Neuron 249 (Shift: 0.2006, Original: 0.6164)\n",
      "\n",
      "Analyzing trajectories across 10 steering coefficients from 0.0 to 6\n",
      "Processing steering coefficient 1/10: 0.000\n",
      "Created steered model output with shape: torch.Size([1000, 66, 384])\n",
      "Processing steering coefficient 2/10: 0.667\n",
      "Created steered model output with shape: torch.Size([1000, 66, 384])\n",
      "Processing steering coefficient 3/10: 1.333\n",
      "Created steered model output with shape: torch.Size([1000, 66, 384])\n",
      "Processing steering coefficient 4/10: 2.000\n",
      "Created steered model output with shape: torch.Size([1000, 66, 384])\n",
      "Processing steering coefficient 5/10: 2.667\n",
      "Created steered model output with shape: torch.Size([1000, 66, 384])\n",
      "Processing steering coefficient 6/10: 3.333\n",
      "Created steered model output with shape: torch.Size([1000, 66, 384])\n",
      "Processing steering coefficient 7/10: 4.000\n",
      "Created steered model output with shape: torch.Size([1000, 66, 384])\n",
      "Processing steering coefficient 8/10: 4.667\n",
      "Created steered model output with shape: torch.Size([1000, 66, 384])\n",
      "Processing steering coefficient 9/10: 5.333\n",
      "Created steered model output with shape: torch.Size([1000, 66, 384])\n",
      "Processing steering coefficient 10/10: 6.000\n",
      "Created steered model output with shape: torch.Size([1000, 66, 384])\n"
     ]
    },
    {
     "data": {
      "application/vnd.plotly.v1+json": {
       "config": {
        "plotlyServerURL": "https://plot.ly"
       },
       "data": [
        {
         "line": {
          "color": "red",
          "dash": "solid",
          "width": 2
         },
         "marker": {
          "size": 6
         },
         "mode": "lines+markers",
         "name": "N137 (Top Shifted)",
         "type": "scatter",
         "x": {
          "bdata": "AAAAAKuqKj+rqqo/AAAAQKuqKkBVVVVAAACAQFVVlUCrqqpAAADAQA==",
          "dtype": "f4"
         },
         "y": [
          0.31659555435180664,
          0.4256930351257324,
          0.5347905158996582,
          0.643887996673584,
          0.7529854774475098,
          0.8620828986167908,
          0.9711803793907166,
          1.0802778005599976,
          1.189375400543213,
          1.2984727621078491
         ]
        },
        {
         "line": {
          "color": "red",
          "dash": "solid",
          "width": 2
         },
         "marker": {
          "size": 6
         },
         "mode": "lines+markers",
         "name": "N270 (Top Shifted)",
         "type": "scatter",
         "x": {
          "bdata": "AAAAAKuqKj+rqqo/AAAAQKuqKkBVVVVAAACAQFVVlUCrqqpAAADAQA==",
          "dtype": "f4"
         },
         "y": [
          0.15426886081695557,
          0.2747204303741455,
          0.39517199993133545,
          0.5156235694885254,
          0.6360750198364258,
          0.7565265893936157,
          0.8769782185554504,
          0.9974297881126404,
          1.1178812980651855,
          1.238332748413086
         ]
        },
        {
         "line": {
          "color": "red",
          "dash": "solid",
          "width": 2
         },
         "marker": {
          "size": 6
         },
         "mode": "lines+markers",
         "name": "N69 (Top Shifted)",
         "type": "scatter",
         "x": {
          "bdata": "AAAAAKuqKj+rqqo/AAAAQKuqKkBVVVVAAACAQFVVlUCrqqpAAADAQA==",
          "dtype": "f4"
         },
         "y": [
          -0.02644021064043045,
          0.1033753901720047,
          0.23319099843502045,
          0.3630066215991974,
          0.49282222986221313,
          0.6226378679275513,
          0.7524534463882446,
          0.8822690844535828,
          1.0120846033096313,
          1.1419001817703247
         ]
        },
        {
         "line": {
          "color": "blue",
          "dash": "solid",
          "width": 2
         },
         "marker": {
          "size": 6
         },
         "mode": "lines+markers",
         "name": "N363 (Top Activated)",
         "type": "scatter",
         "x": {
          "bdata": "AAAAAKuqKj+rqqo/AAAAQKuqKkBVVVVAAACAQFVVlUCrqqpAAADAQA==",
          "dtype": "f4"
         },
         "y": [
          0.6942194104194641,
          0.7336678504943848,
          0.7731161117553711,
          0.8125644326210022,
          0.8520127534866333,
          0.8914610147476196,
          0.9309094548225403,
          0.9703577160835266,
          1.0098061561584473,
          1.0492544174194336
         ]
        },
        {
         "line": {
          "color": "blue",
          "dash": "solid",
          "width": 2
         },
         "marker": {
          "size": 6
         },
         "mode": "lines+markers",
         "name": "N249 (Top Activated)",
         "type": "scatter",
         "x": {
          "bdata": "AAAAAKuqKj+rqqo/AAAAQKuqKkBVVVVAAACAQFVVlUCrqqpAAADAQA==",
          "dtype": "f4"
         },
         "y": [
          0.6163669228553772,
          0.6386504173278809,
          0.6609339118003845,
          0.683217465877533,
          0.7055010199546814,
          0.7277845144271851,
          0.7500680088996887,
          0.7723515033721924,
          0.7946350574493408,
          0.8169186115264893
         ]
        },
        {
         "line": {
          "color": "blue",
          "dash": "solid",
          "width": 2
         },
         "marker": {
          "size": 6
         },
         "mode": "lines+markers",
         "name": "N99 (Top Activated)",
         "type": "scatter",
         "x": {
          "bdata": "AAAAAKuqKj+rqqo/AAAAQKuqKkBVVVVAAACAQFVVlUCrqqpAAADAQA==",
          "dtype": "f4"
         },
         "y": [
          0.7896742820739746,
          0.7490767240524292,
          0.7084791660308838,
          0.6678815484046936,
          0.627284049987793,
          0.5866865515708923,
          0.5460889935493469,
          0.5054914355278015,
          0.4648939073085785,
          0.4242963194847107
         ]
        },
        {
         "line": {
          "color": "blue",
          "dash": "solid",
          "width": 2
         },
         "marker": {
          "size": 6
         },
         "mode": "lines+markers",
         "name": "N157 (Top Activated)",
         "type": "scatter",
         "x": {
          "bdata": "AAAAAKuqKj+rqqo/AAAAQKuqKkBVVVVAAACAQFVVlUCrqqpAAADAQA==",
          "dtype": "f4"
         },
         "y": [
          0.6487653255462646,
          0.6109026670455933,
          0.5730399489402771,
          0.5351773500442505,
          0.4973146617412567,
          0.45945197343826294,
          0.42158931493759155,
          0.3837265968322754,
          0.345863938331604,
          0.3080012798309326
         ]
        },
        {
         "line": {
          "color": "red",
          "dash": "solid",
          "width": 2
         },
         "marker": {
          "size": 6
         },
         "mode": "lines+markers",
         "name": "N189 (Top Shifted)",
         "type": "scatter",
         "x": {
          "bdata": "AAAAAKuqKj+rqqo/AAAAQKuqKkBVVVVAAACAQFVVlUCrqqpAAADAQA==",
          "dtype": "f4"
         },
         "y": [
          -0.06434771418571472,
          -0.16141971945762634,
          -0.25849175453186035,
          -0.3555637001991272,
          -0.4526357054710388,
          -0.5497077703475952,
          -0.6467797160148621,
          -0.7438517808914185,
          -0.8409237265586853,
          -0.9379957914352417
         ]
        },
        {
         "line": {
          "color": "red",
          "dash": "solid",
          "width": 2
         },
         "marker": {
          "size": 6
         },
         "mode": "lines+markers",
         "name": "N173 (Top Shifted)",
         "type": "scatter",
         "x": {
          "bdata": "AAAAAKuqKj+rqqo/AAAAQKuqKkBVVVVAAACAQFVVlUCrqqpAAADAQA==",
          "dtype": "f4"
         },
         "y": [
          -0.056898076087236404,
          -0.15516197681427002,
          -0.25342586636543274,
          -0.3516896963119507,
          -0.44995367527008057,
          -0.5482174754142761,
          -0.6464813351631165,
          -0.7447451949119568,
          -0.8430091142654419,
          -0.941273033618927
         ]
        },
        {
         "line": {
          "color": "blue",
          "dash": "solid",
          "width": 2
         },
         "marker": {
          "size": 6
         },
         "mode": "lines+markers",
         "name": "N223 (Top Activated)",
         "type": "scatter",
         "x": {
          "bdata": "AAAAAKuqKj+rqqo/AAAAQKuqKkBVVVVAAACAQFVVlUCrqqpAAADAQA==",
          "dtype": "f4"
         },
         "y": [
          -2.256260633468628,
          -2.257479429244995,
          -2.258697748184204,
          -2.2599165439605713,
          -2.2611351013183594,
          -2.2623538970947266,
          -2.2635724544525146,
          -2.264791488647461,
          -2.26600980758667,
          -2.267228364944458
         ]
        }
       ],
       "layout": {
        "height": 600,
        "showlegend": true,
        "template": {
         "data": {
          "bar": [
           {
            "error_x": {
             "color": "#2a3f5f"
            },
            "error_y": {
             "color": "#2a3f5f"
            },
            "marker": {
             "line": {
              "color": "#E5ECF6",
              "width": 0.5
             },
             "pattern": {
              "fillmode": "overlay",
              "size": 10,
              "solidity": 0.2
             }
            },
            "type": "bar"
           }
          ],
          "barpolar": [
           {
            "marker": {
             "line": {
              "color": "#E5ECF6",
              "width": 0.5
             },
             "pattern": {
              "fillmode": "overlay",
              "size": 10,
              "solidity": 0.2
             }
            },
            "type": "barpolar"
           }
          ],
          "carpet": [
           {
            "aaxis": {
             "endlinecolor": "#2a3f5f",
             "gridcolor": "white",
             "linecolor": "white",
             "minorgridcolor": "white",
             "startlinecolor": "#2a3f5f"
            },
            "baxis": {
             "endlinecolor": "#2a3f5f",
             "gridcolor": "white",
             "linecolor": "white",
             "minorgridcolor": "white",
             "startlinecolor": "#2a3f5f"
            },
            "type": "carpet"
           }
          ],
          "choropleth": [
           {
            "colorbar": {
             "outlinewidth": 0,
             "ticks": ""
            },
            "type": "choropleth"
           }
          ],
          "contour": [
           {
            "colorbar": {
             "outlinewidth": 0,
             "ticks": ""
            },
            "colorscale": [
             [
              0,
              "#0d0887"
             ],
             [
              0.1111111111111111,
              "#46039f"
             ],
             [
              0.2222222222222222,
              "#7201a8"
             ],
             [
              0.3333333333333333,
              "#9c179e"
             ],
             [
              0.4444444444444444,
              "#bd3786"
             ],
             [
              0.5555555555555556,
              "#d8576b"
             ],
             [
              0.6666666666666666,
              "#ed7953"
             ],
             [
              0.7777777777777778,
              "#fb9f3a"
             ],
             [
              0.8888888888888888,
              "#fdca26"
             ],
             [
              1,
              "#f0f921"
             ]
            ],
            "type": "contour"
           }
          ],
          "contourcarpet": [
           {
            "colorbar": {
             "outlinewidth": 0,
             "ticks": ""
            },
            "type": "contourcarpet"
           }
          ],
          "heatmap": [
           {
            "colorbar": {
             "outlinewidth": 0,
             "ticks": ""
            },
            "colorscale": [
             [
              0,
              "#0d0887"
             ],
             [
              0.1111111111111111,
              "#46039f"
             ],
             [
              0.2222222222222222,
              "#7201a8"
             ],
             [
              0.3333333333333333,
              "#9c179e"
             ],
             [
              0.4444444444444444,
              "#bd3786"
             ],
             [
              0.5555555555555556,
              "#d8576b"
             ],
             [
              0.6666666666666666,
              "#ed7953"
             ],
             [
              0.7777777777777778,
              "#fb9f3a"
             ],
             [
              0.8888888888888888,
              "#fdca26"
             ],
             [
              1,
              "#f0f921"
             ]
            ],
            "type": "heatmap"
           }
          ],
          "histogram": [
           {
            "marker": {
             "pattern": {
              "fillmode": "overlay",
              "size": 10,
              "solidity": 0.2
             }
            },
            "type": "histogram"
           }
          ],
          "histogram2d": [
           {
            "colorbar": {
             "outlinewidth": 0,
             "ticks": ""
            },
            "colorscale": [
             [
              0,
              "#0d0887"
             ],
             [
              0.1111111111111111,
              "#46039f"
             ],
             [
              0.2222222222222222,
              "#7201a8"
             ],
             [
              0.3333333333333333,
              "#9c179e"
             ],
             [
              0.4444444444444444,
              "#bd3786"
             ],
             [
              0.5555555555555556,
              "#d8576b"
             ],
             [
              0.6666666666666666,
              "#ed7953"
             ],
             [
              0.7777777777777778,
              "#fb9f3a"
             ],
             [
              0.8888888888888888,
              "#fdca26"
             ],
             [
              1,
              "#f0f921"
             ]
            ],
            "type": "histogram2d"
           }
          ],
          "histogram2dcontour": [
           {
            "colorbar": {
             "outlinewidth": 0,
             "ticks": ""
            },
            "colorscale": [
             [
              0,
              "#0d0887"
             ],
             [
              0.1111111111111111,
              "#46039f"
             ],
             [
              0.2222222222222222,
              "#7201a8"
             ],
             [
              0.3333333333333333,
              "#9c179e"
             ],
             [
              0.4444444444444444,
              "#bd3786"
             ],
             [
              0.5555555555555556,
              "#d8576b"
             ],
             [
              0.6666666666666666,
              "#ed7953"
             ],
             [
              0.7777777777777778,
              "#fb9f3a"
             ],
             [
              0.8888888888888888,
              "#fdca26"
             ],
             [
              1,
              "#f0f921"
             ]
            ],
            "type": "histogram2dcontour"
           }
          ],
          "mesh3d": [
           {
            "colorbar": {
             "outlinewidth": 0,
             "ticks": ""
            },
            "type": "mesh3d"
           }
          ],
          "parcoords": [
           {
            "line": {
             "colorbar": {
              "outlinewidth": 0,
              "ticks": ""
             }
            },
            "type": "parcoords"
           }
          ],
          "pie": [
           {
            "automargin": true,
            "type": "pie"
           }
          ],
          "scatter": [
           {
            "fillpattern": {
             "fillmode": "overlay",
             "size": 10,
             "solidity": 0.2
            },
            "type": "scatter"
           }
          ],
          "scatter3d": [
           {
            "line": {
             "colorbar": {
              "outlinewidth": 0,
              "ticks": ""
             }
            },
            "marker": {
             "colorbar": {
              "outlinewidth": 0,
              "ticks": ""
             }
            },
            "type": "scatter3d"
           }
          ],
          "scattercarpet": [
           {
            "marker": {
             "colorbar": {
              "outlinewidth": 0,
              "ticks": ""
             }
            },
            "type": "scattercarpet"
           }
          ],
          "scattergeo": [
           {
            "marker": {
             "colorbar": {
              "outlinewidth": 0,
              "ticks": ""
             }
            },
            "type": "scattergeo"
           }
          ],
          "scattergl": [
           {
            "marker": {
             "colorbar": {
              "outlinewidth": 0,
              "ticks": ""
             }
            },
            "type": "scattergl"
           }
          ],
          "scattermap": [
           {
            "marker": {
             "colorbar": {
              "outlinewidth": 0,
              "ticks": ""
             }
            },
            "type": "scattermap"
           }
          ],
          "scattermapbox": [
           {
            "marker": {
             "colorbar": {
              "outlinewidth": 0,
              "ticks": ""
             }
            },
            "type": "scattermapbox"
           }
          ],
          "scatterpolar": [
           {
            "marker": {
             "colorbar": {
              "outlinewidth": 0,
              "ticks": ""
             }
            },
            "type": "scatterpolar"
           }
          ],
          "scatterpolargl": [
           {
            "marker": {
             "colorbar": {
              "outlinewidth": 0,
              "ticks": ""
             }
            },
            "type": "scatterpolargl"
           }
          ],
          "scatterternary": [
           {
            "marker": {
             "colorbar": {
              "outlinewidth": 0,
              "ticks": ""
             }
            },
            "type": "scatterternary"
           }
          ],
          "surface": [
           {
            "colorbar": {
             "outlinewidth": 0,
             "ticks": ""
            },
            "colorscale": [
             [
              0,
              "#0d0887"
             ],
             [
              0.1111111111111111,
              "#46039f"
             ],
             [
              0.2222222222222222,
              "#7201a8"
             ],
             [
              0.3333333333333333,
              "#9c179e"
             ],
             [
              0.4444444444444444,
              "#bd3786"
             ],
             [
              0.5555555555555556,
              "#d8576b"
             ],
             [
              0.6666666666666666,
              "#ed7953"
             ],
             [
              0.7777777777777778,
              "#fb9f3a"
             ],
             [
              0.8888888888888888,
              "#fdca26"
             ],
             [
              1,
              "#f0f921"
             ]
            ],
            "type": "surface"
           }
          ],
          "table": [
           {
            "cells": {
             "fill": {
              "color": "#EBF0F8"
             },
             "line": {
              "color": "white"
             }
            },
            "header": {
             "fill": {
              "color": "#C8D4E3"
             },
             "line": {
              "color": "white"
             }
            },
            "type": "table"
           }
          ]
         },
         "layout": {
          "annotationdefaults": {
           "arrowcolor": "#2a3f5f",
           "arrowhead": 0,
           "arrowwidth": 1
          },
          "autotypenumbers": "strict",
          "coloraxis": {
           "colorbar": {
            "outlinewidth": 0,
            "ticks": ""
           }
          },
          "colorscale": {
           "diverging": [
            [
             0,
             "#8e0152"
            ],
            [
             0.1,
             "#c51b7d"
            ],
            [
             0.2,
             "#de77ae"
            ],
            [
             0.3,
             "#f1b6da"
            ],
            [
             0.4,
             "#fde0ef"
            ],
            [
             0.5,
             "#f7f7f7"
            ],
            [
             0.6,
             "#e6f5d0"
            ],
            [
             0.7,
             "#b8e186"
            ],
            [
             0.8,
             "#7fbc41"
            ],
            [
             0.9,
             "#4d9221"
            ],
            [
             1,
             "#276419"
            ]
           ],
           "sequential": [
            [
             0,
             "#0d0887"
            ],
            [
             0.1111111111111111,
             "#46039f"
            ],
            [
             0.2222222222222222,
             "#7201a8"
            ],
            [
             0.3333333333333333,
             "#9c179e"
            ],
            [
             0.4444444444444444,
             "#bd3786"
            ],
            [
             0.5555555555555556,
             "#d8576b"
            ],
            [
             0.6666666666666666,
             "#ed7953"
            ],
            [
             0.7777777777777778,
             "#fb9f3a"
            ],
            [
             0.8888888888888888,
             "#fdca26"
            ],
            [
             1,
             "#f0f921"
            ]
           ],
           "sequentialminus": [
            [
             0,
             "#0d0887"
            ],
            [
             0.1111111111111111,
             "#46039f"
            ],
            [
             0.2222222222222222,
             "#7201a8"
            ],
            [
             0.3333333333333333,
             "#9c179e"
            ],
            [
             0.4444444444444444,
             "#bd3786"
            ],
            [
             0.5555555555555556,
             "#d8576b"
            ],
            [
             0.6666666666666666,
             "#ed7953"
            ],
            [
             0.7777777777777778,
             "#fb9f3a"
            ],
            [
             0.8888888888888888,
             "#fdca26"
            ],
            [
             1,
             "#f0f921"
            ]
           ]
          },
          "colorway": [
           "#636efa",
           "#EF553B",
           "#00cc96",
           "#ab63fa",
           "#FFA15A",
           "#19d3f3",
           "#FF6692",
           "#B6E880",
           "#FF97FF",
           "#FECB52"
          ],
          "font": {
           "color": "#2a3f5f"
          },
          "geo": {
           "bgcolor": "white",
           "lakecolor": "white",
           "landcolor": "#E5ECF6",
           "showlakes": true,
           "showland": true,
           "subunitcolor": "white"
          },
          "hoverlabel": {
           "align": "left"
          },
          "hovermode": "closest",
          "mapbox": {
           "style": "light"
          },
          "paper_bgcolor": "white",
          "plot_bgcolor": "#E5ECF6",
          "polar": {
           "angularaxis": {
            "gridcolor": "white",
            "linecolor": "white",
            "ticks": ""
           },
           "bgcolor": "#E5ECF6",
           "radialaxis": {
            "gridcolor": "white",
            "linecolor": "white",
            "ticks": ""
           }
          },
          "scene": {
           "xaxis": {
            "backgroundcolor": "#E5ECF6",
            "gridcolor": "white",
            "gridwidth": 2,
            "linecolor": "white",
            "showbackground": true,
            "ticks": "",
            "zerolinecolor": "white"
           },
           "yaxis": {
            "backgroundcolor": "#E5ECF6",
            "gridcolor": "white",
            "gridwidth": 2,
            "linecolor": "white",
            "showbackground": true,
            "ticks": "",
            "zerolinecolor": "white"
           },
           "zaxis": {
            "backgroundcolor": "#E5ECF6",
            "gridcolor": "white",
            "gridwidth": 2,
            "linecolor": "white",
            "showbackground": true,
            "ticks": "",
            "zerolinecolor": "white"
           }
          },
          "shapedefaults": {
           "line": {
            "color": "#2a3f5f"
           }
          },
          "ternary": {
           "aaxis": {
            "gridcolor": "white",
            "linecolor": "white",
            "ticks": ""
           },
           "baxis": {
            "gridcolor": "white",
            "linecolor": "white",
            "ticks": ""
           },
           "bgcolor": "#E5ECF6",
           "caxis": {
            "gridcolor": "white",
            "linecolor": "white",
            "ticks": ""
           }
          },
          "title": {
           "x": 0.05
          },
          "xaxis": {
           "automargin": true,
           "gridcolor": "white",
           "linecolor": "white",
           "ticks": "",
           "title": {
            "standoff": 15
           },
           "zerolinecolor": "white",
           "zerolinewidth": 2
          },
          "yaxis": {
           "automargin": true,
           "gridcolor": "white",
           "linecolor": "white",
           "ticks": "",
           "title": {
            "standoff": 15
           },
           "zerolinecolor": "white",
           "zerolinewidth": 2
          }
         }
        },
        "title": {
         "text": "Individual Neuron Trajectories | Action | Displayed Layer: 11 | Feature: War | Steered Layer: 10"
        },
        "width": 900,
        "xaxis": {
         "title": {
          "text": "Steering Coefficient"
         }
        },
        "yaxis": {
         "title": {
          "text": "Neuron Activation Value"
         }
        }
       }
      }
     },
     "metadata": {},
     "output_type": "display_data"
    }
   ],
   "source": [
    "info_string = f'Individual Neuron Trajectories | {category} | Displayed Layer: {layer_to_plot} | Feature: {feature} | Steered Layer: {layer_to_steer}'\n",
    "plot_change_in_top_shifted_neurons(\n",
    "    model,\n",
    "    model_output,\n",
    "    encoded_input, \n",
    "    all_texts_data,\n",
    "    layer_to_plot,\n",
    "    layer_to_steer, \n",
    "    category, \n",
    "    steering_coefficient_start=0.0, \n",
    "    steering_coefficient_end=6,\n",
    "    steering_vector=steering_vector,\n",
    "    info_string=info_string,\n",
    "    number_of_steps=10, \n",
    "    number_of_neurons=10);\n"
   ]
  },
  {
   "cell_type": "markdown",
   "id": "a0e6abd6",
   "metadata": {},
   "source": [
    "***\n",
    "\n",
    "# Neuron Activations for Tokens and Texts\n",
    "\n",
    "The following functions are imported from the file `\"Activations_tokens_and_texts.py\"`. They are necessary to analyze how individual neurons are activated in the model when performing steering using a steering vector for individual tokens and texts."
   ]
  },
  {
   "cell_type": "code",
   "execution_count": 27,
   "id": "b1299601",
   "metadata": {},
   "outputs": [],
   "source": [
    "#from Activations_tokens_and_texts import get_text_activations_per_layer, plot_text_activations_per_layer, compare_text_activations, find_extreme_nodes_for_all_texts, plot_extreme_nodes_for_all_texts"
   ]
  },
  {
   "cell_type": "markdown",
   "id": "cc7ff351",
   "metadata": {},
   "source": [
    "## Setup\n",
    "\n",
    "Before we start analyzing we must prepare everything we need"
   ]
  },
  {
   "cell_type": "code",
   "execution_count": 28,
   "id": "c159c2f7",
   "metadata": {},
   "outputs": [
    {
     "name": "stdout",
     "output_type": "stream",
     "text": [
      "Importing 1.36 GB data from file Test_export_embeddings.pkl...\n",
      "Data imported from Test_export_embeddings.pkl\n",
      "Model loaded successfully.\n",
      "Tokenizer loaded successfully.\n",
      "Encoded input loaded successfully.\n",
      "Hidden states loaded successfully.\n",
      "All texts data loaded successfully.\n",
      "Steering vectors imported from steering_vector.pkl\n",
      "Available steering vectors: 'Love' (layers: [11]), 'War' (layers: [10, 11])\n",
      "Returning steering vector for 'War' layer 10\n"
     ]
    }
   ],
   "source": [
    "# Import data from pkl file\n",
    "data = import_embedding_data_from_pkl(\n",
    "    \"Test_export_embeddings.pkl\",\n",
    "    model=True, \n",
    "    tokenizer=True, \n",
    "    encoded_input=True, \n",
    "    hidden_states=True, \n",
    "    all_texts_data=True)\n",
    "\n",
    "model, tokenizer, encoded_input, hidden_states, all_texts_data = data  # Unpack in the order they were requested\n",
    "texts = all_texts_data['overview'].tolist()[:100]  # Use the overview column for text data and choose how many texts to analyze\n",
    "\n",
    "feature = \"War\"\n",
    "layer_to_steer = 10 # Can not be last layer, should be next to last layer\n",
    "steering_coefficient = 10\n",
    "steering_vector = import_steering_vector_from_pkl('steering_vector.pkl', feature, layer_to_steer=layer_to_steer)\n",
    "\n",
    "steered_model_output = create_steered_model_output(model, encoded_input, layer_to_steer, steering_coefficient, steering_vector, verbose=False)\n",
    "steered_hidden_states = steered_model_output.hidden_states"
   ]
  },
  {
   "cell_type": "markdown",
   "id": "3a01b7a8",
   "metadata": {},
   "source": [
    "After the Setup we have:\n",
    "- tokenizer, encoded_input, hidden_states, all_texts_data\n",
    "- texst\n",
    "- feature\n",
    "- layer_to_steer\n",
    "- steering_coefficient\n",
    "- steering_vector\n",
    "- steered_model_output\n",
    "- steered_hidden_states"
   ]
  },
  {
   "cell_type": "markdown",
   "id": "89e158a2",
   "metadata": {},
   "source": [
    "### Get Text Activations\n",
    "\n",
    "`get_text_activations_per_layer` retrives the neuron activations for all texts for all layers and returns them as a list"
   ]
  },
  {
   "cell_type": "code",
   "execution_count": 29,
   "id": "02fc2be2",
   "metadata": {},
   "outputs": [],
   "source": [
    "text_activations = get_text_activations_per_layer(hidden_states, encoded_input['attention_mask'])\n",
    "\n",
    "# Also create steered text activations\n",
    "steered_text_activations = get_text_activations_per_layer(steered_hidden_states, encoded_input['attention_mask'])"
   ]
  },
  {
   "cell_type": "markdown",
   "id": "21e25c06",
   "metadata": {},
   "source": [
    "### Plot Text Activations\n",
    "\n",
    "`plot_text_activations_per_layer` creates a plot of the activatinos from `get_text_activations_per_layer`\n",
    "-  `text_activations` is the list of activation values from `get_text_activations_per_layer`\n",
    "- `layers` are what layers do display. Can be either `None`, `int`, `tuple` or `list` for all, one or multiple layers to be displayed\n",
    "- `text_index` is what text index to plot the activation values for"
   ]
  },
  {
   "cell_type": "code",
   "execution_count": 30,
   "id": "3f24c750",
   "metadata": {},
   "outputs": [
    {
     "data": {
      "image/png": "[encoded data removed]",
      "text/plain": [
       "<Figure size 1000x600 with 2 Axes>"
      ]
     },
     "metadata": {},
     "output_type": "display_data"
    },
    {
     "name": "stdout",
     "output_type": "stream",
     "text": [
      "\n",
      "Extreme nodes for text (0) The Shawshank Redemption across selected layers:\n",
      " Layer   Min Node   Max Node\n",
      "----------------------------\n",
      "     0        303         63\n",
      "    11        223        363\n",
      "\n"
     ]
    },
    {
     "data": {
      "image/png": "[encoded data removed]",
      "text/plain": [
       "<Figure size 1000x600 with 2 Axes>"
      ]
     },
     "metadata": {},
     "output_type": "display_data"
    },
    {
     "name": "stdout",
     "output_type": "stream",
     "text": [
      "\n",
      "Extreme nodes for text (0) The Shawshank Redemption across selected layers:\n",
      " Layer   Min Node   Max Node\n",
      "----------------------------\n",
      "     0        303         63\n",
      "    11        223         69\n",
      "\n"
     ]
    }
   ],
   "source": [
    "text_index = 0  # Index of the text to plot activations for\n",
    "info_string = f'Text Activations for \"{texts[text_index]}\"'\n",
    "\n",
    "plot_text_activations_per_layer(text_activations, all_texts_data, layers=(0, 11), text_index=text_index)\n",
    "\n",
    "plot_text_activations_per_layer(steered_text_activations, all_texts_data, layers=(0, 11), text_index=text_index)"
   ]
  },
  {
   "cell_type": "markdown",
   "id": "4b8936de",
   "metadata": {},
   "source": [
    "### Compare Text Activations\n",
    "\n",
    "`compare_text_activations` plots two text activation plots on top of each other for comparison\n",
    "- `text_activations` is the list of activation values from `get_text_activations_per_layer`\n",
    "- `text_indices` are the indexes of the two texts you want to compare (text_index_1, text_index_2)\n",
    "- `layers` are what layers do display. Can be either `None`, `int`, `tuple` or `list` for all, one or multiple layers to be displaye"
   ]
  },
  {
   "cell_type": "code",
   "execution_count": 31,
   "id": "287a17b5",
   "metadata": {},
   "outputs": [
    {
     "data": {
      "image/png": "[encoded data removed]",
      "text/plain": [
       "<Figure size 1000x600 with 2 Axes>"
      ]
     },
     "metadata": {},
     "output_type": "display_data"
    },
    {
     "name": "stdout",
     "output_type": "stream",
     "text": [
      "\n",
      "Extreme nodes comparison for texts (0) The Shawshank Redemption and (1) The Godfather:\n",
      " Layer T0 Min T0 Max T1 Min T1 Max\n",
      "----------------------------------------\n",
      "     0      303       63      303       63\n",
      "    11      223      363      223      191\n",
      "\n"
     ]
    },
    {
     "data": {
      "image/png": "[encoded data removed]",
      "text/plain": [
       "<Figure size 1000x600 with 2 Axes>"
      ]
     },
     "metadata": {},
     "output_type": "display_data"
    },
    {
     "name": "stdout",
     "output_type": "stream",
     "text": [
      "\n",
      "Extreme nodes comparison for texts (0) The Shawshank Redemption and (1) The Godfather:\n",
      " Layer T0 Min T0 Max T1 Min T1 Max\n",
      "----------------------------------------\n",
      "     0      303       63      303       63\n",
      "    11      223       69      223      137\n",
      "\n"
     ]
    }
   ],
   "source": [
    "compare_text_activations(text_activations, all_texts_data, text_indices=(0, 1), layers=(0, 11))  # Compare activations for the first two texts\n",
    "\n",
    "# Also compare the steered text activations\n",
    "compare_text_activations(steered_text_activations, all_texts_data, text_indices=(0, 1), layers=(0, 11))"
   ]
  },
  {
   "cell_type": "markdown",
   "id": "f18f73b0",
   "metadata": {},
   "source": [
    "### Find Extreme Nodes\n",
    "\n",
    "`find_extreme_nodes` returns the most and least activated neurons for all texts\n",
    "- `layer` is what layer to find the extreme neurons for"
   ]
  },
  {
   "cell_type": "code",
   "execution_count": 32,
   "id": "37f74a5f",
   "metadata": {},
   "outputs": [
    {
     "name": "stdout",
     "output_type": "stream",
     "text": [
      "\n",
      "Extreme nodes for all texts in Layer 11:\n",
      "                                              Text   Min Node   Max Node\n",
      "------------------------------------------------------------------------\n",
      "                      (0) The Shawshank Redemption        223        363\n",
      "                                 (1) The Godfather        223        191\n",
      "                               (2) The Dark Knight        223        319\n",
      "                        (3) The Godfather: Part II        223        319\n",
      "                                  (4) 12 Angry Men        223        363\n",
      "        (5) The Lord of the Rings: The Return o...        223         99\n",
      "                                  (6) Pulp Fiction        223        329\n",
      "                              (7) Schindler's List        223         99\n",
      "                                     (8) Inception        223         99\n",
      "                                    (9) Fight Club        223         99\n",
      "       (10) The Lord of the Rings: The Fellowsh...        223         99\n",
      "                                 (11) Forrest Gump        223        319\n",
      "              (12) Il buono, il brutto, il cattivo        223         99\n",
      "        (13) The Lord of the Rings: The Two Towers        223        157\n",
      "                                   (14) The Matrix        223        363\n",
      "                                   (15) Goodfellas        223         99\n",
      "       (16) Star Wars: Episode V - The Empire S...        223         99\n",
      "              (17) One Flew Over the Cuckoo's Nest        223        157\n",
      "                                     (18) Hamilton        223         99\n",
      "                                 (19) Gisaengchung        223         99\n",
      "                              (20) Soorarai Pottru        223         99\n",
      "                                 (21) Interstellar        223        163\n",
      "                               (22) Cidade de Deus        223        249\n",
      "                (23) Sen to Chihiro no kamikakushi        223        249\n",
      "                          (24) Saving Private Ryan        223        363\n",
      "                               (25) The Green Mile        223        163\n",
      "                              (26) La vita è bella        223        363\n",
      "                                        (27) Se7en        223        163\n",
      "                     (28) The Silence of the Lambs        223        249\n",
      "                                    (29) Star Wars        223        363\n",
      "                                      (30) Seppuku        223        363\n",
      "                         (31) Shichinin no samurai        223         99\n",
      "                        (32) It's a Wonderful Life        223        319\n",
      "                                        (33) Joker        223        319\n",
      "                                     (34) Whiplash        223        363\n",
      "                             (35) The Intouchables        223        363\n",
      "                                 (36) The Prestige        223        363\n",
      "                                 (37) The Departed        223         99\n",
      "                                  (38) The Pianist        223         99\n",
      "                                    (39) Gladiator        223         99\n",
      "                           (40) American History X        223        363\n",
      "                           (41) The Usual Suspects        223        363\n",
      "                                         (42) Léon        223         99\n",
      "                                (43) The Lion King        223        157\n",
      "                   (44) Terminator 2: Judgment Day        223        363\n",
      "                        (45) Nuovo Cinema Paradiso        223         99\n",
      "                               (46) Hotaru no haka        223        249\n",
      "                           (47) Back to the Future        223         99\n",
      "                 (48) Once Upon a Time in the West        223         99\n",
      "                                       (49) Psycho        223        157\n",
      "                                   (50) Casablanca        223         99\n",
      "                                 (51) Modern Times        223         99\n",
      "                                  (52) City Lights        223         99\n",
      "                                   (53) Capharnaüm        223        351\n",
      "                    (54) Ayla: The Daughter of War        223        363\n",
      "                                 (55) Vikram Vedha        223        363\n",
      "                               (56) Kimi no na wa.        223        363\n",
      "                                       (57) Dangal        223         99\n",
      "            (58) Spider-Man: Into the Spider-Verse        223        363\n",
      "                            (59) Avengers: Endgame        223        363\n",
      "                       (60) Avengers: Infinity War        223        363\n",
      "                                         (61) Coco        223        163\n",
      "                             (62) Django Unchained        223         99\n",
      "                        (63) The Dark Knight Rises        223        157\n",
      "                                     (64) 3 Idiots        223        363\n",
      "                             (65) Taare Zameen Par        223        363\n",
      "                                       (66) WALL·E        223        363\n",
      "                          (67) The Lives of Others        223        363\n",
      "                                     (68) Oldeuboi        223        231\n",
      "                                      (69) Memento        223        347\n",
      "                                (70) Mononoke-hime        223        157\n",
      "                  (71) Once Upon a Time in America        223        319\n",
      "                      (72) Raiders of the Lost Ark        223        157\n",
      "                                  (73) The Shining        223        363\n",
      "                               (74) Apocalypse Now        223        267\n",
      "                                        (75) Alien        223        163\n",
      "                                        (76) Anand        223        363\n",
      "                            (77) Tengoku to jigoku        223         99\n",
      "       (78) Dr. Strangelove or: How I Learned t...        223         99\n",
      "                  (79) Witness for the Prosecution        223         99\n",
      "                               (80) Paths of Glory        223        363\n",
      "                                  (81) Rear Window        223        363\n",
      "                                 (82) Sunset Blvd.        223         99\n",
      "                           (83) The Great Dictator        223         99\n",
      "                                         (84) 1917        223         99\n",
      "                                      (85) Tumbbad        223        363\n",
      "                                    (86) Andhadhun        223         99\n",
      "                                     (87) Drishyam        223        363\n",
      "                                       (88) Jagten        223        363\n",
      "                      (89) Jodaeiye Nader az Simin        223        319\n",
      "                                    (90) Incendies        223        163\n",
      "                         (91) Miracle in cell NO.7        223        363\n",
      "                               (92) Babam ve Oglum        223         99\n",
      "                         (93) Inglourious Basterds        223        363\n",
      "        (94) Eternal Sunshine of the Spotless Mind        223        363\n",
      "                                       (95) Amélie        223        319\n",
      "                                       (96) Snatch        223         99\n",
      "                          (97) Requiem for a Dream        223        249\n",
      "                              (98) American Beauty        223        363\n",
      "                            (99) Good Will Hunting        223        232\n",
      "\n",
      "\n",
      "Extreme nodes for all texts in Layer 11:\n",
      "                                              Text   Min Node   Max Node\n",
      "------------------------------------------------------------------------\n",
      "                      (0) The Shawshank Redemption        223         69\n",
      "                                 (1) The Godfather        223        137\n",
      "                               (2) The Dark Knight        189         69\n",
      "                        (3) The Godfather: Part II        223         69\n",
      "                                  (4) 12 Angry Men        223         69\n",
      "        (5) The Lord of the Rings: The Return o...        223         69\n",
      "                                  (6) Pulp Fiction        223         69\n",
      "                              (7) Schindler's List        223         69\n",
      "                                     (8) Inception        223        137\n",
      "                                    (9) Fight Club        223        137\n",
      "       (10) The Lord of the Rings: The Fellowsh...        223        270\n",
      "                                 (11) Forrest Gump        223         69\n",
      "              (12) Il buono, il brutto, il cattivo        223        137\n",
      "        (13) The Lord of the Rings: The Two Towers        223         69\n",
      "                                   (14) The Matrix        223        137\n",
      "                                   (15) Goodfellas        223        270\n",
      "       (16) Star Wars: Episode V - The Empire S...        118         69\n",
      "              (17) One Flew Over the Cuckoo's Nest        223        137\n",
      "                                     (18) Hamilton        223        137\n",
      "                                 (19) Gisaengchung        223         69\n",
      "                              (20) Soorarai Pottru        223         69\n",
      "                                 (21) Interstellar        223        270\n",
      "                               (22) Cidade de Deus        223        137\n",
      "                (23) Sen to Chihiro no kamikakushi        223        270\n",
      "                          (24) Saving Private Ryan        223         69\n",
      "                               (25) The Green Mile        223         69\n",
      "                              (26) La vita è bella        223         69\n",
      "                                        (27) Se7en        223         69\n",
      "                     (28) The Silence of the Lambs        223        137\n",
      "                                    (29) Star Wars        118         69\n",
      "                                      (30) Seppuku        223         69\n",
      "                         (31) Shichinin no samurai        223         69\n",
      "                        (32) It's a Wonderful Life        223        270\n",
      "                                        (33) Joker        223         69\n",
      "                                     (34) Whiplash        223        270\n",
      "                             (35) The Intouchables        223         69\n",
      "                                 (36) The Prestige        223        270\n",
      "                                 (37) The Departed        223        137\n",
      "                                  (38) The Pianist        223         69\n",
      "                                    (39) Gladiator        223        137\n",
      "                           (40) American History X        223         69\n",
      "                           (41) The Usual Suspects        223        137\n",
      "                                         (42) Léon        223        137\n",
      "                                (43) The Lion King        223         69\n",
      "                   (44) Terminator 2: Judgment Day        223         69\n",
      "                        (45) Nuovo Cinema Paradiso        223         69\n",
      "                               (46) Hotaru no haka        223        270\n",
      "                           (47) Back to the Future        223         69\n",
      "                 (48) Once Upon a Time in the West        223        137\n",
      "                                       (49) Psycho        223        137\n",
      "                                   (50) Casablanca        223         69\n",
      "                                 (51) Modern Times        223         69\n",
      "                                  (52) City Lights        223        137\n",
      "                                   (53) Capharnaüm        223         69\n",
      "                    (54) Ayla: The Daughter of War        223        137\n",
      "                                 (55) Vikram Vedha        223        137\n",
      "                               (56) Kimi no na wa.        223         69\n",
      "                                       (57) Dangal        223        270\n",
      "            (58) Spider-Man: Into the Spider-Verse        223        270\n",
      "                            (59) Avengers: Endgame        223         69\n",
      "                       (60) Avengers: Infinity War        223         69\n",
      "                                         (61) Coco        223         69\n",
      "                             (62) Django Unchained        223        137\n",
      "                        (63) The Dark Knight Rises        223         69\n",
      "                                     (64) 3 Idiots        223         69\n",
      "                             (65) Taare Zameen Par        223         69\n",
      "                                       (66) WALL·E        223         69\n",
      "                          (67) The Lives of Others        223        137\n",
      "                                     (68) Oldeuboi        223         69\n",
      "                                      (69) Memento        223         69\n",
      "                                (70) Mononoke-hime        223         69\n",
      "                  (71) Once Upon a Time in America        223         69\n",
      "                      (72) Raiders of the Lost Ark        223        137\n",
      "                                  (73) The Shining        223        137\n",
      "                               (74) Apocalypse Now        223        137\n",
      "                                        (75) Alien        223        137\n",
      "                                        (76) Anand        223         69\n",
      "                            (77) Tengoku to jigoku        223        137\n",
      "       (78) Dr. Strangelove or: How I Learned t...        223        137\n",
      "                  (79) Witness for the Prosecution        223        270\n",
      "                               (80) Paths of Glory        223        270\n",
      "                                  (81) Rear Window        223        270\n",
      "                                 (82) Sunset Blvd.        223         69\n",
      "                           (83) The Great Dictator        223         69\n",
      "                                         (84) 1917        223        137\n",
      "                                      (85) Tumbbad        223        270\n",
      "                                    (86) Andhadhun        223         69\n",
      "                                     (87) Drishyam        223         69\n",
      "                                       (88) Jagten        223         69\n",
      "                      (89) Jodaeiye Nader az Simin        223         69\n",
      "                                    (90) Incendies        223        270\n",
      "                         (91) Miracle in cell NO.7        223        270\n",
      "                               (92) Babam ve Oglum        223         69\n",
      "                         (93) Inglourious Basterds        223         69\n",
      "        (94) Eternal Sunshine of the Spotless Mind        223         69\n",
      "                                       (95) Amélie        223        270\n",
      "                                       (96) Snatch        118        137\n",
      "                          (97) Requiem for a Dream        223         69\n",
      "                              (98) American Beauty        223         69\n",
      "                            (99) Good Will Hunting        223        137\n",
      "\n"
     ]
    }
   ],
   "source": [
    "min_nodes, max_nodes = find_extreme_nodes_for_all_texts(texts, text_activations, all_texts_data, layer=11)  # Find extreme nodes for all texts in layer 11\n",
    "steered_min_nodes, steered_max_nodes = find_extreme_nodes_for_all_texts(texts, steered_text_activations, all_texts_data, layer=11);  # Find extreme nodes for all texts in steered layer 11"
   ]
  },
  {
   "cell_type": "markdown",
   "id": "a564912c",
   "metadata": {},
   "source": [
    "### Plot Extreme Nodes\n",
    "\n",
    "`plot_extreme_nodes_for_all_texts` plots the neurons we found in `find_extreme_nodes_for_all_texts` with (neuron index, text index)\n",
    "- `min_nodes` is a list of the indexes of the least activated neurons, retrieved from `find_extreme_nodes_for_all_texts`\n",
    "- `max_nodes` is a list of the indexes of the most activated neurons, retrieved from `find_extreme_nodes_for_all_texts`"
   ]
  },
  {
   "cell_type": "code",
   "execution_count": 33,
   "id": "51469d4f",
   "metadata": {},
   "outputs": [
    {
     "data": {
      "image/png": "[encoded data removed]",
      "text/plain": [
       "<Figure size 640x480 with 1 Axes>"
      ]
     },
     "metadata": {},
     "output_type": "display_data"
    },
    {
     "data": {
      "image/png": "[encoded data removed]",
      "text/plain": [
       "<Figure size 640x480 with 1 Axes>"
      ]
     },
     "metadata": {},
     "output_type": "display_data"
    }
   ],
   "source": [
    "plot_extreme_nodes_for_all_texts(min_nodes, max_nodes, layer=11)  # Plot extreme nodes for all texts in layer 11\n",
    "plot_extreme_nodes_for_all_texts(steered_min_nodes, steered_max_nodes, layer=11)  # Plot extreme nodes for all texts in steered layer 11"
   ]
  }
 ],
 "metadata": {
  "kernelspec": {
   "display_name": "embed",
   "language": "python",
   "name": "python3"
  },
  "language_info": {
   "codemirror_mode": {
    "name": "ipython",
    "version": 3
   },
   "file_extension": ".py",
   "mimetype": "text/x-python",
   "name": "python",
   "nbconvert_exporter": "python",
   "pygments_lexer": "ipython3",
   "version": "3.12.11"
  }
 },
 "nbformat": 4,
 "nbformat_minor": 5
}
